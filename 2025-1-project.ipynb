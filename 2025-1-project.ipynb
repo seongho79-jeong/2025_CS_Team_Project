{
 "cells": [
  {
   "cell_type": "markdown",
   "metadata": {},
   "source": [
    "> ### EEE6503-01: Computer Vision\n",
    "\n",
    "# Final Project: Domain Generalization"
   ]
  },
  {
   "cell_type": "markdown",
   "metadata": {},
   "source": [
    "**<div style=\"text-align: right\"> Due date: June 17th, 2025. </div>** \n",
    "**<div style=\"text-align: right\"> Please upload your file @ learnus by 11:00 PM. </div>** "
   ]
  },
  {
   "cell_type": "markdown",
   "metadata": {},
   "source": [
    "### *Assignment Instructions:*\n",
    "1. Write a program implementing a particular algorithm to solve a given problem.\n",
    "2. You can use both Korean and English for your report.\n",
    "3. **Analyze the algorithm, theoretically and empirically.** \n",
    "4. **Report your results.**   "
   ]
  },
  {
   "cell_type": "markdown",
   "metadata": {},
   "source": [
    "<h2><span style=\"color:blue\">[Group 10: 최광일, 정성호]</span> </h2>"
   ]
  },
  {
   "cell_type": "code",
   "execution_count": 1,
   "metadata": {},
   "outputs": [
    {
     "name": "stdout",
     "output_type": "stream",
     "text": [
      "This code is written at 2025-06-16 08:51:38.617183\n"
     ]
    }
   ],
   "source": [
    "import datetime\n",
    "print(\"This code is written at \" + str(datetime.datetime.now()))"
   ]
  },
  {
   "cell_type": "markdown",
   "metadata": {},
   "source": [
    "The objective of this assignment is to address the domain generalization problem in neural networks."
   ]
  },
  {
   "cell_type": "code",
   "execution_count": 2,
   "metadata": {},
   "outputs": [],
   "source": [
    "# You may change the values below.\n",
    "team_id = '010' # your team id - should be a three-digit number\n",
    "root_dir = '../../PACS' # directory to the dataset\n",
    "lr = 0.0001 # learning rate\n",
    "step_size = 10 # scheduler step size (if used)\n",
    "\n",
    "# You must not change the values below.\n",
    "num_epochs = 10 # number of epochs\n",
    "image_size = 64 # input image size\n",
    "batch_size = 32 # batch size for training\n",
    "model_name = f'{team_id}_model.pth' # model name\n",
    "TEST_MODE = False # test mode -- evaluation for TAs\n",
    "ONE_MODEL_MODE = False"
   ]
  },
  {
   "cell_type": "code",
   "execution_count": 3,
   "metadata": {},
   "outputs": [],
   "source": [
    "import os\n",
    "\n",
    "import torch\n",
    "import torch.nn as nn\n",
    "import torch.optim as optim\n",
    "import torch.optim.lr_scheduler as lr_scheduler\n",
    "import matplotlib.pyplot as plt\n",
    "\n",
    "from PIL import Image\n",
    "from torch.utils.data import ConcatDataset, DataLoader, Dataset\n",
    "from torchvision import models\n",
    "from torchvision.transforms import transforms\n",
    "from tqdm import tqdm\n",
    "\n",
    "# FPJ-GC\n",
    "import torch.nn.functional as F\n",
    "from torchvision.utils import make_grid\n",
    "\n",
    "# FACT\n",
    "from torch.fft import rfft2, irfft2\n",
    "\n",
    "os.environ['CUDA_VISIBLE_DEVICES'] = '0'\n",
    "device = torch.device('cuda' if torch.cuda.is_available() else 'cpu')"
   ]
  },
  {
   "cell_type": "code",
   "execution_count": 4,
   "metadata": {},
   "outputs": [],
   "source": [
    "class PACSDataset(Dataset):\n",
    "\tdef __init__(self, root_dir, domain, transform=None):\n",
    "\t\t\"\"\"\n",
    "\t\tArgs:\n",
    "\t\t\troot_dir (string): Directory with all the images.\n",
    "\t\t\tdomains (list): Containing domains of interest, with element choices: \n",
    "\t\t\t\t['photo', 'art_painting', 'cartoon', 'sketch'].\n",
    "\t\t\ttransform (callable, optional): Optional transform to be applied on a sample.\n",
    "\t\t\"\"\"        \n",
    "\t\tself.root_dir = root_dir\n",
    "\t\tself.domain = domain\n",
    "\t\tself.transform = transform\n",
    "\n",
    "\t\tself.classes = ['dog', 'elephant', 'giraffe', 'guitar', 'horse', 'house', 'person']\n",
    "\t\tself.class_to_idx = {cls_name: i for i, cls_name in enumerate(self.classes)}\n",
    "\n",
    "\t\tself.images = []\n",
    "\t\tself.labels = []\n",
    "\n",
    "\t\t# Load images and labels\n",
    "\t\tdomain_dir = os.path.join(self.root_dir, self.domain)\n",
    "\t\tfor cls_name in self.classes:\n",
    "\t\t\tcls_dir = os.path.join(domain_dir, cls_name)\n",
    "\t\t\timage_files = [f for f in os.listdir(cls_dir) if f.lower().endswith(('.jpg', '.png'))]\n",
    "\n",
    "\t\t\tfor img_name in image_files:\n",
    "\t\t\t\tself.images.append(os.path.join(cls_dir, img_name))\n",
    "\t\t\t\tself.labels.append(self.class_to_idx[cls_name])\n",
    "\n",
    "\tdef __len__(self):\n",
    "\t\treturn len(self.images)\n",
    "\n",
    "\tdef __getitem__(self, idx):\n",
    "\t\timg_path = self.images[idx]\n",
    "\t\timage = Image.open(img_path).convert('RGB')\n",
    "\t\tlabel = self.labels[idx]\n",
    "\n",
    "\t\tif self.transform:\n",
    "\t\t\timage = self.transform(image)\n",
    "\n",
    "\t\treturn image, label"
   ]
  },
  {
   "cell_type": "code",
   "execution_count": 5,
   "metadata": {},
   "outputs": [],
   "source": [
    "# Define transforms\n",
    "transform_train = transforms.Compose([\n",
    "\ttransforms.Resize((image_size, image_size)),\n",
    "\ttransforms.ColorJitter(brightness=0.4, contrast=0.4, saturation=0.4, hue=0.1),\n",
    "\ttransforms.ToTensor(),\n",
    "\ttransforms.Normalize(mean=[0.485, 0.456, 0.406], std=[0.229, 0.224, 0.225]),\n",
    "\t])\n",
    "\n",
    "transform_test = transforms.Compose([\n",
    "\ttransforms.Resize((image_size, image_size)),\n",
    "\ttransforms.ToTensor(),\n",
    "\ttransforms.Normalize(mean=[0.485, 0.456, 0.406], std=[0.229, 0.224, 0.225])\n",
    "\t])\n",
    "\n",
    "# Create datasets\n",
    "dataset_train = ConcatDataset([\n",
    "\tPACSDataset(root_dir, 'cartoon', transform=transform_train),\n",
    "\tPACSDataset(root_dir, 'art_painting', transform=transform_train),\n",
    "\tPACSDataset(root_dir, 'sketch', transform=transform_train),\n",
    "\t])\n",
    "\n",
    "dataset_test = PACSDataset(root_dir, 'photo', transform=transform_test)\n",
    "\n",
    "loader_train = DataLoader(dataset_train, batch_size=batch_size, shuffle=True)\n",
    "loader_test = DataLoader(dataset_test, batch_size=batch_size, shuffle=False)"
   ]
  },
  {
   "cell_type": "code",
   "execution_count": 6,
   "metadata": {},
   "outputs": [],
   "source": [
    "# Let's visualize some images from the training set\n",
    "\n",
    "import matplotlib.pyplot as plt\n",
    "import numpy as np\n",
    "\n",
    "def visualize_example_images(root_dir, domain):\n",
    "\tassert domain in ['art_painting', 'sketch', 'cartoon']\n",
    "\n",
    "\tdef denormalize(tensor):\n",
    "\t\t\"\"\"Denormalize the image tensor for visualization\"\"\"\n",
    "\t\tmean = torch.tensor([0.485, 0.456, 0.406]).reshape(3, 1, 1)\n",
    "\t\tstd = torch.tensor([0.229, 0.224, 0.225]).reshape(3, 1, 1)\n",
    "\t\treturn tensor * std + mean\n",
    "\t\n",
    " \t# Create dataset\n",
    "\tdataset = PACSDataset(root_dir=root_dir, domain=domain, transform=transform_train)\n",
    "\n",
    "\t# Create a figure with subplots for each class\n",
    "\tfig, axs = plt.subplots(1, 7, figsize=(15, 3))\n",
    "\tfig.suptitle('Sample Images from Each Category')\n",
    "\n",
    "\t# For each class\n",
    "\tfor i, class_name in enumerate(dataset.classes):\n",
    "\t\t# Find first image of this class\n",
    "\t\tfor idx in range(len(dataset)):\n",
    "\t\t\tif dataset.labels[idx] == i:\n",
    "\t\t\t\timage, _ = dataset[idx]\n",
    "\t\t\t\t\n",
    "\t\t\t\t# Denormalize the image\n",
    "\t\t\t\timage = denormalize(image)\n",
    "\t\t\t\t\n",
    "\t\t\t\t# Convert to numpy and transpose for plotting\n",
    "\t\t\t\timage = image.numpy().transpose(1, 2, 0)\n",
    "\t\t\t\t\n",
    "\t\t\t\t# Clip values to [0, 1] range\n",
    "\t\t\t\timage = np.clip(image, 0, 1)\n",
    "\t\t\t\t\n",
    "\t\t\t\t# Plot\n",
    "\t\t\t\taxs[i].imshow(image)\n",
    "\t\t\t\taxs[i].set_title(class_name)\n",
    "\t\t\t\taxs[i].axis('off')\n",
    "\t\t\t\tbreak\n",
    "\n",
    "\tplt.tight_layout()\n",
    "\tplt.show()"
   ]
  },
  {
   "cell_type": "code",
   "execution_count": 7,
   "metadata": {},
   "outputs": [
    {
     "data": {
      "image/png": "[encoded data removed]",
      "text/plain": [
       "<Figure size 1500x300 with 7 Axes>"
      ]
     },
     "metadata": {},
     "output_type": "display_data"
    }
   ],
   "source": [
    "visualize_example_images(root_dir, 'art_painting')"
   ]
  },
  {
   "cell_type": "code",
   "execution_count": 8,
   "metadata": {},
   "outputs": [
    {
     "data": {
      "image/png": "[encoded data removed]",
      "text/plain": [
       "<Figure size 1500x300 with 7 Axes>"
      ]
     },
     "metadata": {},
     "output_type": "display_data"
    }
   ],
   "source": [
    "visualize_example_images(root_dir, 'cartoon')"
   ]
  },
  {
   "cell_type": "code",
   "execution_count": 9,
   "metadata": {},
   "outputs": [
    {
     "data": {
      "image/png": "[encoded data removed]",
      "text/plain": [
       "<Figure size 1500x300 with 7 Axes>"
      ]
     },
     "metadata": {},
     "output_type": "display_data"
    }
   ],
   "source": [
    "visualize_example_images(root_dir, 'sketch')"
   ]
  },
  {
   "cell_type": "markdown",
   "metadata": {},
   "source": [
    "# Train : BASE"
   ]
  },
  {
   "cell_type": "code",
   "execution_count": 10,
   "metadata": {
    "scrolled": false
   },
   "outputs": [],
   "source": [
    "def train_base():\n",
    "# Load ResNet50 model pre-trained on ImageNet\n",
    "\tmodel = models.resnet50(weights='ResNet50_Weights.DEFAULT')\n",
    "\n",
    "\t# Modify the last fully connected layer for 7 classes (PACS has 7 classes)\n",
    "\tnum_features = model.fc.in_features\n",
    "\tmodel.fc = nn.Linear(num_features, 7)\n",
    "\n",
    "\t# Instantiate loss, optimizer, and scheduler\n",
    "\tcriterion = nn.CrossEntropyLoss()\n",
    "\toptimizer = optim.SGD(model.parameters(), lr=lr, momentum=0.9)\n",
    "\tscheduler = lr_scheduler.StepLR(optimizer, step_size=step_size, gamma=0.1)\n",
    "\n",
    "\tmax_accuracy = 0.0\n",
    "\ttrain_losses, test_accuracies = [], []\n",
    "\tif not TEST_MODE:\n",
    "\t\tdevice = torch.device('cuda' if torch.cuda.is_available() else 'cpu')\n",
    "\n",
    "\t\tmodel = model.to(device)\n",
    "\n",
    "\t\tfor epoch in range(num_epochs):\n",
    "\t\t\tmodel.train()\n",
    "\t\t\trunning_loss = 0.0\n",
    "\t\t\tcorrect = 0\n",
    "\t\t\ttotal = 0\n",
    "\n",
    "\t\t\tfor i, (inputs, labels) in enumerate(tqdm(loader_train, desc=f'Epoch {epoch+1}/{num_epochs}')):\n",
    "\t\t\t\tinputs, labels = inputs.to(device), labels.to(device)\n",
    "\n",
    "\t\t\t\toptimizer.zero_grad()\n",
    "\n",
    "\t\t\t\toutputs = model(inputs)\n",
    "\n",
    "\t\t\t\tloss = criterion(outputs, labels)\n",
    "\t\t\t\tloss.backward()\n",
    "\t\t\t\toptimizer.step()\n",
    "\n",
    "\t\t\t\trunning_loss += loss.item()\n",
    "\t\t\t\t_, predicted = outputs.max(1)\n",
    "\t\t\t\ttotal += labels.size(0)\n",
    "\t\t\t\tcorrect += predicted.eq(labels).sum().item()\n",
    "\n",
    "\t\t\t\t# Store loss at every iteration\n",
    "\t\t\t\ttrain_losses.append(loss.item())\n",
    "\t\t\t\t\n",
    "\t\t\tscheduler.step()\n",
    "\n",
    "\t\t\t# Validation\n",
    "\t\t\tmodel.eval()\n",
    "\t\t\tcorrect = 0\n",
    "\t\t\ttotal = 0\n",
    "\t\t\twith torch.no_grad():\n",
    "\t\t\t\tfor inputs, labels in loader_test:\n",
    "\t\t\t\t\tinputs, labels = inputs.to(device), labels.to(device)\n",
    "\t\t\t\t\toutputs = model(inputs)\n",
    "\t\t\t\t\t_, predicted = outputs.max(1)\n",
    "\t\t\t\t\ttotal += labels.size(0)\n",
    "\t\t\t\t\tcorrect += predicted.eq(labels).sum().item()\n",
    "\n",
    "\t\t\ttest_accuracy = 100 * correct / total\n",
    "\t\t\ttest_accuracies.append(test_accuracy)\n",
    "\t\t\tmax_accuracy = max(max_accuracy, test_accuracy)\n",
    "\t\t\n",
    "\t\t\tcurrent_lr = optimizer.param_groups[0]['lr']\n",
    "\t\t\tprint(f'Epoch [{epoch+1}/{num_epochs}], '\n",
    "\t\t\t\t\t\tf'Loss: {running_loss/len(loader_train):.4f}, '\n",
    "\t\t\t\t\t\tf'Test Accuracy: {test_accuracy:.2f}%, '\n",
    "\t\t\t\t\t\tf'Learning Rate: {current_lr:.6f}')\n",
    "\n",
    "\t\tprint('Finished Training')\n",
    "\n",
    "\t\t# Save the model - make sure you include this file in your submission\n",
    "\t\ttorch.save(model.state_dict(), f'./{model_name}_base')\n",
    "\n",
    "\tif ONE_MODEL_MODE : \n",
    "\t\t# Plotting after training is finished\n",
    "\t\tplt.figure(figsize=(6, 4))\n",
    "\n",
    "\t\t# Plot training loss\n",
    "\t\tplt.subplot(1, 2, 1)\n",
    "\t\tplt.plot(train_losses)\n",
    "\t\tplt.title('Training Loss')\n",
    "\t\tplt.xlabel('Iteration')\n",
    "\t\tplt.ylabel('Loss')\n",
    "\n",
    "\t\t# Plot test accuracy\n",
    "\t\tplt.subplot(1, 2, 2)\n",
    "\t\tplt.plot(test_accuracies)\n",
    "\t\tplt.title('Test Accuracy')\n",
    "\t\tplt.xlabel('Epoch')\n",
    "\t\tplt.ylabel('Accuracy (%)')\n",
    "\n",
    "\t\tplt.tight_layout()\n",
    "\t\tplt.show()\n",
    "\treturn max_accuracy, train_losses, test_accuracies"
   ]
  },
  {
   "cell_type": "code",
   "execution_count": 11,
   "metadata": {},
   "outputs": [],
   "source": [
    "if ONE_MODEL_MODE : \n",
    "    train_base()"
   ]
  },
  {
   "cell_type": "markdown",
   "metadata": {},
   "source": [
    "# Train : MMD"
   ]
  },
  {
   "cell_type": "code",
   "execution_count": 12,
   "metadata": {},
   "outputs": [],
   "source": [
    "# 수정된 ResNet50 with intermediate feature hook\n",
    "class ResNetWithFeatures(nn.Module):\n",
    "    def __init__(self, num_classes=7):\n",
    "        super().__init__()\n",
    "        base = models.resnet50(weights='ResNet50_Weights.DEFAULT')\n",
    "        self.backbone = nn.Sequential(*list(base.children())[:-1])  # fc 제거\n",
    "        self.fc = nn.Linear(base.fc.in_features, num_classes)\n",
    "\n",
    "    def forward(self, x, return_features=False):\n",
    "        features = self.backbone(x)\n",
    "        features = features.view(features.size(0), -1)  # flatten\n",
    "        logits = self.fc(features)\n",
    "        if return_features:\n",
    "            return logits, features\n",
    "        return logits\n",
    "\n",
    "# MMD 구현 함수\n",
    "def gaussian_kernel(x, y, sigma_val):\n",
    "    x = x.unsqueeze(1)          # (B,1,D)\n",
    "    y = y.unsqueeze(0)          # (1,B,D)\n",
    "    dist = ((x - y) ** 2).sum(2)\n",
    "    return torch.exp(-dist / (2 * sigma_val ** 2 + 1e-8))\n",
    "\n",
    "def compute_mmd(x1, x2, sigmas=(1, 2, 4, 8)):\n",
    "    mmd2 = 0\n",
    "    for s in sigmas:\n",
    "        Kxx = gaussian_kernel(x1, x1, s)\n",
    "        Kyy = gaussian_kernel(x2, x2, s)\n",
    "        Kxy = gaussian_kernel(x1, x2, s)\n",
    "\n",
    "        # unbiased: diag 제외\n",
    "        def off_diag(mat):      # (N,N)\n",
    "            return mat.sum() - mat.diagonal().sum()\n",
    "\n",
    "        m = x1.size(0); n = x2.size(0)\n",
    "        mmd2 += (off_diag(Kxx) / (m*(m-1))\n",
    "                + off_diag(Kyy) / (n*(n-1))\n",
    "                - 2 * Kxy.mean())\n",
    "    return mmd2 / len(sigmas)\n",
    "\n",
    "lambda_mmd = 0.1  # MMD 손실 가중치"
   ]
  },
  {
   "cell_type": "code",
   "execution_count": 13,
   "metadata": {},
   "outputs": [],
   "source": [
    "class PACSDatasetWithDomain(PACSDataset):\n",
    "    def __init__(self, root_dir, domain_name, domain_id, transform=None):\n",
    "        super().__init__(root_dir, domain_name, transform=transform)\n",
    "        self.domain_id = domain_id\n",
    "\n",
    "    def __getitem__(self, idx):\n",
    "        image, label = super().__getitem__(idx)\n",
    "        return image, label, self.domain_id\n",
    "# 도메인별 정수 ID 지정\n",
    "domain_to_id = {'cartoon': 0, 'art_painting': 1, 'sketch': 2}\n",
    "\n",
    "dataset_train_mmd = ConcatDataset([\n",
    "    PACSDatasetWithDomain(root_dir, 'cartoon', domain_to_id['cartoon'], transform=transform_train),\n",
    "    PACSDatasetWithDomain(root_dir, 'art_painting', domain_to_id['art_painting'], transform=transform_train),\n",
    "    PACSDatasetWithDomain(root_dir, 'sketch', domain_to_id['sketch'], transform=transform_train),\n",
    "])\n",
    "dataset_test_mmd = PACSDataset(root_dir, 'photo', transform=transform_test)\n",
    "loader_train_mmd = DataLoader(dataset_train_mmd, batch_size=batch_size, shuffle=True)"
   ]
  },
  {
   "cell_type": "code",
   "execution_count": 14,
   "metadata": {},
   "outputs": [],
   "source": [
    "def train_mmd():\n",
    "\tmodel_mmd = ResNetWithFeatures(num_classes=7)\n",
    "\n",
    "\t# Instantiate loss, optimizer, and scheduler\n",
    "\tcriterion_mmd = nn.CrossEntropyLoss()\n",
    "\toptimizer_mmd = optim.SGD(model_mmd.parameters(), lr=lr, momentum=0.9)\n",
    "\tscheduler_mmd = lr_scheduler.StepLR(optimizer_mmd, step_size=step_size, gamma=0.1)\n",
    "\n",
    "\n",
    "\t# Lists to store loss and accuracy values\n",
    "\tmax_accuracy = 0.0\n",
    "\ttrain_losses, test_accuracies = [], []\n",
    "\tif not TEST_MODE:\n",
    "\t\tdevice = torch.device('cuda' if torch.cuda.is_available() else 'cpu')\n",
    "\n",
    "\t\tmodel_mmd = model_mmd.to(device)\n",
    "\n",
    "\t\tfor epoch in range(num_epochs):\n",
    "\t\t\tmodel_mmd.train()\n",
    "\t\t\trunning_loss = 0.0\n",
    "\t\t\tcorrect = 0\n",
    "\t\t\ttotal = 0\n",
    "\n",
    "\t\t\tcls_tot = 0.0\n",
    "\t\t\tcls_cnt = 0\n",
    "\t\t\tmmd_tot = 0.0\n",
    "\t\t\tmmd_cnt = 0\n",
    "\n",
    "\t\t\tfor i, (inputs, labels, domains) in enumerate(tqdm(loader_train_mmd, desc=f'Epoch {epoch+1}/{num_epochs}')):\n",
    "\t\t\t\tinputs, labels, domains = inputs.to(device), labels.to(device), domains.to(device)\n",
    "\n",
    "\t\t\t\toptimizer_mmd.zero_grad()\n",
    "\n",
    "\t\t\t\toutputs, features = model_mmd(inputs, return_features=True)\n",
    "\n",
    "\t\t\t\tloss = criterion_mmd(outputs, labels)\n",
    "\n",
    "\t\t\t\tcls_tot += loss.item()\n",
    "\t\t\t\tcls_cnt += 1\n",
    "\n",
    "\t\t\t\tunique_domains = torch.unique(domains)\n",
    "\t\t\t\tmmd_loss = 0.0\n",
    "\t\t\t\tfor di in range(len(unique_domains)):\n",
    "\t\t\t\t\tfor dj in range(di + 1, len(unique_domains)):\n",
    "\t\t\t\t\t\tf1 = features[domains == unique_domains[di]]\n",
    "\t\t\t\t\t\tf2 = features[domains == unique_domains[dj]]\n",
    "\t\t\t\t\t\tif f1.size(0) > 1 and f2.size(0) > 1:\n",
    "\t\t\t\t\t\t\tpair_mmd = compute_mmd(f1, f2)\n",
    "\t\t\t\t\t\t\tmmd_loss += pair_mmd\n",
    "\t\t\t\t\t\t\tmmd_tot  += pair_mmd.item()\n",
    "\t\t\t\t\t\t\tmmd_cnt += 1\n",
    "\n",
    "\t\t\t\tif mmd_cnt > 0:\n",
    "\t\t\t\t\tmmd_loss = mmd_loss / mmd_cnt\n",
    "\n",
    "\t\t\t\tloss = loss + lambda_mmd * mmd_loss\n",
    "\t\t\t\tloss.backward()\n",
    "\t\t\t\toptimizer_mmd.step()\n",
    "\n",
    "\t\t\t\trunning_loss += loss.item()\n",
    "\t\t\t\t_, predicted = outputs.max(1)\n",
    "\t\t\t\ttotal += labels.size(0)\n",
    "\t\t\t\tcorrect += predicted.eq(labels).sum().item()\n",
    "\n",
    "\t\t\t\t# Store loss at every iteration\n",
    "\t\t\t\ttrain_losses.append(loss.item())\n",
    "\t\t\t\t\n",
    "\t\t\tscheduler_mmd.step()\n",
    "\n",
    "\t\t\t# Validation\n",
    "\t\t\tmodel_mmd.eval()\n",
    "\t\t\tcorrect = 0\n",
    "\t\t\ttotal = 0\n",
    "\t\t\twith torch.no_grad():\n",
    "\t\t\t\tfor inputs, labels in loader_test:\n",
    "\t\t\t\t\tinputs, labels = inputs.to(device), labels.to(device)\n",
    "\t\t\t\t\toutputs, features = model_mmd(inputs, return_features=True)\n",
    "\t\t\t\t\t_, predicted = outputs.max(1)\n",
    "\t\t\t\t\ttotal += labels.size(0)\n",
    "\t\t\t\t\tcorrect += predicted.eq(labels).sum().item()\n",
    "\n",
    "\t\t\ttest_accuracy = 100 * correct / total\n",
    "\t\t\ttest_accuracies.append(test_accuracy)\n",
    "\t\t\tmax_accuracy = max(max_accuracy, test_accuracy)\n",
    "\t\t\n",
    "\t\t\tcurrent_lr = optimizer_mmd.param_groups[0]['lr']\n",
    "\t\t\tprint(f'Epoch [{epoch+1}/{num_epochs}], '\n",
    "\t\t\t\t\t\tf'Loss: {running_loss/len(loader_train):.4f}, '\n",
    "\t\t\t\t\t\tf'Test Accuracy: {test_accuracy:.2f}%, '\n",
    "\t\t\t\t\t\tf'Learning Rate: {current_lr:.6f}, '\n",
    "\t\t\t\t\t\tf'Average MMD: {mmd_tot / (mmd_cnt + 1e-5):.4f}, '\n",
    "\t\t\t\t\t\tf'Average CLS: {cls_tot / (cls_cnt + 1e-5):.4f}')\n",
    "\n",
    "\t\tprint('Finished Training')\n",
    "\n",
    "\t\t# Save the model - make sure you include this file in your submission\n",
    "\t\ttorch.save(model_mmd.state_dict(), f'./{model_name}_mmd')\n",
    "\n",
    "\tif ONE_MODEL_MODE : \n",
    "\t\t# Plotting after training is finished\n",
    "\t\tplt.figure(figsize=(6, 4))\n",
    "\n",
    "\t\t# Plot training loss\n",
    "\t\tplt.subplot(1, 2, 1)\n",
    "\t\tplt.plot(train_losses)\n",
    "\t\tplt.title('Training Loss')\n",
    "\t\tplt.xlabel('Iteration')\n",
    "\t\tplt.ylabel('Loss')\n",
    "\n",
    "\t\t# Plot test accuracy\n",
    "\t\tplt.subplot(1, 2, 2)\n",
    "\t\tplt.plot(test_accuracies)\n",
    "\t\tplt.title('Test Accuracy')\n",
    "\t\tplt.xlabel('Epoch')\n",
    "\t\tplt.ylabel('Accuracy (%)')\n",
    "\n",
    "\t\tplt.tight_layout()\n",
    "\t\tplt.show()\n",
    "\treturn max_accuracy, train_losses, test_accuracies"
   ]
  },
  {
   "cell_type": "code",
   "execution_count": 15,
   "metadata": {},
   "outputs": [],
   "source": [
    "if ONE_MODEL_MODE : \n",
    "    train_mmd()"
   ]
  },
  {
   "cell_type": "markdown",
   "metadata": {},
   "source": [
    "# Train : FACT"
   ]
  },
  {
   "cell_type": "code",
   "execution_count": 16,
   "metadata": {},
   "outputs": [],
   "source": [
    "def amplitude_mix(images, eta=0.5):\n",
    "    \"\"\"\n",
    "    images : (B, C, H, W)  float tensor\n",
    "    returns: 동일 shape (B, C, H, W)\n",
    "    \"\"\"\n",
    "    B, C, H, W = images.shape\n",
    "    perm = torch.randperm(B, device=images.device)\n",
    "    imgs2 = images[perm]\n",
    "\n",
    "    # FFT\n",
    "    fft1 = torch.fft.rfft2(images, norm='ortho')\n",
    "    fft2 = torch.fft.rfft2(imgs2,  norm='ortho')\n",
    "\n",
    "    amp1, phase1 = torch.abs(fft1), torch.angle(fft1)\n",
    "    amp2 = torch.abs(fft2)\n",
    "\n",
    "    # -------- FIXED: 4-D λ --------\n",
    "    lam = eta * torch.rand(B, 1, 1, 1, device=images.device)\n",
    "    amp_mix = lam * amp1 + (1 - lam) * amp2\n",
    "    # ------------------------------\n",
    "\n",
    "    fft_mix = amp_mix * torch.exp(1j * phase1)\n",
    "    aug = torch.fft.irfft2(fft_mix, s=(H, W), norm='ortho')\n",
    "\n",
    "    # 값 범위/자료형 보정\n",
    "    return aug.clamp_(images.min(), images.max()).type_as(images)\n",
    "\n",
    "eta   = 0.3     # Amplitude 혼합 세기\n",
    "beta  = 0.25     # Consistency 손실 가중치\n",
    "temp  = 3.0     # Temperature scaling"
   ]
  },
  {
   "cell_type": "code",
   "execution_count": 17,
   "metadata": {},
   "outputs": [],
   "source": [
    "def train_fact():\n",
    "    # Load ResNet50 model pre-trained on ImageNet\n",
    "    model_fact = models.resnet50(weights='ResNet50_Weights.DEFAULT')\n",
    "\n",
    "    # Modify the last fully connected layer for 7 classes (PACS has 7 classes)\n",
    "    num_features = model_fact.fc.in_features\n",
    "    model_fact.fc = nn.Linear(num_features, 7)\n",
    "\n",
    "    # Instantiate loss, optimizer, and scheduler\n",
    "    criterion_fact = nn.CrossEntropyLoss()\n",
    "    optimizer_fact = optim.SGD(model_fact.parameters(), lr=lr, momentum=0.9)\n",
    "    scheduler_fact = lr_scheduler.StepLR(optimizer_fact, step_size=step_size, gamma=0.1)\n",
    "\n",
    "    max_accuracy = 0.0\n",
    "    train_losses, test_accuracies = [], []\n",
    "\n",
    "    if not TEST_MODE:\n",
    "        device = torch.device('cuda' if torch.cuda.is_available() else 'cpu')\n",
    "\n",
    "        model_fact = model_fact.to(device)\n",
    "\n",
    "        for epoch in range(num_epochs):\n",
    "            model_fact.train()\n",
    "            running_loss = 0.0\n",
    "            correct = 0\n",
    "            total = 0\n",
    "\n",
    "            for i, (inputs, labels) in enumerate(tqdm(loader_train, desc=f'Epoch {epoch+1}/{num_epochs}')):\n",
    "                inputs, labels = inputs.to(device), labels.to(device)\n",
    "\n",
    "                # ① FACT 증강\n",
    "                inputs_aug = amplitude_mix(inputs, eta=eta)\n",
    "\n",
    "                # ② Forward\n",
    "                outputs_ori = model_fact(inputs)        # 원본\n",
    "                outputs_aug = model_fact(inputs_aug)    # 증강본\n",
    "\n",
    "                # ③ 손실 계산\n",
    "                loss_cls_ori = criterion_fact(outputs_ori, labels)\n",
    "                loss_cls_aug = criterion_fact(outputs_aug, labels)\n",
    "\n",
    "                p_ori = F.log_softmax(outputs_ori / temp, dim=1)\n",
    "                q_aug = F.softmax(outputs_aug / temp, dim=1)\n",
    "                p_aug = F.log_softmax(outputs_aug / temp, dim=1)\n",
    "                q_ori = F.softmax(outputs_ori / temp, dim=1)\n",
    "                loss_cons = (F.kl_div(p_ori, q_aug, reduction='batchmean') +\n",
    "                            F.kl_div(p_aug, q_ori, reduction='batchmean')) * (temp ** 2) / 2\n",
    "\n",
    "                loss = loss_cls_ori + loss_cls_aug + beta * loss_cons\n",
    "\n",
    "                # ④ Back-prop\n",
    "                optimizer_fact.zero_grad()\n",
    "\n",
    "                loss.backward()\n",
    "                optimizer_fact.step()\n",
    "\n",
    "                running_loss += loss.item()\n",
    "                _, predicted = outputs_ori.max(1)\n",
    "                total += labels.size(0)\n",
    "                correct += predicted.eq(labels).sum().item()\n",
    "\n",
    "                # Store loss at every iteration\n",
    "                train_losses.append(loss.item())\n",
    "\n",
    "            scheduler_fact.step()\n",
    "\n",
    "            # Validation\n",
    "            model_fact.eval()\n",
    "            correct = 0\n",
    "            total = 0\n",
    "            with torch.no_grad():\n",
    "                for inputs, labels in loader_test:\n",
    "                    inputs, labels = inputs.to(device), labels.to(device)\n",
    "                    outputs = model_fact(inputs)\n",
    "                    _, predicted = outputs.max(1)\n",
    "                    total += labels.size(0)\n",
    "                    correct += predicted.eq(labels).sum().item()\n",
    "\n",
    "            test_accuracy = 100 * correct / total\n",
    "            test_accuracies.append(test_accuracy)\n",
    "            max_accuracy = max(max_accuracy, test_accuracy)\n",
    "            \n",
    "            current_lr = optimizer_fact.param_groups[0]['lr']\n",
    "            print(f'Epoch [{epoch+1}/{num_epochs}], '\n",
    "                        f'Loss: {running_loss/len(loader_train):.4f}, '\n",
    "                        f'Test Accuracy: {test_accuracy:.2f}%, '\n",
    "                        f'Learning Rate: {current_lr:.6f}')\n",
    "\n",
    "        print('Finished Training')\n",
    "\n",
    "        # Save the model - make sure you include this file in your submission\n",
    "        torch.save(model_fact.state_dict(), f'./{model_name}_fact')\n",
    "    \n",
    "    if ONE_MODEL_MODE : \n",
    "        # Plotting after training is finished\n",
    "        plt.figure(figsize=(6, 4))\n",
    "\n",
    "        # Plot training loss\n",
    "        plt.subplot(1, 2, 1)\n",
    "        plt.plot(train_losses)\n",
    "        plt.title('Training Loss')\n",
    "        plt.xlabel('Iteration')\n",
    "        plt.ylabel('Loss')\n",
    "\n",
    "        # Plot test accuracy\n",
    "        plt.subplot(1, 2, 2)\n",
    "        plt.plot(test_accuracies)\n",
    "        plt.title('Test Accuracy')\n",
    "        plt.xlabel('Epoch')\n",
    "        plt.ylabel('Accuracy (%)')\n",
    "\n",
    "        plt.tight_layout()\n",
    "        plt.show()\n",
    "    return max_accuracy, train_losses, test_accuracies"
   ]
  },
  {
   "cell_type": "code",
   "execution_count": 18,
   "metadata": {},
   "outputs": [],
   "source": [
    "if ONE_MODEL_MODE : \n",
    "    train_fact()"
   ]
  },
  {
   "cell_type": "markdown",
   "metadata": {},
   "source": [
    "# Train : MMD + Cosine similarity"
   ]
  },
  {
   "cell_type": "code",
   "execution_count": 19,
   "metadata": {},
   "outputs": [],
   "source": [
    "# 수정된 ResNet50 with intermediate feature hook\n",
    "class ResNetWithFeatures(nn.Module):\n",
    "    def __init__(self, num_classes=7):\n",
    "        super().__init__()\n",
    "        base = models.resnet50(weights='ResNet50_Weights.DEFAULT')\n",
    "        self.backbone = nn.Sequential(*list(base.children())[:-1])  # fc 제거\n",
    "        self.fc = nn.Linear(base.fc.in_features, num_classes)\n",
    "\n",
    "    def forward(self, x, return_features=False):\n",
    "        features = self.backbone(x)\n",
    "        features = features.view(features.size(0), -1)  # flatten\n",
    "        logits = self.fc(features)\n",
    "        if return_features:\n",
    "            return logits, features\n",
    "        return logits\n",
    "    \n",
    "# cosine_sim 구현 함수\n",
    "def cosine_kernel(x, y):\n",
    "    x = F.normalize(x, dim=1)  # L2 정규화\n",
    "    y = F.normalize(y, dim=1)\n",
    "    return x @ y.t()           \n",
    "\n",
    "def compute_cosine_similarity(x1, x2):\n",
    "    loss = 0\n",
    "\n",
    "    Cxy = cosine_kernel(x1, x2)\n",
    "    \n",
    "    loss = 1.0 - Cxy.mean()\n",
    "\n",
    "    return loss\n",
    "\n",
    "lambda_mmd = 1.0  # MMD 손실 가중치"
   ]
  },
  {
   "cell_type": "code",
   "execution_count": 20,
   "metadata": {},
   "outputs": [],
   "source": [
    "class PACSDatasetWithDomain(PACSDataset):\n",
    "    def __init__(self, root_dir, domain_name, domain_id, transform=None):\n",
    "        super().__init__(root_dir, domain_name, transform=transform)\n",
    "        self.domain_id = domain_id\n",
    "\n",
    "    def __getitem__(self, idx):\n",
    "        image, label = super().__getitem__(idx)\n",
    "        return image, label, self.domain_id\n",
    "# 도메인별 정수 ID 지정\n",
    "domain_to_id = {'cartoon': 0, 'art_painting': 1, 'sketch': 2}\n",
    "\n",
    "dataset_train_mmd = ConcatDataset([\n",
    "    PACSDatasetWithDomain(root_dir, 'cartoon', domain_to_id['cartoon'], transform=transform_train),\n",
    "    PACSDatasetWithDomain(root_dir, 'art_painting', domain_to_id['art_painting'], transform=transform_train),\n",
    "    PACSDatasetWithDomain(root_dir, 'sketch', domain_to_id['sketch'], transform=transform_train),\n",
    "])\n",
    "dataset_test_mmd = PACSDataset(root_dir, 'photo', transform=transform_test)\n",
    "loader_train_mmd = DataLoader(dataset_train_mmd, batch_size=batch_size, shuffle=True)"
   ]
  },
  {
   "cell_type": "code",
   "execution_count": 21,
   "metadata": {},
   "outputs": [],
   "source": [
    "def train_mmdcos():\n",
    "\tmodel_mmd = ResNetWithFeatures(num_classes=7)\n",
    "\n",
    "\t# Instantiate loss, optimizer, and scheduler\n",
    "\tcriterion_mmd = nn.CrossEntropyLoss()\n",
    "\toptimizer_mmd = optim.SGD(model_mmd.parameters(), lr=lr, momentum=0.9)\n",
    "\tscheduler_mmd = lr_scheduler.StepLR(optimizer_mmd, step_size=step_size, gamma=0.1)\n",
    "\n",
    "\t# Lists to store loss and accuracy values\n",
    "\tmax_accuracy = 0.0\n",
    "\ttrain_losses, test_accuracies = [], []\n",
    "\tif not TEST_MODE:\n",
    "\t\tdevice = torch.device('cuda' if torch.cuda.is_available() else 'cpu')\n",
    "\n",
    "\t\tmodel_mmd = model_mmd.to(device)\n",
    "\n",
    "\t\tfor epoch in range(num_epochs):\n",
    "\t\t\tmodel_mmd.train()\n",
    "\t\t\trunning_loss = 0.0\n",
    "\t\t\tcorrect = 0\n",
    "\t\t\ttotal = 0\n",
    "\n",
    "\t\t\tcls_tot = 0.0\n",
    "\t\t\tcls_cnt = 0\n",
    "\t\t\tmmd_tot = 0.0\n",
    "\t\t\tmmd_cnt = 0\n",
    "\n",
    "\t\t\tfor i, (inputs, labels, domains) in enumerate(tqdm(loader_train_mmd, desc=f'Epoch {epoch+1}/{num_epochs}')):\n",
    "\t\t\t\tinputs, labels, domains = inputs.to(device), labels.to(device), domains.to(device)\n",
    "\n",
    "\t\t\t\toptimizer_mmd.zero_grad()\n",
    "\n",
    "\t\t\t\toutputs, features = model_mmd(inputs, return_features=True)\n",
    "\n",
    "\t\t\t\tloss = criterion_mmd(outputs, labels)\n",
    "\n",
    "\t\t\t\tcls_tot += loss.item()\n",
    "\t\t\t\tcls_cnt += 1\n",
    "\n",
    "\t\t\t\tunique_domains = torch.unique(domains)\n",
    "\t\t\t\tmmd_loss = 0.0\n",
    "\t\t\t\tfor di in range(len(unique_domains)):\n",
    "\t\t\t\t\tfor dj in range(di + 1, len(unique_domains)):\n",
    "\t\t\t\t\t\tf1 = features[domains == unique_domains[di]]\n",
    "\t\t\t\t\t\tf2 = features[domains == unique_domains[dj]]\n",
    "\t\t\t\t\t\tif f1.size(0) > 1 and f2.size(0) > 1:\n",
    "\t\t\t\t\t\t\tcosine_loss = compute_cosine_similarity(f1, f2)\n",
    "\t\t\t\t\t\t\tmmd_loss += cosine_loss\n",
    "\t\t\t\t\t\t\tmmd_tot  += cosine_loss.item()\n",
    "\t\t\t\t\t\t\tmmd_cnt += 1\n",
    "\n",
    "\t\t\t\tif mmd_cnt > 0:\n",
    "\t\t\t\t\tmmd_loss = mmd_loss / mmd_cnt\n",
    "\n",
    "\t\t\t\tloss = loss + lambda_mmd * mmd_loss\n",
    "\t\t\t\tloss.backward()\n",
    "\t\t\t\toptimizer_mmd.step()\n",
    "\n",
    "\t\t\t\trunning_loss += loss.item()\n",
    "\t\t\t\t_, predicted = outputs.max(1)\n",
    "\t\t\t\ttotal += labels.size(0)\n",
    "\t\t\t\tcorrect += predicted.eq(labels).sum().item()\n",
    "\n",
    "\t\t\t\t# Store loss at every iteration\n",
    "\t\t\t\ttrain_losses.append(loss.item())\n",
    "\t\t\t\t\n",
    "\t\t\tscheduler_mmd.step()\n",
    "\n",
    "\t\t\t# Validation\n",
    "\t\t\tmodel_mmd.eval()\n",
    "\t\t\tcorrect = 0\n",
    "\t\t\ttotal = 0\n",
    "\t\t\twith torch.no_grad():\n",
    "\t\t\t\tfor inputs, labels in loader_test:\n",
    "\t\t\t\t\tinputs, labels = inputs.to(device), labels.to(device)\n",
    "\t\t\t\t\toutputs, features = model_mmd(inputs, return_features=True)\n",
    "\t\t\t\t\t_, predicted = outputs.max(1)\n",
    "\t\t\t\t\ttotal += labels.size(0)\n",
    "\t\t\t\t\tcorrect += predicted.eq(labels).sum().item()\n",
    "\n",
    "\t\t\ttest_accuracy = 100 * correct / total\n",
    "\t\t\ttest_accuracies.append(test_accuracy)\n",
    "\t\t\tmax_accuracy = max(max_accuracy, test_accuracy)\n",
    "\t\t\n",
    "\t\t\tcurrent_lr = optimizer_mmd.param_groups[0]['lr']\n",
    "\t\t\tprint(f'Epoch [{epoch+1}/{num_epochs}], '\n",
    "\t\t\t\t\t\tf'Loss: {running_loss/len(loader_train):.4f}, '\n",
    "\t\t\t\t\t\tf'Test Accuracy: {test_accuracy:.2f}%, '\n",
    "\t\t\t\t\t\tf'Learning Rate: {current_lr:.6f}, '\n",
    "\t\t\t\t\t\tf'Average MMD: {mmd_tot / (mmd_cnt + 1e-5):.4f}, '\n",
    "\t\t\t\t\t\tf'Average CLS: {cls_tot / (cls_cnt + 1e-5):.4f}')\n",
    "\n",
    "\t\tprint('Finished Training')\n",
    "\n",
    "\t\t# Save the model - make sure you include this file in your submission\n",
    "\t\ttorch.save(model_mmd.state_dict(), f'./{model_name}_mmdcos')\n",
    "\n",
    "\tif ONE_MODEL_MODE : \n",
    "\t\t# Plotting after training is finished\n",
    "\t\tplt.figure(figsize=(6, 4))\n",
    "\n",
    "\t\t# Plot training loss\n",
    "\t\tplt.subplot(1, 2, 1)\n",
    "\t\tplt.plot(train_losses)\n",
    "\t\tplt.title('Training Loss')\n",
    "\t\tplt.xlabel('Iteration')\n",
    "\t\tplt.ylabel('Loss')\n",
    "\n",
    "\t\t# Plot test accuracy\n",
    "\t\tplt.subplot(1, 2, 2)\n",
    "\t\tplt.plot(test_accuracies)\n",
    "\t\tplt.title('Test Accuracy')\n",
    "\t\tplt.xlabel('Epoch')\n",
    "\t\tplt.ylabel('Accuracy (%)')\n",
    "\n",
    "\t\tplt.tight_layout()\n",
    "\t\tplt.show()\n",
    "\treturn max_accuracy, train_losses, test_accuracies"
   ]
  },
  {
   "cell_type": "markdown",
   "metadata": {},
   "source": [
    "# Train : FPJ-GC (Fourier-Phase Jitter with Graph Consistency)"
   ]
  },
  {
   "cell_type": "code",
   "execution_count": 22,
   "metadata": {},
   "outputs": [],
   "source": [
    "def phase_jitter(x, r_split=0.25, sigma_l=0.05, sigma_h=0.1):\n",
    "    B, C, H, W = x.shape                     # 64×64 입력 전제\n",
    "    fft   = torch.fft.rfft2(x, norm='ortho')\n",
    "    amp, ph = torch.abs(fft), torch.angle(fft)\n",
    "\n",
    "    fy = torch.fft.fftfreq (H, d=1./H).to(x.device)   # 길이 64  ← 수정\n",
    "    fx = torch.fft.rfftfreq(W, d=1./W).to(x.device)   # 길이 33\n",
    "    R  = torch.sqrt(fy[:, None]**2 + fx[None, :]**2)  # (64, 33)\n",
    "\n",
    "    mask_low  = (R <= r_split)\n",
    "    mask_high = ~mask_low\n",
    "\n",
    "    eps_l = sigma_l * torch.randn_like(ph)\n",
    "    eps_h = sigma_h * torch.randn_like(ph)\n",
    "\n",
    "    ph_j  = ph + eps_l * mask_low + (-eps_h) * mask_high\n",
    "    jitter = torch.fft.irfft2(amp * torch.exp(1j * ph_j),\n",
    "                            s=(H, W), norm='ortho')\n",
    "    return jitter.type_as(x)\n",
    "\n",
    "lambda_graph = 0.2   # 그래프 일관성 가중치  (FPJ-GC)"
   ]
  },
  {
   "cell_type": "code",
   "execution_count": 23,
   "metadata": {},
   "outputs": [],
   "source": [
    "def train_fpjgc():\n",
    "    model_fpjgc = models.resnet50(weights='ResNet50_Weights.DEFAULT')\n",
    "    num_features = model_fpjgc.fc.in_features\n",
    "    model_fpjgc.fc = nn.Linear(num_features, 7)\n",
    "\n",
    "    feature_extractor = nn.Sequential(*list(model_fpjgc.children())[:-1])  # AvgPool 포함\n",
    "    criterion_fpjgc  = nn.CrossEntropyLoss()\n",
    "    optimizer_fpjgc  = optim.SGD(model_fpjgc.parameters(), lr=lr, momentum=0.9)\n",
    "    scheduler_fpjgc  = lr_scheduler.StepLR(optimizer_fpjgc, step_size=step_size, gamma=0.1)\n",
    "\n",
    "    max_accuracy = 0.0\n",
    "    train_losses, test_accuracies = [], []\n",
    "\n",
    "    if not TEST_MODE:\n",
    "        device = torch.device('cuda' if torch.cuda.is_available() else 'cpu')\n",
    "        model_fpjgc, feature_extractor = model_fpjgc.to(device), feature_extractor.to(device)\n",
    "\n",
    "        _mean = torch.tensor([0.485, 0.456, 0.406], device=device).view(1,3,1,1)\n",
    "        _std  = torch.tensor([0.229, 0.224, 0.225], device=device).view(1,3,1,1)\n",
    "        show_example = True\n",
    "\n",
    "        for epoch in range(num_epochs):\n",
    "            model_fpjgc.train()\n",
    "            running_loss, correct, total = 0.0, 0, 0\n",
    "\n",
    "            for inputs, labels in tqdm(loader_train, desc=f'Epoch {epoch+1}/{num_epochs}'):\n",
    "                inputs, labels = inputs.to(device), labels.to(device)\n",
    "\n",
    "                # ---------- FPJ-GC: jitter view ----------\n",
    "                progress = epoch / num_epochs\n",
    "                lambda_g  = 0.0 if progress < 0.1 else 0.2 * (1 - progress*0.6)  # 0→0.2→0.08\n",
    "                sigma_l   = 0.05 * (1 - 0.5*progress)                            # 0.05→0.0125\n",
    "                sigma_h   = 0.10 * (1 - 0.5*progress)                            # 0.10→0.025\n",
    "                inputs_jit = phase_jitter(inputs, sigma_l=sigma_l, sigma_h=sigma_h)\n",
    "\n",
    "                if show_example:\n",
    "                    with torch.no_grad():\n",
    "                        # --- un-normalize ---\n",
    "                        orig = (inputs[:4]      * _std + _mean).clamp(0, 1)\n",
    "                        jitt = (inputs_jit[:4]  * _std + _mean).clamp(0, 1)\n",
    "                        diff = (jitt - orig).abs() * 10.0        # 차이 강조 배율\n",
    "                        diff = diff.clamp(0, 1)                  # 시각화용 [0,1]\n",
    "\n",
    "                        # (1) Original (2) Jitter (3) |Δ|×5 → 세로 concat\n",
    "                        sample = torch.cat([orig, jitt, diff])   # 총 12장\n",
    "                        grid   = make_grid(sample, nrow=4)       # nrow=4 → 3행\n",
    "\n",
    "                        plt.figure(figsize=(8,6))\n",
    "                        plt.imshow(grid.permute(1, 2, 0).cpu())\n",
    "                        plt.title(\"Row1: Original | Row2: Jitter | Row3: |diff|×10\")\n",
    "                        plt.axis('off')\n",
    "                        plt.show()\n",
    "                    show_example = False\n",
    "\n",
    "                optimizer_fpjgc.zero_grad()\n",
    "\n",
    "                # forward 두 번\n",
    "                outputs_ori = model_fpjgc(inputs)\n",
    "                outputs_jit = model_fpjgc(inputs_jit)\n",
    "\n",
    "                loss_cls = criterion_fpjgc(outputs_ori, labels) + criterion_fpjgc(outputs_jit, labels)\n",
    "\n",
    "                # ----- 그래프 일관성 -----\n",
    "                with torch.no_grad():\n",
    "                    feat_ori = feature_extractor(inputs ).view(inputs.size(0), -1)\n",
    "                    feat_jit = feature_extractor(inputs_jit).view(inputs.size(0), -1)\n",
    "                z  = F.normalize(feat_ori, dim=1)\n",
    "                zt = F.normalize(feat_jit, dim=1)\n",
    "                S  = z  @ z .T            # (B,B)\n",
    "                St = zt @ zt.T\n",
    "                loss_graph = F.mse_loss(S, St)\n",
    "\n",
    "                loss = loss_cls + lambda_graph * loss_graph\n",
    "                # ------------------------\n",
    "\n",
    "                loss.backward()\n",
    "                optimizer_fpjgc.step()\n",
    "\n",
    "                running_loss += loss.item()\n",
    "                _, pred = outputs_ori.max(1)\n",
    "                total += labels.size(0)\n",
    "                correct += pred.eq(labels).sum().item()\n",
    "                train_losses.append(loss.item())\n",
    "\n",
    "            scheduler_fpjgc.step()\n",
    "\n",
    "            # ---------------- Validation (그대로) ----------------\n",
    "            model_fpjgc.eval(); correct_val=total_val=0\n",
    "            with torch.no_grad():\n",
    "                for inputs, labels in loader_test:\n",
    "                    inputs, labels = inputs.to(device), labels.to(device)\n",
    "                    outputs = model_fpjgc(inputs)\n",
    "                    _, predicted = outputs.max(1)\n",
    "                    total_val += labels.size(0)\n",
    "                    correct_val += predicted.eq(labels).sum().item()\n",
    "            test_accuracy = 100 * correct / total\n",
    "            test_accuracies.append(test_accuracy)\n",
    "            max_accuracy = max(max_accuracy, test_accuracy)\n",
    "\n",
    "            current_lr = optimizer_fpjgc.param_groups[0][\"lr\"]\n",
    "            print(f'Epoch [{epoch+1}/{num_epochs}], '\n",
    "                f'Loss: {running_loss/len(loader_train):.4f}, '\n",
    "                f'Test Accuracy: {test_accuracy:.2f}%, '\n",
    "                f'Learning Rate: {current_lr:.6f}')\n",
    "\n",
    "        print('Finished Training')\n",
    "\n",
    "        # Save the model - make sure you include this file in your submission\n",
    "        torch.save(model_fpjgc.state_dict(), f'./{model_name}_fpjgc')\n",
    "\n",
    "    if ONE_MODEL_MODE : \n",
    "        # Plotting after training is finished\n",
    "        plt.figure(figsize=(6, 4))\n",
    "\n",
    "        # Plot training loss\n",
    "        plt.subplot(1, 2, 1)\n",
    "        plt.plot(train_losses)\n",
    "        plt.title('Training Loss')\n",
    "        plt.xlabel('Iteration')\n",
    "        plt.ylabel('Loss')\n",
    "\n",
    "        # Plot test accuracy\n",
    "        plt.subplot(1, 2, 2)\n",
    "        plt.plot(test_accuracies)\n",
    "        plt.title('Test Accuracy')\n",
    "        plt.xlabel('Epoch')\n",
    "        plt.ylabel('Accuracy (%)')\n",
    "\n",
    "        plt.tight_layout()\n",
    "        plt.show()\n",
    "    return max_accuracy, train_losses, test_accuracies"
   ]
  },
  {
   "cell_type": "code",
   "execution_count": 24,
   "metadata": {},
   "outputs": [],
   "source": [
    "if ONE_MODEL_MODE : \n",
    "    train_fpjgc()"
   ]
  },
  {
   "cell_type": "markdown",
   "metadata": {},
   "source": [
    "# Train : LaPaR(Latent-Patch Re-Masking)"
   ]
  },
  {
   "cell_type": "code",
   "execution_count": 25,
   "metadata": {},
   "outputs": [],
   "source": [
    "def remask_patch(F, k_frac=0.3):\n",
    "    \"\"\"\n",
    "    F : (B,C,h,w)  layer3 feature map\n",
    "    서로 다른 샘플 간 patch 일부를 무작위 교환.\n",
    "    도메인 정보가 없다 하더라도 확률적으로 대부분 다른 도메인.\n",
    "    \"\"\"\n",
    "    B, C, h, w = F.shape\n",
    "    num = int(k_frac * h * w)                # 교환할 cell 수\n",
    "    idx = torch.randperm(h * w, device=F.device)[:num]\n",
    "    i, j = idx // w, idx % w                 # (num,) 좌표\n",
    "\n",
    "    perm = torch.randperm(B, device=F.device)\n",
    "    # 동일 인덱스가 나오면 한 칸 rotate\n",
    "    same = perm == torch.arange(B, device=F.device)\n",
    "    perm[same] = (perm[same] + 1) % B\n",
    "\n",
    "    F_aug = F.clone()\n",
    "    for b in range(B):\n",
    "        F_aug[b, :, i, j] = F[perm[b], :, i, j]\n",
    "    return F_aug"
   ]
  },
  {
   "cell_type": "code",
   "execution_count": 26,
   "metadata": {},
   "outputs": [],
   "source": [
    "class LaPaRResNet(nn.Module):\n",
    "    def __init__(self, num_classes=7, k_frac=0.3):\n",
    "        super().__init__()\n",
    "        self.k_frac = k_frac\n",
    "        base = models.resnet50(weights='ResNet50_Weights.DEFAULT')\n",
    "        self.conv1  = base.conv1;  self.bn1 = base.bn1; self.relu = base.relu\n",
    "        self.maxpool= base.maxpool\n",
    "        self.layer1 = base.layer1; self.layer2 = base.layer2; self.layer3 = base.layer3\n",
    "        self.layer4 = base.layer4; self.avgpool = base.avgpool\n",
    "        self.fc     = nn.Linear(base.fc.in_features, num_classes)\n",
    "\n",
    "    def _forward_feature(self, x):\n",
    "        x = self.conv1(x); x = self.bn1(x); x = self.relu(x); x = self.maxpool(x)\n",
    "        x = self.layer1(x); x = self.layer2(x)\n",
    "        f = self.layer3(x)                               # layer3 feature\n",
    "        return f\n",
    "\n",
    "    def forward(self, x, aug=False):\n",
    "        \"\"\"\n",
    "        aug=False : 원본 forward\n",
    "        aug=True  : LaPaR 패치 교환 후 forward\n",
    "        \"\"\"\n",
    "        f = self._forward_feature(x)\n",
    "        if aug:                                          # <-- 패치 교환\n",
    "            f = remask_patch(f, self.k_frac)\n",
    "        x = self.layer4(f)\n",
    "        x = self.avgpool(x)\n",
    "        x = torch.flatten(x, 1)\n",
    "        return self.fc(x)"
   ]
  },
  {
   "cell_type": "code",
   "execution_count": 27,
   "metadata": {},
   "outputs": [],
   "source": [
    "def train_lapar():\n",
    "    model = LaPaRResNet(num_classes=7, k_frac=0.3)       # <- 변경\n",
    "    criterion = nn.CrossEntropyLoss()\n",
    "    optimizer = optim.SGD(model.parameters(), lr=lr, momentum=0.9)\n",
    "    scheduler = lr_scheduler.StepLR(optimizer, step_size=step_size, gamma=0.1)\n",
    "\n",
    "    max_acc, train_losses, test_accuracies = 0.0, [], []\n",
    "\n",
    "    if not TEST_MODE:\n",
    "        device = torch.device('cuda' if torch.cuda.is_available() else 'cpu')\n",
    "        model = model.to(device)\n",
    "\n",
    "        for epoch in range(num_epochs):\n",
    "            model.train()\n",
    "            run_loss, total, correct = 0.0, 0, 0\n",
    "\n",
    "            for X, y in tqdm(loader_train, desc=f'Epoch {epoch+1}/{num_epochs}'):\n",
    "                X, y = X.to(device), y.to(device)\n",
    "                optimizer.zero_grad()\n",
    "\n",
    "                # -------- 두 뷰 forward --------\n",
    "                out_ori = model(X, aug=False)\n",
    "                out_aug = model(X, aug=True)\n",
    "                loss = criterion(out_ori, y) + criterion(out_aug, y)\n",
    "                # ------------------------------\n",
    "\n",
    "                loss.backward()\n",
    "                optimizer.step()\n",
    "\n",
    "                run_loss += loss.item()\n",
    "                _, pred = out_ori.max(1)\n",
    "                total  += y.size(0)\n",
    "                correct += pred.eq(y).sum().item()\n",
    "                train_losses.append(loss.item())\n",
    "\n",
    "            scheduler.step()\n",
    "\n",
    "            # -------- Validation --------\n",
    "            model.eval(); corr = tot = 0\n",
    "            with torch.no_grad():\n",
    "                for X, y in loader_test:\n",
    "                    X, y = X.to(device), y.to(device)\n",
    "                    out = model(X, aug=False)\n",
    "                    _, pr = out.max(1)\n",
    "                    tot  += y.size(0)\n",
    "                    corr += pr.eq(y).sum().item()\n",
    "            acc = 100 * corr / tot\n",
    "            test_accuracies.append(acc)\n",
    "            max_acc = max(max_acc, acc)\n",
    "\n",
    "            print(f'Epoch {epoch+1}/{num_epochs} | '\n",
    "                  f'Loss {run_loss/len(loader_train):.4f} | '\n",
    "                  f'TestAcc {acc:.2f}%')\n",
    "\n",
    "        print('Finished Training')\n",
    "        torch.save(model.state_dict(), f'./{model_name}_lapar')\n",
    "\n",
    "    if ONE_MODEL_MODE : \n",
    "        # Plotting after training is finished\n",
    "        plt.figure(figsize=(6, 4))\n",
    "\n",
    "        # Plot training loss\n",
    "        plt.subplot(1, 2, 1)\n",
    "        plt.plot(train_losses)\n",
    "        plt.title('Training Loss')\n",
    "        plt.xlabel('Iteration')\n",
    "        plt.ylabel('Loss')\n",
    "\n",
    "        # Plot test accuracy\n",
    "        plt.subplot(1, 2, 2)\n",
    "        plt.plot(test_accuracies)\n",
    "        plt.title('Test Accuracy')\n",
    "        plt.xlabel('Epoch')\n",
    "        plt.ylabel('Accuracy (%)')\n",
    "\n",
    "        plt.tight_layout()\n",
    "        plt.show()\n",
    "    return max_acc, train_losses, test_accuracies"
   ]
  },
  {
   "cell_type": "markdown",
   "metadata": {},
   "source": [
    "# Training & Test"
   ]
  },
  {
   "cell_type": "code",
   "execution_count": 28,
   "metadata": {},
   "outputs": [],
   "source": [
    "def evaluate_curated_pacs(model):\n",
    "    # Custom Dataset\n",
    "    class CustomDataset(Dataset):\n",
    "        def __init__(self, root_dir, transform=None):\n",
    "            self.root_dir = root_dir\n",
    "            self.transform = transform\n",
    "            self.images = []\n",
    "            self.labels = []\n",
    "            self.class_to_idx = {'dog': 0, 'elephant': 1, 'giraffe': 2, 'guitar': 3, 'horse': 4, 'house': 5, 'person': 6}\n",
    "            self.idx_to_class = {v: k for k, v in self.class_to_idx.items()}\n",
    "            \n",
    "            for cls_name in self.class_to_idx.keys():\n",
    "                cls_dir = os.path.join(self.root_dir, cls_name)\n",
    "                for img_name in os.listdir(cls_dir):\n",
    "                    if img_name.lower().endswith(('.jpg', '.jpeg', '.png')):\n",
    "                        self.images.append(os.path.join(cls_dir, img_name))\n",
    "                        self.labels.append(self.class_to_idx[cls_name])\n",
    "\n",
    "        def __len__(self):\n",
    "            return len(self.images)\n",
    "\n",
    "        def __getitem__(self, idx):\n",
    "            img_path = self.images[idx]\n",
    "            label = self.labels[idx]\n",
    "            image = Image.open(img_path).convert('RGB')\n",
    "            if self.transform:\n",
    "                image = self.transform(image)\n",
    "            return image, label\n",
    "\n",
    "    # Load test data\n",
    "    root_dir_test = './CuratedPACS'\n",
    "    dataset_test = CustomDataset(root_dir_test, transform=transform_test)\n",
    "    loader_test = DataLoader(dataset_test, batch_size=batch_size, shuffle=False)\n",
    "\n",
    "    # Evaluation\n",
    "    correct = 0\n",
    "    total = 0\n",
    "\n",
    "    with torch.no_grad():\n",
    "        for inputs, labels in loader_test:\n",
    "            inputs, labels = inputs.to(device), labels.to(device)\n",
    "            outputs = model(inputs)\n",
    "            _, predicted = outputs.max(1)\n",
    "\n",
    "            # 라벨 문자열 출력\n",
    "            for t, p in zip(labels.cpu(), predicted.cpu()):\n",
    "                true_name = dataset_test.idx_to_class[t.item()]\n",
    "                pred_name = dataset_test.idx_to_class[p.item()]\n",
    "                #print(f\"GT: {true_name:8s} | Pred: {pred_name:8s} {'✅' if t==p else '❌'}\")\n",
    "\n",
    "            total += labels.size(0)\n",
    "            correct += predicted.eq(labels).sum().item()\n",
    "\n",
    "    print(f\"\\nTest Accuracy: {100 * correct / total:.2f}%\")\n",
    "    return (correct / total)"
   ]
  },
  {
   "cell_type": "code",
   "execution_count": null,
   "metadata": {},
   "outputs": [
    {
     "name": "stdout",
     "output_type": "stream",
     "text": [
      "Running: train_base()\n"
     ]
    },
    {
     "name": "stderr",
     "output_type": "stream",
     "text": [
      "Epoch 1/10: 100%|██████████| 261/261 [00:37<00:00,  6.89it/s]\n"
     ]
    },
    {
     "name": "stdout",
     "output_type": "stream",
     "text": [
      "Epoch [1/10], Loss: 1.8439, Test Accuracy: 34.43%, Learning Rate: 0.000100\n"
     ]
    },
    {
     "name": "stderr",
     "output_type": "stream",
     "text": [
      "Epoch 2/10: 100%|██████████| 261/261 [00:37<00:00,  6.92it/s]\n"
     ]
    },
    {
     "name": "stdout",
     "output_type": "stream",
     "text": [
      "Epoch [2/10], Loss: 1.5852, Test Accuracy: 42.63%, Learning Rate: 0.000100\n"
     ]
    },
    {
     "name": "stderr",
     "output_type": "stream",
     "text": [
      "Epoch 3/10: 100%|██████████| 261/261 [00:38<00:00,  6.86it/s]\n"
     ]
    },
    {
     "name": "stdout",
     "output_type": "stream",
     "text": [
      "Epoch [3/10], Loss: 1.3670, Test Accuracy: 57.96%, Learning Rate: 0.000100\n"
     ]
    },
    {
     "name": "stderr",
     "output_type": "stream",
     "text": [
      "Epoch 4/10: 100%|██████████| 261/261 [00:37<00:00,  6.96it/s]\n"
     ]
    },
    {
     "name": "stdout",
     "output_type": "stream",
     "text": [
      "Epoch [4/10], Loss: 1.2050, Test Accuracy: 58.74%, Learning Rate: 0.000100\n"
     ]
    },
    {
     "name": "stderr",
     "output_type": "stream",
     "text": [
      "Epoch 5/10: 100%|██████████| 261/261 [00:37<00:00,  6.99it/s]\n"
     ]
    },
    {
     "name": "stdout",
     "output_type": "stream",
     "text": [
      "Epoch [5/10], Loss: 1.0946, Test Accuracy: 65.57%, Learning Rate: 0.000100\n"
     ]
    },
    {
     "name": "stderr",
     "output_type": "stream",
     "text": [
      "Epoch 6/10: 100%|██████████| 261/261 [00:37<00:00,  6.99it/s]\n"
     ]
    },
    {
     "name": "stdout",
     "output_type": "stream",
     "text": [
      "Epoch [6/10], Loss: 0.9955, Test Accuracy: 68.32%, Learning Rate: 0.000100\n"
     ]
    },
    {
     "name": "stderr",
     "output_type": "stream",
     "text": [
      "Epoch 7/10: 100%|██████████| 261/261 [00:37<00:00,  6.99it/s]\n"
     ]
    },
    {
     "name": "stdout",
     "output_type": "stream",
     "text": [
      "Epoch [7/10], Loss: 0.9266, Test Accuracy: 68.80%, Learning Rate: 0.000100\n"
     ]
    },
    {
     "name": "stderr",
     "output_type": "stream",
     "text": [
      "Epoch 8/10: 100%|██████████| 261/261 [00:37<00:00,  6.99it/s]\n"
     ]
    },
    {
     "name": "stdout",
     "output_type": "stream",
     "text": [
      "Epoch [8/10], Loss: 0.8557, Test Accuracy: 68.32%, Learning Rate: 0.000100\n"
     ]
    },
    {
     "name": "stderr",
     "output_type": "stream",
     "text": [
      "Epoch 9/10: 100%|██████████| 261/261 [00:37<00:00,  6.98it/s]\n"
     ]
    },
    {
     "name": "stdout",
     "output_type": "stream",
     "text": [
      "Epoch [9/10], Loss: 0.8287, Test Accuracy: 69.88%, Learning Rate: 0.000100\n"
     ]
    },
    {
     "name": "stderr",
     "output_type": "stream",
     "text": [
      "Epoch 10/10: 100%|██████████| 261/261 [00:37<00:00,  6.99it/s]\n"
     ]
    },
    {
     "name": "stdout",
     "output_type": "stream",
     "text": [
      "Epoch [10/10], Loss: 0.7678, Test Accuracy: 71.08%, Learning Rate: 0.000010\n",
      "Finished Training\n"
     ]
    },
    {
     "name": "stderr",
     "output_type": "stream",
     "text": [
      "/tmp/ipykernel_1064820/2080086985.py:37: FutureWarning: You are using `torch.load` with `weights_only=False` (the current default value), which uses the default pickle module implicitly. It is possible to construct malicious pickle data which will execute arbitrary code during unpickling (See https://github.com/pytorch/pytorch/blob/main/SECURITY.md#untrusted-models for more details). In a future release, the default value for `weights_only` will be flipped to `True`. This limits the functions that could be executed during unpickling. Arbitrary objects will no longer be allowed to be loaded via this mode unless they are explicitly allowlisted by the user via `torch.serialization.add_safe_globals`. We recommend you start setting `weights_only=True` for any use case where you don't have full control of the loaded file. Please open an issue on GitHub for any issues related to this experimental feature.\n",
      "  state_dict = torch.load(model_path)   # ✅ weights_only 제거\n"
     ]
    },
    {
     "name": "stdout",
     "output_type": "stream",
     "text": [
      "\n",
      "Test Accuracy: 75.14%\n",
      "Running: train_base()\n"
     ]
    },
    {
     "name": "stderr",
     "output_type": "stream",
     "text": [
      "Epoch 1/10: 100%|██████████| 261/261 [00:37<00:00,  6.98it/s]\n"
     ]
    },
    {
     "name": "stdout",
     "output_type": "stream",
     "text": [
      "Epoch [1/10], Loss: 1.8641, Test Accuracy: 24.73%, Learning Rate: 0.000100\n"
     ]
    },
    {
     "name": "stderr",
     "output_type": "stream",
     "text": [
      "Epoch 2/10: 100%|██████████| 261/261 [00:37<00:00,  6.98it/s]\n"
     ]
    },
    {
     "name": "stdout",
     "output_type": "stream",
     "text": [
      "Epoch [2/10], Loss: 1.6152, Test Accuracy: 46.77%, Learning Rate: 0.000100\n"
     ]
    },
    {
     "name": "stderr",
     "output_type": "stream",
     "text": [
      "Epoch 3/10: 100%|██████████| 261/261 [00:37<00:00,  6.98it/s]\n"
     ]
    },
    {
     "name": "stdout",
     "output_type": "stream",
     "text": [
      "Epoch [3/10], Loss: 1.3769, Test Accuracy: 57.31%, Learning Rate: 0.000100\n"
     ]
    },
    {
     "name": "stderr",
     "output_type": "stream",
     "text": [
      "Epoch 4/10: 100%|██████████| 261/261 [00:37<00:00,  6.98it/s]\n"
     ]
    },
    {
     "name": "stdout",
     "output_type": "stream",
     "text": [
      "Epoch [4/10], Loss: 1.2188, Test Accuracy: 60.18%, Learning Rate: 0.000100\n"
     ]
    },
    {
     "name": "stderr",
     "output_type": "stream",
     "text": [
      "Epoch 5/10: 100%|██████████| 261/261 [00:37<00:00,  6.98it/s]\n"
     ]
    },
    {
     "name": "stdout",
     "output_type": "stream",
     "text": [
      "Epoch [5/10], Loss: 1.0876, Test Accuracy: 61.62%, Learning Rate: 0.000100\n"
     ]
    },
    {
     "name": "stderr",
     "output_type": "stream",
     "text": [
      "Epoch 6/10: 100%|██████████| 261/261 [00:37<00:00,  6.98it/s]\n"
     ]
    },
    {
     "name": "stdout",
     "output_type": "stream",
     "text": [
      "Epoch [6/10], Loss: 1.0023, Test Accuracy: 63.35%, Learning Rate: 0.000100\n"
     ]
    },
    {
     "name": "stderr",
     "output_type": "stream",
     "text": [
      "Epoch 7/10: 100%|██████████| 261/261 [00:37<00:00,  6.98it/s]\n"
     ]
    },
    {
     "name": "stdout",
     "output_type": "stream",
     "text": [
      "Epoch [7/10], Loss: 0.9272, Test Accuracy: 64.85%, Learning Rate: 0.000100\n"
     ]
    },
    {
     "name": "stderr",
     "output_type": "stream",
     "text": [
      "Epoch 8/10: 100%|██████████| 261/261 [00:37<00:00,  6.98it/s]\n"
     ]
    },
    {
     "name": "stdout",
     "output_type": "stream",
     "text": [
      "Epoch [8/10], Loss: 0.8768, Test Accuracy: 65.15%, Learning Rate: 0.000100\n"
     ]
    },
    {
     "name": "stderr",
     "output_type": "stream",
     "text": [
      "Epoch 9/10: 100%|██████████| 261/261 [00:37<00:00,  6.98it/s]\n"
     ]
    },
    {
     "name": "stdout",
     "output_type": "stream",
     "text": [
      "Epoch [9/10], Loss: 0.8188, Test Accuracy: 67.25%, Learning Rate: 0.000100\n"
     ]
    },
    {
     "name": "stderr",
     "output_type": "stream",
     "text": [
      "Epoch 10/10: 100%|██████████| 261/261 [00:37<00:00,  6.98it/s]\n"
     ]
    },
    {
     "name": "stdout",
     "output_type": "stream",
     "text": [
      "Epoch [10/10], Loss: 0.7684, Test Accuracy: 70.78%, Learning Rate: 0.000010\n",
      "Finished Training\n",
      "\n",
      "Test Accuracy: 76.57%\n",
      "Running: train_base()\n"
     ]
    },
    {
     "name": "stderr",
     "output_type": "stream",
     "text": [
      "Epoch 1/10: 100%|██████████| 261/261 [00:37<00:00,  6.98it/s]\n"
     ]
    },
    {
     "name": "stdout",
     "output_type": "stream",
     "text": [
      "Epoch [1/10], Loss: 1.8303, Test Accuracy: 41.86%, Learning Rate: 0.000100\n"
     ]
    },
    {
     "name": "stderr",
     "output_type": "stream",
     "text": [
      "Epoch 2/10: 100%|██████████| 261/261 [00:37<00:00,  6.98it/s]\n"
     ]
    },
    {
     "name": "stdout",
     "output_type": "stream",
     "text": [
      "Epoch [2/10], Loss: 1.5478, Test Accuracy: 50.54%, Learning Rate: 0.000100\n"
     ]
    },
    {
     "name": "stderr",
     "output_type": "stream",
     "text": [
      "Epoch 3/10: 100%|██████████| 261/261 [00:37<00:00,  6.98it/s]\n"
     ]
    },
    {
     "name": "stdout",
     "output_type": "stream",
     "text": [
      "Epoch [3/10], Loss: 1.3409, Test Accuracy: 58.86%, Learning Rate: 0.000100\n"
     ]
    },
    {
     "name": "stderr",
     "output_type": "stream",
     "text": [
      "Epoch 4/10: 100%|██████████| 261/261 [00:37<00:00,  6.98it/s]\n"
     ]
    },
    {
     "name": "stdout",
     "output_type": "stream",
     "text": [
      "Epoch [4/10], Loss: 1.1890, Test Accuracy: 62.16%, Learning Rate: 0.000100\n"
     ]
    },
    {
     "name": "stderr",
     "output_type": "stream",
     "text": [
      "Epoch 5/10: 100%|██████████| 261/261 [00:37<00:00,  6.98it/s]\n"
     ]
    },
    {
     "name": "stdout",
     "output_type": "stream",
     "text": [
      "Epoch [5/10], Loss: 1.0662, Test Accuracy: 61.86%, Learning Rate: 0.000100\n"
     ]
    },
    {
     "name": "stderr",
     "output_type": "stream",
     "text": [
      "Epoch 6/10: 100%|██████████| 261/261 [00:37<00:00,  6.98it/s]\n"
     ]
    },
    {
     "name": "stdout",
     "output_type": "stream",
     "text": [
      "Epoch [6/10], Loss: 0.9928, Test Accuracy: 62.81%, Learning Rate: 0.000100\n"
     ]
    },
    {
     "name": "stderr",
     "output_type": "stream",
     "text": [
      "Epoch 7/10: 100%|██████████| 261/261 [00:37<00:00,  6.98it/s]\n"
     ]
    },
    {
     "name": "stdout",
     "output_type": "stream",
     "text": [
      "Epoch [7/10], Loss: 0.9214, Test Accuracy: 67.31%, Learning Rate: 0.000100\n"
     ]
    },
    {
     "name": "stderr",
     "output_type": "stream",
     "text": [
      "Epoch 8/10: 100%|██████████| 261/261 [00:37<00:00,  6.98it/s]\n"
     ]
    },
    {
     "name": "stdout",
     "output_type": "stream",
     "text": [
      "Epoch [8/10], Loss: 0.8712, Test Accuracy: 63.59%, Learning Rate: 0.000100\n"
     ]
    },
    {
     "name": "stderr",
     "output_type": "stream",
     "text": [
      "Epoch 9/10: 100%|██████████| 261/261 [00:37<00:00,  6.98it/s]\n"
     ]
    },
    {
     "name": "stdout",
     "output_type": "stream",
     "text": [
      "Epoch [9/10], Loss: 0.8157, Test Accuracy: 69.70%, Learning Rate: 0.000100\n"
     ]
    },
    {
     "name": "stderr",
     "output_type": "stream",
     "text": [
      "Epoch 10/10: 100%|██████████| 261/261 [00:37<00:00,  6.98it/s]\n"
     ]
    },
    {
     "name": "stdout",
     "output_type": "stream",
     "text": [
      "Epoch [10/10], Loss: 0.7938, Test Accuracy: 69.94%, Learning Rate: 0.000010\n",
      "Finished Training\n",
      "\n",
      "Test Accuracy: 78.86%\n",
      "Running: train_mmd()\n"
     ]
    },
    {
     "name": "stderr",
     "output_type": "stream",
     "text": [
      "Epoch 1/10: 100%|██████████| 261/261 [00:45<00:00,  5.80it/s]\n"
     ]
    },
    {
     "name": "stdout",
     "output_type": "stream",
     "text": [
      "Epoch [1/10], Loss: 1.8586, Test Accuracy: 25.09%, Learning Rate: 0.000100, Average MMD: 0.0020, Average CLS: 1.8585\n"
     ]
    },
    {
     "name": "stderr",
     "output_type": "stream",
     "text": [
      "Epoch 2/10: 100%|██████████| 261/261 [00:44<00:00,  5.88it/s]\n"
     ]
    },
    {
     "name": "stdout",
     "output_type": "stream",
     "text": [
      "Epoch [2/10], Loss: 1.6013, Test Accuracy: 43.89%, Learning Rate: 0.000100, Average MMD: 0.0005, Average CLS: 1.6013\n"
     ]
    },
    {
     "name": "stderr",
     "output_type": "stream",
     "text": [
      "Epoch 3/10: 100%|██████████| 261/261 [00:44<00:00,  5.91it/s]\n"
     ]
    },
    {
     "name": "stdout",
     "output_type": "stream",
     "text": [
      "Epoch [3/10], Loss: 1.3788, Test Accuracy: 53.05%, Learning Rate: 0.000100, Average MMD: 0.0002, Average CLS: 1.3788\n"
     ]
    },
    {
     "name": "stderr",
     "output_type": "stream",
     "text": [
      "Epoch 4/10: 100%|██████████| 261/261 [00:44<00:00,  5.92it/s]\n"
     ]
    },
    {
     "name": "stdout",
     "output_type": "stream",
     "text": [
      "Epoch [4/10], Loss: 1.2154, Test Accuracy: 54.67%, Learning Rate: 0.000100, Average MMD: 0.0001, Average CLS: 1.2154\n"
     ]
    },
    {
     "name": "stderr",
     "output_type": "stream",
     "text": [
      "Epoch 5/10: 100%|██████████| 261/261 [00:44<00:00,  5.92it/s]\n"
     ]
    },
    {
     "name": "stdout",
     "output_type": "stream",
     "text": [
      "Epoch [5/10], Loss: 1.0883, Test Accuracy: 61.80%, Learning Rate: 0.000100, Average MMD: 0.0001, Average CLS: 1.0883\n"
     ]
    },
    {
     "name": "stderr",
     "output_type": "stream",
     "text": [
      "Epoch 6/10: 100%|██████████| 261/261 [00:44<00:00,  5.88it/s]\n"
     ]
    },
    {
     "name": "stdout",
     "output_type": "stream",
     "text": [
      "Epoch [6/10], Loss: 1.0150, Test Accuracy: 65.93%, Learning Rate: 0.000100, Average MMD: 0.0001, Average CLS: 1.0150\n"
     ]
    },
    {
     "name": "stderr",
     "output_type": "stream",
     "text": [
      "Epoch 7/10: 100%|██████████| 261/261 [00:44<00:00,  5.88it/s]\n"
     ]
    },
    {
     "name": "stdout",
     "output_type": "stream",
     "text": [
      "Epoch [7/10], Loss: 0.9191, Test Accuracy: 65.27%, Learning Rate: 0.000100, Average MMD: 0.0001, Average CLS: 0.9191\n"
     ]
    },
    {
     "name": "stderr",
     "output_type": "stream",
     "text": [
      "Epoch 8/10: 100%|██████████| 261/261 [00:44<00:00,  5.89it/s]\n"
     ]
    },
    {
     "name": "stdout",
     "output_type": "stream",
     "text": [
      "Epoch [8/10], Loss: 0.8691, Test Accuracy: 64.25%, Learning Rate: 0.000100, Average MMD: 0.0001, Average CLS: 0.8691\n"
     ]
    },
    {
     "name": "stderr",
     "output_type": "stream",
     "text": [
      "Epoch 9/10: 100%|██████████| 261/261 [00:44<00:00,  5.89it/s]\n"
     ]
    },
    {
     "name": "stdout",
     "output_type": "stream",
     "text": [
      "Epoch [9/10], Loss: 0.8158, Test Accuracy: 67.72%, Learning Rate: 0.000100, Average MMD: 0.0001, Average CLS: 0.8158\n"
     ]
    },
    {
     "name": "stderr",
     "output_type": "stream",
     "text": [
      "Epoch 10/10: 100%|██████████| 261/261 [00:44<00:00,  5.87it/s]\n"
     ]
    },
    {
     "name": "stdout",
     "output_type": "stream",
     "text": [
      "Epoch [10/10], Loss: 0.7727, Test Accuracy: 67.96%, Learning Rate: 0.000010, Average MMD: 0.0001, Average CLS: 0.7727\n",
      "Finished Training\n",
      "\n",
      "Test Accuracy: 78.86%\n",
      "Running: train_mmd()\n"
     ]
    },
    {
     "name": "stderr",
     "output_type": "stream",
     "text": [
      "Epoch 1/10: 100%|██████████| 261/261 [00:44<00:00,  5.86it/s]\n"
     ]
    },
    {
     "name": "stdout",
     "output_type": "stream",
     "text": [
      "Epoch [1/10], Loss: 1.8406, Test Accuracy: 25.75%, Learning Rate: 0.000100, Average MMD: 0.0024, Average CLS: 1.8405\n"
     ]
    },
    {
     "name": "stderr",
     "output_type": "stream",
     "text": [
      "Epoch 2/10: 100%|██████████| 261/261 [00:44<00:00,  5.87it/s]\n"
     ]
    },
    {
     "name": "stdout",
     "output_type": "stream",
     "text": [
      "Epoch [2/10], Loss: 1.5435, Test Accuracy: 51.62%, Learning Rate: 0.000100, Average MMD: 0.0006, Average CLS: 1.5435\n"
     ]
    },
    {
     "name": "stderr",
     "output_type": "stream",
     "text": [
      "Epoch 3/10: 100%|██████████| 261/261 [00:44<00:00,  5.88it/s]\n"
     ]
    },
    {
     "name": "stdout",
     "output_type": "stream",
     "text": [
      "Epoch [3/10], Loss: 1.3314, Test Accuracy: 58.02%, Learning Rate: 0.000100, Average MMD: 0.0002, Average CLS: 1.3314\n"
     ]
    },
    {
     "name": "stderr",
     "output_type": "stream",
     "text": [
      "Epoch 4/10: 100%|██████████| 261/261 [00:44<00:00,  5.87it/s]\n"
     ]
    },
    {
     "name": "stdout",
     "output_type": "stream",
     "text": [
      "Epoch [4/10], Loss: 1.1755, Test Accuracy: 57.01%, Learning Rate: 0.000100, Average MMD: 0.0001, Average CLS: 1.1755\n"
     ]
    },
    {
     "name": "stderr",
     "output_type": "stream",
     "text": [
      "Epoch 5/10: 100%|██████████| 261/261 [00:44<00:00,  5.87it/s]\n"
     ]
    },
    {
     "name": "stdout",
     "output_type": "stream",
     "text": [
      "Epoch [5/10], Loss: 1.0657, Test Accuracy: 64.79%, Learning Rate: 0.000100, Average MMD: 0.0001, Average CLS: 1.0657\n"
     ]
    },
    {
     "name": "stderr",
     "output_type": "stream",
     "text": [
      "Epoch 6/10: 100%|██████████| 261/261 [00:44<00:00,  5.88it/s]\n"
     ]
    },
    {
     "name": "stdout",
     "output_type": "stream",
     "text": [
      "Epoch [6/10], Loss: 0.9905, Test Accuracy: 63.11%, Learning Rate: 0.000100, Average MMD: 0.0001, Average CLS: 0.9905\n"
     ]
    },
    {
     "name": "stderr",
     "output_type": "stream",
     "text": [
      "Epoch 7/10: 100%|██████████| 261/261 [00:44<00:00,  5.87it/s]\n"
     ]
    },
    {
     "name": "stdout",
     "output_type": "stream",
     "text": [
      "Epoch [7/10], Loss: 0.9205, Test Accuracy: 66.29%, Learning Rate: 0.000100, Average MMD: 0.0001, Average CLS: 0.9205\n"
     ]
    },
    {
     "name": "stderr",
     "output_type": "stream",
     "text": [
      "Epoch 8/10: 100%|██████████| 261/261 [00:44<00:00,  5.87it/s]\n"
     ]
    },
    {
     "name": "stdout",
     "output_type": "stream",
     "text": [
      "Epoch [8/10], Loss: 0.8618, Test Accuracy: 66.23%, Learning Rate: 0.000100, Average MMD: 0.0001, Average CLS: 0.8618\n"
     ]
    },
    {
     "name": "stderr",
     "output_type": "stream",
     "text": [
      "Epoch 9/10: 100%|██████████| 261/261 [00:44<00:00,  5.87it/s]\n"
     ]
    },
    {
     "name": "stdout",
     "output_type": "stream",
     "text": [
      "Epoch [9/10], Loss: 0.8065, Test Accuracy: 66.89%, Learning Rate: 0.000100, Average MMD: 0.0001, Average CLS: 0.8064\n"
     ]
    },
    {
     "name": "stderr",
     "output_type": "stream",
     "text": [
      "Epoch 10/10: 100%|██████████| 261/261 [00:44<00:00,  5.87it/s]\n"
     ]
    },
    {
     "name": "stdout",
     "output_type": "stream",
     "text": [
      "Epoch [10/10], Loss: 0.7634, Test Accuracy: 71.74%, Learning Rate: 0.000010, Average MMD: 0.0000, Average CLS: 0.7634\n",
      "Finished Training\n",
      "\n",
      "Test Accuracy: 80.29%\n",
      "Running: train_mmd()\n"
     ]
    },
    {
     "name": "stderr",
     "output_type": "stream",
     "text": [
      "Epoch 1/10: 100%|██████████| 261/261 [00:44<00:00,  5.90it/s]\n"
     ]
    },
    {
     "name": "stdout",
     "output_type": "stream",
     "text": [
      "Epoch [1/10], Loss: 1.8506, Test Accuracy: 33.59%, Learning Rate: 0.000100, Average MMD: 0.0024, Average CLS: 1.8506\n"
     ]
    },
    {
     "name": "stderr",
     "output_type": "stream",
     "text": [
      "Epoch 2/10: 100%|██████████| 261/261 [00:44<00:00,  5.91it/s]\n"
     ]
    },
    {
     "name": "stdout",
     "output_type": "stream",
     "text": [
      "Epoch [2/10], Loss: 1.6082, Test Accuracy: 53.35%, Learning Rate: 0.000100, Average MMD: 0.0011, Average CLS: 1.6082\n"
     ]
    },
    {
     "name": "stderr",
     "output_type": "stream",
     "text": [
      "Epoch 3/10: 100%|██████████| 261/261 [00:44<00:00,  5.90it/s]\n"
     ]
    },
    {
     "name": "stdout",
     "output_type": "stream",
     "text": [
      "Epoch [3/10], Loss: 1.3671, Test Accuracy: 61.38%, Learning Rate: 0.000100, Average MMD: 0.0003, Average CLS: 1.3671\n"
     ]
    },
    {
     "name": "stderr",
     "output_type": "stream",
     "text": [
      "Epoch 4/10: 100%|██████████| 261/261 [00:44<00:00,  5.91it/s]\n"
     ]
    },
    {
     "name": "stdout",
     "output_type": "stream",
     "text": [
      "Epoch [4/10], Loss: 1.2067, Test Accuracy: 63.05%, Learning Rate: 0.000100, Average MMD: 0.0002, Average CLS: 1.2067\n"
     ]
    },
    {
     "name": "stderr",
     "output_type": "stream",
     "text": [
      "Epoch 5/10: 100%|██████████| 261/261 [00:44<00:00,  5.91it/s]\n"
     ]
    },
    {
     "name": "stdout",
     "output_type": "stream",
     "text": [
      "Epoch [5/10], Loss: 1.1013, Test Accuracy: 64.85%, Learning Rate: 0.000100, Average MMD: 0.0002, Average CLS: 1.1013\n"
     ]
    },
    {
     "name": "stderr",
     "output_type": "stream",
     "text": [
      "Epoch 6/10: 100%|██████████| 261/261 [00:44<00:00,  5.91it/s]\n"
     ]
    },
    {
     "name": "stdout",
     "output_type": "stream",
     "text": [
      "Epoch [6/10], Loss: 1.0059, Test Accuracy: 70.36%, Learning Rate: 0.000100, Average MMD: 0.0001, Average CLS: 1.0059\n"
     ]
    },
    {
     "name": "stderr",
     "output_type": "stream",
     "text": [
      "Epoch 7/10: 100%|██████████| 261/261 [00:44<00:00,  5.91it/s]\n"
     ]
    },
    {
     "name": "stdout",
     "output_type": "stream",
     "text": [
      "Epoch [7/10], Loss: 0.9307, Test Accuracy: 67.60%, Learning Rate: 0.000100, Average MMD: 0.0001, Average CLS: 0.9307\n"
     ]
    },
    {
     "name": "stderr",
     "output_type": "stream",
     "text": [
      "Epoch 8/10: 100%|██████████| 261/261 [00:44<00:00,  5.91it/s]\n"
     ]
    },
    {
     "name": "stdout",
     "output_type": "stream",
     "text": [
      "Epoch [8/10], Loss: 0.8745, Test Accuracy: 70.60%, Learning Rate: 0.000100, Average MMD: 0.0001, Average CLS: 0.8745\n"
     ]
    },
    {
     "name": "stderr",
     "output_type": "stream",
     "text": [
      "Epoch 9/10: 100%|██████████| 261/261 [00:44<00:00,  5.88it/s]\n"
     ]
    },
    {
     "name": "stdout",
     "output_type": "stream",
     "text": [
      "Epoch [9/10], Loss: 0.8302, Test Accuracy: 69.10%, Learning Rate: 0.000100, Average MMD: 0.0001, Average CLS: 0.8302\n"
     ]
    },
    {
     "name": "stderr",
     "output_type": "stream",
     "text": [
      "Epoch 10/10: 100%|██████████| 261/261 [00:44<00:00,  5.84it/s]\n"
     ]
    },
    {
     "name": "stdout",
     "output_type": "stream",
     "text": [
      "Epoch [10/10], Loss: 0.7695, Test Accuracy: 70.72%, Learning Rate: 0.000010, Average MMD: 0.0001, Average CLS: 0.7695\n",
      "Finished Training\n",
      "\n",
      "Test Accuracy: 81.14%\n",
      "Running: train_fact()\n"
     ]
    },
    {
     "name": "stderr",
     "output_type": "stream",
     "text": [
      "Epoch 1/10: 100%|██████████| 261/261 [00:56<00:00,  4.65it/s]\n"
     ]
    },
    {
     "name": "stdout",
     "output_type": "stream",
     "text": [
      "Epoch [1/10], Loss: 3.6228, Test Accuracy: 32.34%, Learning Rate: 0.000100\n"
     ]
    },
    {
     "name": "stderr",
     "output_type": "stream",
     "text": [
      "Epoch 2/10: 100%|██████████| 261/261 [00:56<00:00,  4.66it/s]\n"
     ]
    },
    {
     "name": "stdout",
     "output_type": "stream",
     "text": [
      "Epoch [2/10], Loss: 2.9735, Test Accuracy: 63.05%, Learning Rate: 0.000100\n"
     ]
    },
    {
     "name": "stderr",
     "output_type": "stream",
     "text": [
      "Epoch 3/10: 100%|██████████| 261/261 [00:55<00:00,  4.66it/s]\n"
     ]
    },
    {
     "name": "stdout",
     "output_type": "stream",
     "text": [
      "Epoch [3/10], Loss: 2.6087, Test Accuracy: 55.27%, Learning Rate: 0.000100\n"
     ]
    },
    {
     "name": "stderr",
     "output_type": "stream",
     "text": [
      "Epoch 4/10: 100%|██████████| 261/261 [00:56<00:00,  4.66it/s]\n"
     ]
    },
    {
     "name": "stdout",
     "output_type": "stream",
     "text": [
      "Epoch [4/10], Loss: 2.3462, Test Accuracy: 61.98%, Learning Rate: 0.000100\n"
     ]
    },
    {
     "name": "stderr",
     "output_type": "stream",
     "text": [
      "Epoch 5/10: 100%|██████████| 261/261 [00:55<00:00,  4.66it/s]\n"
     ]
    },
    {
     "name": "stdout",
     "output_type": "stream",
     "text": [
      "Epoch [5/10], Loss: 2.1518, Test Accuracy: 68.80%, Learning Rate: 0.000100\n"
     ]
    },
    {
     "name": "stderr",
     "output_type": "stream",
     "text": [
      "Epoch 6/10: 100%|██████████| 261/261 [00:56<00:00,  4.66it/s]\n"
     ]
    },
    {
     "name": "stdout",
     "output_type": "stream",
     "text": [
      "Epoch [6/10], Loss: 2.0092, Test Accuracy: 68.02%, Learning Rate: 0.000100\n"
     ]
    },
    {
     "name": "stderr",
     "output_type": "stream",
     "text": [
      "Epoch 7/10: 100%|██████████| 261/261 [00:56<00:00,  4.66it/s]\n"
     ]
    },
    {
     "name": "stdout",
     "output_type": "stream",
     "text": [
      "Epoch [7/10], Loss: 1.8880, Test Accuracy: 69.82%, Learning Rate: 0.000100\n"
     ]
    },
    {
     "name": "stderr",
     "output_type": "stream",
     "text": [
      "Epoch 8/10: 100%|██████████| 261/261 [00:56<00:00,  4.66it/s]\n"
     ]
    },
    {
     "name": "stdout",
     "output_type": "stream",
     "text": [
      "Epoch [8/10], Loss: 1.7884, Test Accuracy: 69.34%, Learning Rate: 0.000100\n"
     ]
    },
    {
     "name": "stderr",
     "output_type": "stream",
     "text": [
      "Epoch 9/10: 100%|██████████| 261/261 [00:56<00:00,  4.66it/s]\n"
     ]
    },
    {
     "name": "stdout",
     "output_type": "stream",
     "text": [
      "Epoch [9/10], Loss: 1.6999, Test Accuracy: 73.41%, Learning Rate: 0.000100\n"
     ]
    },
    {
     "name": "stderr",
     "output_type": "stream",
     "text": [
      "Epoch 10/10: 100%|██████████| 261/261 [00:56<00:00,  4.65it/s]\n"
     ]
    },
    {
     "name": "stdout",
     "output_type": "stream",
     "text": [
      "Epoch [10/10], Loss: 1.6257, Test Accuracy: 77.43%, Learning Rate: 0.000010\n",
      "Finished Training\n",
      "\n",
      "Test Accuracy: 88.57%\n",
      "Running: train_fact()\n"
     ]
    },
    {
     "name": "stderr",
     "output_type": "stream",
     "text": [
      "Epoch 1/10: 100%|██████████| 261/261 [00:56<00:00,  4.65it/s]\n"
     ]
    },
    {
     "name": "stdout",
     "output_type": "stream",
     "text": [
      "Epoch [1/10], Loss: 3.5792, Test Accuracy: 47.25%, Learning Rate: 0.000100\n"
     ]
    },
    {
     "name": "stderr",
     "output_type": "stream",
     "text": [
      "Epoch 2/10: 100%|██████████| 261/261 [00:55<00:00,  4.66it/s]\n"
     ]
    },
    {
     "name": "stdout",
     "output_type": "stream",
     "text": [
      "Epoch [2/10], Loss: 2.9671, Test Accuracy: 59.28%, Learning Rate: 0.000100\n"
     ]
    },
    {
     "name": "stderr",
     "output_type": "stream",
     "text": [
      "Epoch 3/10: 100%|██████████| 261/261 [00:55<00:00,  4.66it/s]\n"
     ]
    },
    {
     "name": "stdout",
     "output_type": "stream",
     "text": [
      "Epoch [3/10], Loss: 2.5675, Test Accuracy: 70.96%, Learning Rate: 0.000100\n"
     ]
    },
    {
     "name": "stderr",
     "output_type": "stream",
     "text": [
      "Epoch 4/10: 100%|██████████| 261/261 [00:56<00:00,  4.66it/s]\n"
     ]
    },
    {
     "name": "stdout",
     "output_type": "stream",
     "text": [
      "Epoch [4/10], Loss: 2.3204, Test Accuracy: 70.84%, Learning Rate: 0.000100\n"
     ]
    },
    {
     "name": "stderr",
     "output_type": "stream",
     "text": [
      "Epoch 5/10: 100%|██████████| 261/261 [00:55<00:00,  4.66it/s]\n"
     ]
    },
    {
     "name": "stdout",
     "output_type": "stream",
     "text": [
      "Epoch [5/10], Loss: 2.1348, Test Accuracy: 71.62%, Learning Rate: 0.000100\n"
     ]
    },
    {
     "name": "stderr",
     "output_type": "stream",
     "text": [
      "Epoch 6/10: 100%|██████████| 261/261 [00:56<00:00,  4.66it/s]\n"
     ]
    },
    {
     "name": "stdout",
     "output_type": "stream",
     "text": [
      "Epoch [6/10], Loss: 2.0024, Test Accuracy: 74.01%, Learning Rate: 0.000100\n"
     ]
    },
    {
     "name": "stderr",
     "output_type": "stream",
     "text": [
      "Epoch 7/10: 100%|██████████| 261/261 [00:56<00:00,  4.66it/s]\n"
     ]
    },
    {
     "name": "stdout",
     "output_type": "stream",
     "text": [
      "Epoch [7/10], Loss: 1.8880, Test Accuracy: 73.65%, Learning Rate: 0.000100\n"
     ]
    },
    {
     "name": "stderr",
     "output_type": "stream",
     "text": [
      "Epoch 8/10: 100%|██████████| 261/261 [00:55<00:00,  4.66it/s]\n"
     ]
    },
    {
     "name": "stdout",
     "output_type": "stream",
     "text": [
      "Epoch [8/10], Loss: 1.7811, Test Accuracy: 73.17%, Learning Rate: 0.000100\n"
     ]
    },
    {
     "name": "stderr",
     "output_type": "stream",
     "text": [
      "Epoch 9/10: 100%|██████████| 261/261 [00:56<00:00,  4.64it/s]\n"
     ]
    },
    {
     "name": "stdout",
     "output_type": "stream",
     "text": [
      "Epoch [9/10], Loss: 1.7038, Test Accuracy: 72.81%, Learning Rate: 0.000100\n"
     ]
    },
    {
     "name": "stderr",
     "output_type": "stream",
     "text": [
      "Epoch 10/10: 100%|██████████| 261/261 [00:56<00:00,  4.64it/s]\n"
     ]
    },
    {
     "name": "stdout",
     "output_type": "stream",
     "text": [
      "Epoch [10/10], Loss: 1.6240, Test Accuracy: 73.53%, Learning Rate: 0.000010\n",
      "Finished Training\n",
      "\n",
      "Test Accuracy: 80.86%\n",
      "Running: train_fact()\n"
     ]
    },
    {
     "name": "stderr",
     "output_type": "stream",
     "text": [
      "Epoch 1/10: 100%|██████████| 261/261 [00:56<00:00,  4.65it/s]\n"
     ]
    },
    {
     "name": "stdout",
     "output_type": "stream",
     "text": [
      "Epoch [1/10], Loss: 3.6266, Test Accuracy: 45.03%, Learning Rate: 0.000100\n"
     ]
    },
    {
     "name": "stderr",
     "output_type": "stream",
     "text": [
      "Epoch 2/10: 100%|██████████| 261/261 [00:56<00:00,  4.65it/s]\n"
     ]
    },
    {
     "name": "stdout",
     "output_type": "stream",
     "text": [
      "Epoch [2/10], Loss: 2.9908, Test Accuracy: 62.22%, Learning Rate: 0.000100\n"
     ]
    },
    {
     "name": "stderr",
     "output_type": "stream",
     "text": [
      "Epoch 3/10: 100%|██████████| 261/261 [00:55<00:00,  4.66it/s]\n"
     ]
    },
    {
     "name": "stdout",
     "output_type": "stream",
     "text": [
      "Epoch [3/10], Loss: 2.6270, Test Accuracy: 62.04%, Learning Rate: 0.000100\n"
     ]
    },
    {
     "name": "stderr",
     "output_type": "stream",
     "text": [
      "Epoch 4/10: 100%|██████████| 261/261 [00:56<00:00,  4.66it/s]\n"
     ]
    },
    {
     "name": "stdout",
     "output_type": "stream",
     "text": [
      "Epoch [4/10], Loss: 2.3423, Test Accuracy: 68.62%, Learning Rate: 0.000100\n"
     ]
    },
    {
     "name": "stderr",
     "output_type": "stream",
     "text": [
      "Epoch 5/10: 100%|██████████| 261/261 [00:55<00:00,  4.67it/s]\n"
     ]
    },
    {
     "name": "stdout",
     "output_type": "stream",
     "text": [
      "Epoch [5/10], Loss: 2.1529, Test Accuracy: 70.00%, Learning Rate: 0.000100\n"
     ]
    },
    {
     "name": "stderr",
     "output_type": "stream",
     "text": [
      "Epoch 6/10: 100%|██████████| 261/261 [00:55<00:00,  4.66it/s]\n"
     ]
    },
    {
     "name": "stdout",
     "output_type": "stream",
     "text": [
      "Epoch [6/10], Loss: 2.0112, Test Accuracy: 64.85%, Learning Rate: 0.000100\n"
     ]
    },
    {
     "name": "stderr",
     "output_type": "stream",
     "text": [
      "Epoch 7/10: 100%|██████████| 261/261 [00:55<00:00,  4.66it/s]\n"
     ]
    },
    {
     "name": "stdout",
     "output_type": "stream",
     "text": [
      "Epoch [7/10], Loss: 1.8754, Test Accuracy: 72.87%, Learning Rate: 0.000100\n"
     ]
    },
    {
     "name": "stderr",
     "output_type": "stream",
     "text": [
      "Epoch 8/10: 100%|██████████| 261/261 [00:55<00:00,  4.66it/s]\n"
     ]
    },
    {
     "name": "stdout",
     "output_type": "stream",
     "text": [
      "Epoch [8/10], Loss: 1.7785, Test Accuracy: 72.34%, Learning Rate: 0.000100\n"
     ]
    },
    {
     "name": "stderr",
     "output_type": "stream",
     "text": [
      "Epoch 9/10: 100%|██████████| 261/261 [00:55<00:00,  4.66it/s]\n"
     ]
    },
    {
     "name": "stdout",
     "output_type": "stream",
     "text": [
      "Epoch [9/10], Loss: 1.7109, Test Accuracy: 76.11%, Learning Rate: 0.000100\n"
     ]
    },
    {
     "name": "stderr",
     "output_type": "stream",
     "text": [
      "Epoch 10/10: 100%|██████████| 261/261 [00:56<00:00,  4.66it/s]\n"
     ]
    },
    {
     "name": "stdout",
     "output_type": "stream",
     "text": [
      "Epoch [10/10], Loss: 1.6230, Test Accuracy: 76.23%, Learning Rate: 0.000010\n",
      "Finished Training\n",
      "\n",
      "Test Accuracy: 85.71%\n",
      "Running: train_mmdcos()\n"
     ]
    },
    {
     "name": "stderr",
     "output_type": "stream",
     "text": [
      "Epoch 1/10: 100%|██████████| 261/261 [00:39<00:00,  6.54it/s]\n"
     ]
    },
    {
     "name": "stdout",
     "output_type": "stream",
     "text": [
      "Epoch [1/10], Loss: 1.8592, Test Accuracy: 35.81%, Learning Rate: 0.000100, Average MMD: 0.9673, Average CLS: 1.8365\n"
     ]
    },
    {
     "name": "stderr",
     "output_type": "stream",
     "text": [
      "Epoch 2/10: 100%|██████████| 261/261 [00:40<00:00,  6.52it/s]\n"
     ]
    },
    {
     "name": "stdout",
     "output_type": "stream",
     "text": [
      "Epoch [2/10], Loss: 1.5867, Test Accuracy: 52.51%, Learning Rate: 0.000100, Average MMD: 0.9540, Average CLS: 1.5642\n"
     ]
    },
    {
     "name": "stderr",
     "output_type": "stream",
     "text": [
      "Epoch 3/10:  66%|██████▋   | 173/261 [00:26<00:13,  6.60it/s]"
     ]
    }
   ],
   "source": [
    "import time\n",
    "device = torch.device('cuda' if torch.cuda.is_available() else 'cpu')\n",
    "\n",
    "train_functions = [\n",
    "    ('base', train_base),\n",
    "    ('mmd', train_mmd),\n",
    "    ('fact', train_fact),\n",
    "    ('mmdcos', train_mmdcos),\n",
    "    ('fpjgc', train_fpjgc),\n",
    "    ('lapar', train_lapar),\n",
    "]\n",
    "\n",
    "iteration = 3\n",
    "\n",
    "train_result = []\n",
    "test_result = []\n",
    "\n",
    "for name, func in train_functions:\n",
    "    for run in range(iteration):\n",
    "        # Training\n",
    "        print(f\"Running: train_{name}()\")\n",
    "        start_time = time.time()\n",
    "        acc, train_losses, test_accuracies  = func()\n",
    "        end_time = time.time()\n",
    "        duration = end_time - start_time\n",
    "        train_result.append((name, run, acc, duration, train_losses, test_accuracies))\n",
    "\n",
    "        #Evaluate Curated PACS\n",
    "        model_path = f'./{model_name}_{name}'\n",
    "        if 'mmd' in model_path:\n",
    "            model = ResNetWithFeatures(num_classes=7)\n",
    "        else:\n",
    "            model = models.resnet50(weights='ResNet50_Weights.DEFAULT')  # ✅ pretrained=True와 동일\n",
    "            num_features = model.fc.in_features\n",
    "            model.fc = torch.nn.Linear(num_features, 7)  # ✅ PACS용 7개 클래스 출력\n",
    "\n",
    "        state_dict = torch.load(model_path)   # ✅ weights_only 제거\n",
    "        model.load_state_dict(state_dict)\n",
    "        model.eval()\n",
    "        model.to(device)\n",
    "\n",
    "        acc_test = evaluate_curated_pacs(model)\n",
    "        test_result.append((name, run, acc_test*100))\n",
    "\n",
    "# Save training results\n",
    "with open(\"train_results.txt\", \"w\") as f:\n",
    "    f.write(\"=== Train Accuracy Results ===\\n\")\n",
    "    for name, run, acc, duration, train_losses, test_accuracies in train_result:\n",
    "        f.write(f\"{name}[{run}] → {acc:.2f}% (took {duration:.2f}s)\\n\")\n",
    "\n",
    "# Save test results\n",
    "with open(\"test_results.txt\", \"w\") as f:\n",
    "    f.write(\"=== Test Accuracy Results ===\\n\")\n",
    "    for name, run, acc in test_result:\n",
    "        f.write(f\"{name}[{run}] → {acc:.2f}%\\n\")\n",
    "\n",
    "output_dir = \"plots\"\n",
    "os.makedirs(output_dir, exist_ok=True)\n",
    "\n",
    "for name, run, acc, duration, train_losses, test_accuracies in train_result:\n",
    "    # Plotting after training is finished\n",
    "    plt.figure(figsize=(6, 4))\n",
    "\n",
    "    plt.suptitle(f\"Model \\\"{name}\\\" iteration: {run} Loss & Accuracy\",\n",
    "                 fontsize=14)  \n",
    "\n",
    "    # Plot training loss\n",
    "    plt.subplot(1, 2, 1)\n",
    "    plt.plot(train_losses)\n",
    "    plt.title('Training Loss')\n",
    "    plt.xlabel('Iteration')\n",
    "    plt.ylabel('Loss')\n",
    "\n",
    "    # Plot test accuracy\n",
    "    plt.subplot(1, 2, 2)\n",
    "    plt.plot(test_accuracies)\n",
    "    plt.title('Test Accuracy')\n",
    "    plt.xlabel('Epoch')\n",
    "    plt.ylabel('Accuracy (%)')\n",
    "\n",
    "    plt.tight_layout()\n",
    "\n",
    "    filename = f\"{name}_run{run}.png\"\n",
    "    save_path = os.path.join(output_dir, filename)\n",
    "\n",
    "    plt.savefig(save_path)\n",
    "\n",
    "    plt.close()"
   ]
  },
  {
   "cell_type": "markdown",
   "metadata": {},
   "source": [
    "# Evaluate Curated PACS"
   ]
  },
  {
   "cell_type": "code",
   "execution_count": null,
   "metadata": {},
   "outputs": [],
   "source": [
    "def evaluate_curated_pacs(model):\n",
    "    # Custom Dataset\n",
    "    class CustomDataset(Dataset):\n",
    "        def __init__(self, root_dir, transform=None):\n",
    "            self.root_dir = root_dir\n",
    "            self.transform = transform\n",
    "            self.images = []\n",
    "            self.labels = []\n",
    "            self.class_to_idx = {'dog': 0, 'elephant': 1, 'giraffe': 2, 'guitar': 3, 'horse': 4, 'house': 5, 'person': 6}\n",
    "            self.idx_to_class = {v: k for k, v in self.class_to_idx.items()}\n",
    "            \n",
    "            for cls_name in self.class_to_idx.keys():\n",
    "                cls_dir = os.path.join(self.root_dir, cls_name)\n",
    "                for img_name in os.listdir(cls_dir):\n",
    "                    if img_name.lower().endswith(('.jpg', '.jpeg', '.png')):\n",
    "                        self.images.append(os.path.join(cls_dir, img_name))\n",
    "                        self.labels.append(self.class_to_idx[cls_name])\n",
    "\n",
    "        def __len__(self):\n",
    "            return len(self.images)\n",
    "\n",
    "        def __getitem__(self, idx):\n",
    "            img_path = self.images[idx]\n",
    "            label = self.labels[idx]\n",
    "            image = Image.open(img_path).convert('RGB')\n",
    "            if self.transform:\n",
    "                image = self.transform(image)\n",
    "            return image, label\n",
    "\n",
    "    # Load test data\n",
    "    root_dir_test = './CuratedPACS'\n",
    "    dataset_test = CustomDataset(root_dir_test, transform=transform_test)\n",
    "    loader_test = DataLoader(dataset_test, batch_size=batch_size, shuffle=False)\n",
    "\n",
    "    # Evaluation\n",
    "    correct = 0\n",
    "    total = 0\n",
    "\n",
    "    with torch.no_grad():\n",
    "        for inputs, labels in loader_test:\n",
    "            inputs, labels = inputs.to(device), labels.to(device)\n",
    "            outputs = model(inputs)\n",
    "            _, predicted = outputs.max(1)\n",
    "\n",
    "            # 라벨 문자열 출력\n",
    "            for t, p in zip(labels.cpu(), predicted.cpu()):\n",
    "                true_name = dataset_test.idx_to_class[t.item()]\n",
    "                pred_name = dataset_test.idx_to_class[p.item()]\n",
    "                print(f\"GT: {true_name:8s} | Pred: {pred_name:8s} {'✅' if t==p else '❌'}\")\n",
    "\n",
    "            total += labels.size(0)\n",
    "            correct += predicted.eq(labels).sum().item()\n",
    "\n",
    "    print(f\"\\nTest Accuracy: {100 * correct / total:.2f}%\")\n",
    "    return (correct / total)"
   ]
  },
  {
   "cell_type": "code",
   "execution_count": null,
   "metadata": {},
   "outputs": [
    {
     "name": "stderr",
     "output_type": "stream",
     "text": [
      "/tmp/ipykernel_246612/2477631611.py:16: FutureWarning: You are using `torch.load` with `weights_only=False` (the current default value), which uses the default pickle module implicitly. It is possible to construct malicious pickle data which will execute arbitrary code during unpickling (See https://github.com/pytorch/pytorch/blob/main/SECURITY.md#untrusted-models for more details). In a future release, the default value for `weights_only` will be flipped to `True`. This limits the functions that could be executed during unpickling. Arbitrary objects will no longer be allowed to be loaded via this mode unless they are explicitly allowlisted by the user via `torch.serialization.add_safe_globals`. We recommend you start setting `weights_only=True` for any use case where you don't have full control of the loaded file. Please open an issue on GitHub for any issues related to this experimental feature.\n",
      "  state_dict = torch.load(model_path)   # ✅ weights_only 제거\n"
     ]
    },
    {
     "name": "stdout",
     "output_type": "stream",
     "text": [
      "GT: dog      | Pred: horse    ❌\n",
      "GT: dog      | Pred: dog      ✅\n",
      "GT: dog      | Pred: dog      ✅\n",
      "GT: dog      | Pred: dog      ✅\n",
      "GT: dog      | Pred: person   ❌\n",
      "GT: dog      | Pred: dog      ✅\n",
      "GT: dog      | Pred: dog      ✅\n",
      "GT: dog      | Pred: dog      ✅\n",
      "GT: dog      | Pred: dog      ✅\n",
      "GT: dog      | Pred: dog      ✅\n",
      "GT: dog      | Pred: dog      ✅\n",
      "GT: dog      | Pred: elephant ❌\n",
      "GT: dog      | Pred: dog      ✅\n",
      "GT: dog      | Pred: dog      ✅\n",
      "GT: dog      | Pred: dog      ✅\n",
      "GT: dog      | Pred: dog      ✅\n",
      "GT: dog      | Pred: elephant ❌\n",
      "GT: dog      | Pred: giraffe  ❌\n",
      "GT: dog      | Pred: person   ❌\n",
      "GT: dog      | Pred: dog      ✅\n",
      "GT: dog      | Pred: dog      ✅\n",
      "GT: dog      | Pred: house    ❌\n",
      "GT: dog      | Pred: dog      ✅\n",
      "GT: dog      | Pred: dog      ✅\n",
      "GT: dog      | Pred: dog      ✅\n",
      "GT: dog      | Pred: dog      ✅\n",
      "GT: dog      | Pred: dog      ✅\n",
      "GT: dog      | Pred: giraffe  ❌\n",
      "GT: dog      | Pred: dog      ✅\n",
      "GT: dog      | Pred: dog      ✅\n",
      "GT: dog      | Pred: person   ❌\n",
      "GT: dog      | Pred: elephant ❌\n",
      "GT: dog      | Pred: dog      ✅\n",
      "GT: dog      | Pred: dog      ✅\n",
      "GT: dog      | Pred: dog      ✅\n",
      "GT: dog      | Pred: dog      ✅\n",
      "GT: dog      | Pred: dog      ✅\n",
      "GT: dog      | Pred: dog      ✅\n",
      "GT: dog      | Pred: dog      ✅\n",
      "GT: dog      | Pred: dog      ✅\n",
      "GT: dog      | Pred: dog      ✅\n",
      "GT: dog      | Pred: dog      ✅\n",
      "GT: dog      | Pred: dog      ✅\n",
      "GT: dog      | Pred: dog      ✅\n",
      "GT: dog      | Pred: dog      ✅\n",
      "GT: dog      | Pred: dog      ✅\n",
      "GT: dog      | Pred: giraffe  ❌\n",
      "GT: dog      | Pred: dog      ✅\n",
      "GT: dog      | Pred: dog      ✅\n",
      "GT: dog      | Pred: giraffe  ❌\n",
      "GT: elephant | Pred: horse    ❌\n",
      "GT: elephant | Pred: house    ❌\n",
      "GT: elephant | Pred: elephant ✅\n",
      "GT: elephant | Pred: horse    ❌\n",
      "GT: elephant | Pred: horse    ❌\n",
      "GT: elephant | Pred: elephant ✅\n",
      "GT: elephant | Pred: elephant ✅\n",
      "GT: elephant | Pred: horse    ❌\n",
      "GT: elephant | Pred: house    ❌\n",
      "GT: elephant | Pred: elephant ✅\n",
      "GT: elephant | Pred: elephant ✅\n",
      "GT: elephant | Pred: elephant ✅\n",
      "GT: elephant | Pred: elephant ✅\n",
      "GT: elephant | Pred: elephant ✅\n",
      "GT: elephant | Pred: person   ❌\n",
      "GT: elephant | Pred: dog      ❌\n",
      "GT: elephant | Pred: person   ❌\n",
      "GT: elephant | Pred: horse    ❌\n",
      "GT: elephant | Pred: horse    ❌\n",
      "GT: elephant | Pred: elephant ✅\n",
      "GT: elephant | Pred: horse    ❌\n",
      "GT: elephant | Pred: elephant ✅\n",
      "GT: elephant | Pred: elephant ✅\n",
      "GT: elephant | Pred: elephant ✅\n",
      "GT: elephant | Pred: elephant ✅\n",
      "GT: elephant | Pred: elephant ✅\n",
      "GT: elephant | Pred: house    ❌\n",
      "GT: elephant | Pred: elephant ✅\n",
      "GT: elephant | Pred: horse    ❌\n",
      "GT: elephant | Pred: horse    ❌\n",
      "GT: elephant | Pred: elephant ✅\n",
      "GT: elephant | Pred: dog      ❌\n",
      "GT: elephant | Pred: house    ❌\n",
      "GT: elephant | Pred: elephant ✅\n",
      "GT: elephant | Pred: dog      ❌\n",
      "GT: elephant | Pred: elephant ✅\n",
      "GT: elephant | Pred: elephant ✅\n",
      "GT: elephant | Pred: elephant ✅\n",
      "GT: elephant | Pred: dog      ❌\n",
      "GT: elephant | Pred: elephant ✅\n",
      "GT: elephant | Pred: elephant ✅\n",
      "GT: elephant | Pred: person   ❌\n",
      "GT: elephant | Pred: horse    ❌\n",
      "GT: elephant | Pred: elephant ✅\n",
      "GT: elephant | Pred: horse    ❌\n",
      "GT: elephant | Pred: horse    ❌\n",
      "GT: elephant | Pred: elephant ✅\n",
      "GT: elephant | Pred: elephant ✅\n",
      "GT: elephant | Pred: dog      ❌\n",
      "GT: elephant | Pred: horse    ❌\n",
      "GT: giraffe  | Pred: giraffe  ✅\n",
      "GT: giraffe  | Pred: giraffe  ✅\n",
      "GT: giraffe  | Pred: giraffe  ✅\n",
      "GT: giraffe  | Pred: giraffe  ✅\n",
      "GT: giraffe  | Pred: giraffe  ✅\n",
      "GT: giraffe  | Pred: giraffe  ✅\n",
      "GT: giraffe  | Pred: house    ❌\n",
      "GT: giraffe  | Pred: house    ❌\n",
      "GT: giraffe  | Pred: house    ❌\n",
      "GT: giraffe  | Pred: house    ❌\n",
      "GT: giraffe  | Pred: giraffe  ✅\n",
      "GT: giraffe  | Pred: giraffe  ✅\n",
      "GT: giraffe  | Pred: giraffe  ✅\n",
      "GT: giraffe  | Pred: giraffe  ✅\n",
      "GT: giraffe  | Pred: house    ❌\n",
      "GT: giraffe  | Pred: guitar   ❌\n",
      "GT: giraffe  | Pred: giraffe  ✅\n",
      "GT: giraffe  | Pred: giraffe  ✅\n",
      "GT: giraffe  | Pred: giraffe  ✅\n",
      "GT: giraffe  | Pred: house    ❌\n",
      "GT: giraffe  | Pred: person   ❌\n",
      "GT: giraffe  | Pred: giraffe  ✅\n",
      "GT: giraffe  | Pred: giraffe  ✅\n",
      "GT: giraffe  | Pred: giraffe  ✅\n",
      "GT: giraffe  | Pred: giraffe  ✅\n",
      "GT: giraffe  | Pred: person   ❌\n",
      "GT: giraffe  | Pred: giraffe  ✅\n",
      "GT: giraffe  | Pred: giraffe  ✅\n",
      "GT: giraffe  | Pred: giraffe  ✅\n",
      "GT: giraffe  | Pred: giraffe  ✅\n",
      "GT: giraffe  | Pred: giraffe  ✅\n",
      "GT: giraffe  | Pred: giraffe  ✅\n",
      "GT: giraffe  | Pred: giraffe  ✅\n",
      "GT: giraffe  | Pred: person   ❌\n",
      "GT: giraffe  | Pred: giraffe  ✅\n",
      "GT: giraffe  | Pred: house    ❌\n",
      "GT: giraffe  | Pred: person   ❌\n",
      "GT: giraffe  | Pred: giraffe  ✅\n",
      "GT: giraffe  | Pred: house    ❌\n",
      "GT: giraffe  | Pred: house    ❌\n",
      "GT: giraffe  | Pred: giraffe  ✅\n",
      "GT: giraffe  | Pred: house    ❌\n",
      "GT: giraffe  | Pred: giraffe  ✅\n",
      "GT: giraffe  | Pred: giraffe  ✅\n",
      "GT: giraffe  | Pred: giraffe  ✅\n",
      "GT: giraffe  | Pred: giraffe  ✅\n",
      "GT: giraffe  | Pred: giraffe  ✅\n",
      "GT: giraffe  | Pred: giraffe  ✅\n",
      "GT: giraffe  | Pred: giraffe  ✅\n",
      "GT: giraffe  | Pred: giraffe  ✅\n",
      "GT: guitar   | Pred: person   ❌\n",
      "GT: guitar   | Pred: guitar   ✅\n",
      "GT: guitar   | Pred: guitar   ✅\n",
      "GT: guitar   | Pred: guitar   ✅\n",
      "GT: guitar   | Pred: giraffe  ❌\n",
      "GT: guitar   | Pred: guitar   ✅\n",
      "GT: guitar   | Pred: guitar   ✅\n",
      "GT: guitar   | Pred: giraffe  ❌\n",
      "GT: guitar   | Pred: guitar   ✅\n",
      "GT: guitar   | Pred: guitar   ✅\n",
      "GT: guitar   | Pred: guitar   ✅\n",
      "GT: guitar   | Pred: guitar   ✅\n",
      "GT: guitar   | Pred: guitar   ✅\n",
      "GT: guitar   | Pred: guitar   ✅\n",
      "GT: guitar   | Pred: guitar   ✅\n",
      "GT: guitar   | Pred: guitar   ✅\n",
      "GT: guitar   | Pred: guitar   ✅\n",
      "GT: guitar   | Pred: guitar   ✅\n",
      "GT: guitar   | Pred: guitar   ✅\n",
      "GT: guitar   | Pred: guitar   ✅\n",
      "GT: guitar   | Pred: guitar   ✅\n",
      "GT: guitar   | Pred: guitar   ✅\n",
      "GT: guitar   | Pred: guitar   ✅\n",
      "GT: guitar   | Pred: guitar   ✅\n",
      "GT: guitar   | Pred: guitar   ✅\n",
      "GT: guitar   | Pred: guitar   ✅\n",
      "GT: guitar   | Pred: guitar   ✅\n",
      "GT: guitar   | Pred: guitar   ✅\n",
      "GT: guitar   | Pred: guitar   ✅\n",
      "GT: guitar   | Pred: guitar   ✅\n",
      "GT: guitar   | Pred: guitar   ✅\n",
      "GT: guitar   | Pred: guitar   ✅\n",
      "GT: guitar   | Pred: guitar   ✅\n",
      "GT: guitar   | Pred: guitar   ✅\n",
      "GT: guitar   | Pred: guitar   ✅\n",
      "GT: guitar   | Pred: guitar   ✅\n",
      "GT: guitar   | Pred: guitar   ✅\n",
      "GT: guitar   | Pred: guitar   ✅\n",
      "GT: guitar   | Pred: guitar   ✅\n",
      "GT: guitar   | Pred: guitar   ✅\n",
      "GT: guitar   | Pred: guitar   ✅\n",
      "GT: guitar   | Pred: guitar   ✅\n",
      "GT: guitar   | Pred: guitar   ✅\n",
      "GT: guitar   | Pred: guitar   ✅\n",
      "GT: guitar   | Pred: guitar   ✅\n",
      "GT: guitar   | Pred: person   ❌\n",
      "GT: guitar   | Pred: guitar   ✅\n",
      "GT: guitar   | Pred: guitar   ✅\n",
      "GT: guitar   | Pred: guitar   ✅\n",
      "GT: guitar   | Pred: guitar   ✅\n",
      "GT: horse    | Pred: horse    ✅\n",
      "GT: horse    | Pred: dog      ❌\n",
      "GT: horse    | Pred: horse    ✅\n",
      "GT: horse    | Pred: horse    ✅\n",
      "GT: horse    | Pred: dog      ❌\n",
      "GT: horse    | Pred: horse    ✅\n",
      "GT: horse    | Pred: horse    ✅\n",
      "GT: horse    | Pred: horse    ✅\n",
      "GT: horse    | Pred: horse    ✅\n",
      "GT: horse    | Pred: horse    ✅\n",
      "GT: horse    | Pred: horse    ✅\n",
      "GT: horse    | Pred: person   ❌\n",
      "GT: horse    | Pred: horse    ✅\n",
      "GT: horse    | Pred: horse    ✅\n",
      "GT: horse    | Pred: horse    ✅\n",
      "GT: horse    | Pred: horse    ✅\n",
      "GT: horse    | Pred: horse    ✅\n",
      "GT: horse    | Pred: person   ❌\n",
      "GT: horse    | Pred: dog      ❌\n",
      "GT: horse    | Pred: house    ❌\n",
      "GT: horse    | Pred: horse    ✅\n",
      "GT: horse    | Pred: horse    ✅\n",
      "GT: horse    | Pred: horse    ✅\n",
      "GT: horse    | Pred: horse    ✅\n",
      "GT: horse    | Pred: dog      ❌\n",
      "GT: horse    | Pred: horse    ✅\n",
      "GT: horse    | Pred: horse    ✅\n",
      "GT: horse    | Pred: person   ❌\n",
      "GT: horse    | Pred: horse    ✅\n",
      "GT: horse    | Pred: horse    ✅\n",
      "GT: horse    | Pred: horse    ✅\n",
      "GT: horse    | Pred: dog      ❌\n",
      "GT: horse    | Pred: horse    ✅\n",
      "GT: horse    | Pred: horse    ✅\n",
      "GT: horse    | Pred: horse    ✅\n",
      "GT: horse    | Pred: giraffe  ❌\n",
      "GT: horse    | Pred: horse    ✅\n",
      "GT: horse    | Pred: horse    ✅\n",
      "GT: horse    | Pred: elephant ❌\n",
      "GT: horse    | Pred: horse    ✅\n",
      "GT: horse    | Pred: horse    ✅\n",
      "GT: horse    | Pred: horse    ✅\n",
      "GT: horse    | Pred: horse    ✅\n",
      "GT: horse    | Pred: horse    ✅\n",
      "GT: horse    | Pred: horse    ✅\n",
      "GT: horse    | Pred: horse    ✅\n",
      "GT: horse    | Pred: elephant ❌\n",
      "GT: horse    | Pred: dog      ❌\n",
      "GT: horse    | Pred: giraffe  ❌\n",
      "GT: horse    | Pred: horse    ✅\n",
      "GT: house    | Pred: house    ✅\n",
      "GT: house    | Pred: house    ✅\n",
      "GT: house    | Pred: house    ✅\n",
      "GT: house    | Pred: house    ✅\n",
      "GT: house    | Pred: house    ✅\n",
      "GT: house    | Pred: house    ✅\n",
      "GT: house    | Pred: house    ✅\n",
      "GT: house    | Pred: house    ✅\n",
      "GT: house    | Pred: house    ✅\n",
      "GT: house    | Pred: house    ✅\n",
      "GT: house    | Pred: house    ✅\n",
      "GT: house    | Pred: house    ✅\n",
      "GT: house    | Pred: house    ✅\n",
      "GT: house    | Pred: house    ✅\n",
      "GT: house    | Pred: house    ✅\n",
      "GT: house    | Pred: house    ✅\n",
      "GT: house    | Pred: house    ✅\n",
      "GT: house    | Pred: house    ✅\n",
      "GT: house    | Pred: house    ✅\n",
      "GT: house    | Pred: house    ✅\n",
      "GT: house    | Pred: house    ✅\n",
      "GT: house    | Pred: house    ✅\n",
      "GT: house    | Pred: house    ✅\n",
      "GT: house    | Pred: house    ✅\n",
      "GT: house    | Pred: house    ✅\n",
      "GT: house    | Pred: house    ✅\n",
      "GT: house    | Pred: house    ✅\n",
      "GT: house    | Pred: house    ✅\n",
      "GT: house    | Pred: house    ✅\n",
      "GT: house    | Pred: house    ✅\n",
      "GT: house    | Pred: house    ✅\n",
      "GT: house    | Pred: house    ✅\n",
      "GT: house    | Pred: house    ✅\n",
      "GT: house    | Pred: house    ✅\n",
      "GT: house    | Pred: house    ✅\n",
      "GT: house    | Pred: house    ✅\n",
      "GT: house    | Pred: house    ✅\n",
      "GT: house    | Pred: house    ✅\n",
      "GT: house    | Pred: house    ✅\n",
      "GT: house    | Pred: house    ✅\n",
      "GT: house    | Pred: house    ✅\n",
      "GT: house    | Pred: house    ✅\n",
      "GT: house    | Pred: house    ✅\n",
      "GT: house    | Pred: house    ✅\n",
      "GT: house    | Pred: house    ✅\n",
      "GT: house    | Pred: house    ✅\n",
      "GT: house    | Pred: house    ✅\n",
      "GT: house    | Pred: house    ✅\n",
      "GT: house    | Pred: house    ✅\n",
      "GT: house    | Pred: house    ✅\n",
      "GT: person   | Pred: person   ✅\n",
      "GT: person   | Pred: person   ✅\n",
      "GT: person   | Pred: person   ✅\n",
      "GT: person   | Pred: person   ✅\n",
      "GT: person   | Pred: person   ✅\n",
      "GT: person   | Pred: person   ✅\n",
      "GT: person   | Pred: house    ❌\n",
      "GT: person   | Pred: person   ✅\n",
      "GT: person   | Pred: person   ✅\n",
      "GT: person   | Pred: person   ✅\n",
      "GT: person   | Pred: person   ✅\n",
      "GT: person   | Pred: person   ✅\n",
      "GT: person   | Pred: person   ✅\n",
      "GT: person   | Pred: person   ✅\n",
      "GT: person   | Pred: person   ✅\n",
      "GT: person   | Pred: person   ✅\n",
      "GT: person   | Pred: person   ✅\n",
      "GT: person   | Pred: person   ✅\n",
      "GT: person   | Pred: person   ✅\n",
      "GT: person   | Pred: person   ✅\n",
      "GT: person   | Pred: person   ✅\n",
      "GT: person   | Pred: person   ✅\n",
      "GT: person   | Pred: person   ✅\n",
      "GT: person   | Pred: person   ✅\n",
      "GT: person   | Pred: person   ✅\n",
      "GT: person   | Pred: person   ✅\n",
      "GT: person   | Pred: person   ✅\n",
      "GT: person   | Pred: person   ✅\n",
      "GT: person   | Pred: person   ✅\n",
      "GT: person   | Pred: person   ✅\n",
      "GT: person   | Pred: person   ✅\n",
      "GT: person   | Pred: house    ❌\n",
      "GT: person   | Pred: person   ✅\n",
      "GT: person   | Pred: person   ✅\n",
      "GT: person   | Pred: person   ✅\n",
      "GT: person   | Pred: person   ✅\n",
      "GT: person   | Pred: person   ✅\n",
      "GT: person   | Pred: person   ✅\n",
      "GT: person   | Pred: person   ✅\n",
      "GT: person   | Pred: person   ✅\n",
      "GT: person   | Pred: house    ❌\n",
      "GT: person   | Pred: person   ✅\n",
      "GT: person   | Pred: person   ✅\n",
      "GT: person   | Pred: giraffe  ❌\n",
      "GT: person   | Pred: person   ✅\n",
      "GT: person   | Pred: person   ✅\n",
      "GT: person   | Pred: person   ✅\n",
      "GT: person   | Pred: person   ✅\n",
      "GT: person   | Pred: person   ✅\n",
      "GT: person   | Pred: person   ✅\n",
      "\n",
      "Test Accuracy: 78.86%\n",
      "GT: dog      | Pred: giraffe  ❌\n",
      "GT: dog      | Pred: person   ❌\n",
      "GT: dog      | Pred: dog      ✅\n",
      "GT: dog      | Pred: dog      ✅\n",
      "GT: dog      | Pred: dog      ✅\n",
      "GT: dog      | Pred: dog      ✅\n",
      "GT: dog      | Pred: dog      ✅\n",
      "GT: dog      | Pred: dog      ✅\n",
      "GT: dog      | Pred: dog      ✅\n",
      "GT: dog      | Pred: dog      ✅\n",
      "GT: dog      | Pred: dog      ✅\n",
      "GT: dog      | Pred: dog      ✅\n",
      "GT: dog      | Pred: dog      ✅\n",
      "GT: dog      | Pred: dog      ✅\n",
      "GT: dog      | Pred: giraffe  ❌\n",
      "GT: dog      | Pred: dog      ✅\n",
      "GT: dog      | Pred: person   ❌\n",
      "GT: dog      | Pred: giraffe  ❌\n",
      "GT: dog      | Pred: dog      ✅\n",
      "GT: dog      | Pred: dog      ✅\n",
      "GT: dog      | Pred: dog      ✅\n",
      "GT: dog      | Pred: horse    ❌\n",
      "GT: dog      | Pred: dog      ✅\n",
      "GT: dog      | Pred: dog      ✅\n",
      "GT: dog      | Pred: dog      ✅\n",
      "GT: dog      | Pred: dog      ✅\n",
      "GT: dog      | Pred: dog      ✅\n",
      "GT: dog      | Pred: guitar   ❌\n",
      "GT: dog      | Pred: dog      ✅\n",
      "GT: dog      | Pred: dog      ✅\n",
      "GT: dog      | Pred: dog      ✅\n",
      "GT: dog      | Pred: elephant ❌\n",
      "GT: dog      | Pred: dog      ✅\n",
      "GT: dog      | Pred: person   ❌\n",
      "GT: dog      | Pred: dog      ✅\n",
      "GT: dog      | Pred: dog      ✅\n",
      "GT: dog      | Pred: giraffe  ❌\n",
      "GT: dog      | Pred: dog      ✅\n",
      "GT: dog      | Pred: dog      ✅\n",
      "GT: dog      | Pred: dog      ✅\n",
      "GT: dog      | Pred: dog      ✅\n",
      "GT: dog      | Pred: dog      ✅\n",
      "GT: dog      | Pred: dog      ✅\n",
      "GT: dog      | Pred: dog      ✅\n",
      "GT: dog      | Pred: dog      ✅\n",
      "GT: dog      | Pred: horse    ❌\n",
      "GT: dog      | Pred: giraffe  ❌\n",
      "GT: dog      | Pred: dog      ✅\n",
      "GT: dog      | Pred: dog      ✅\n",
      "GT: dog      | Pred: giraffe  ❌\n",
      "GT: elephant | Pred: horse    ❌\n",
      "GT: elephant | Pred: house    ❌\n",
      "GT: elephant | Pred: person   ❌\n",
      "GT: elephant | Pred: horse    ❌\n",
      "GT: elephant | Pred: horse    ❌\n",
      "GT: elephant | Pred: horse    ❌\n",
      "GT: elephant | Pred: elephant ✅\n",
      "GT: elephant | Pred: horse    ❌\n",
      "GT: elephant | Pred: house    ❌\n",
      "GT: elephant | Pred: elephant ✅\n",
      "GT: elephant | Pred: elephant ✅\n",
      "GT: elephant | Pred: elephant ✅\n",
      "GT: elephant | Pred: elephant ✅\n",
      "GT: elephant | Pred: elephant ✅\n",
      "GT: elephant | Pred: person   ❌\n",
      "GT: elephant | Pred: horse    ❌\n",
      "GT: elephant | Pred: horse    ❌\n",
      "GT: elephant | Pred: horse    ❌\n",
      "GT: elephant | Pred: horse    ❌\n",
      "GT: elephant | Pred: elephant ✅\n",
      "GT: elephant | Pred: horse    ❌\n",
      "GT: elephant | Pred: elephant ✅\n",
      "GT: elephant | Pred: person   ❌\n",
      "GT: elephant | Pred: elephant ✅\n",
      "GT: elephant | Pred: elephant ✅\n",
      "GT: elephant | Pred: elephant ✅\n",
      "GT: elephant | Pred: house    ❌\n",
      "GT: elephant | Pred: elephant ✅\n",
      "GT: elephant | Pred: horse    ❌\n",
      "GT: elephant | Pred: person   ❌\n",
      "GT: elephant | Pred: elephant ✅\n",
      "GT: elephant | Pred: dog      ❌\n",
      "GT: elephant | Pred: elephant ✅\n",
      "GT: elephant | Pred: elephant ✅\n",
      "GT: elephant | Pred: dog      ❌\n",
      "GT: elephant | Pred: elephant ✅\n",
      "GT: elephant | Pred: dog      ❌\n",
      "GT: elephant | Pred: dog      ❌\n",
      "GT: elephant | Pred: dog      ❌\n",
      "GT: elephant | Pred: elephant ✅\n",
      "GT: elephant | Pred: dog      ❌\n",
      "GT: elephant | Pred: person   ❌\n",
      "GT: elephant | Pred: person   ❌\n",
      "GT: elephant | Pred: elephant ✅\n",
      "GT: elephant | Pred: horse    ❌\n",
      "GT: elephant | Pred: horse    ❌\n",
      "GT: elephant | Pred: dog      ❌\n",
      "GT: elephant | Pred: elephant ✅\n",
      "GT: elephant | Pred: horse    ❌\n",
      "GT: elephant | Pred: horse    ❌\n",
      "GT: giraffe  | Pred: giraffe  ✅\n",
      "GT: giraffe  | Pred: giraffe  ✅\n",
      "GT: giraffe  | Pred: giraffe  ✅\n",
      "GT: giraffe  | Pred: giraffe  ✅\n",
      "GT: giraffe  | Pred: giraffe  ✅\n",
      "GT: giraffe  | Pred: giraffe  ✅\n",
      "GT: giraffe  | Pred: house    ❌\n",
      "GT: giraffe  | Pred: house    ❌\n",
      "GT: giraffe  | Pred: house    ❌\n",
      "GT: giraffe  | Pred: house    ❌\n",
      "GT: giraffe  | Pred: giraffe  ✅\n",
      "GT: giraffe  | Pred: giraffe  ✅\n",
      "GT: giraffe  | Pred: giraffe  ✅\n",
      "GT: giraffe  | Pred: giraffe  ✅\n",
      "GT: giraffe  | Pred: person   ❌\n",
      "GT: giraffe  | Pred: house    ❌\n",
      "GT: giraffe  | Pred: person   ❌\n",
      "GT: giraffe  | Pred: giraffe  ✅\n",
      "GT: giraffe  | Pred: giraffe  ✅\n",
      "GT: giraffe  | Pred: house    ❌\n",
      "GT: giraffe  | Pred: house    ❌\n",
      "GT: giraffe  | Pred: giraffe  ✅\n",
      "GT: giraffe  | Pred: giraffe  ✅\n",
      "GT: giraffe  | Pred: giraffe  ✅\n",
      "GT: giraffe  | Pred: giraffe  ✅\n",
      "GT: giraffe  | Pred: person   ❌\n",
      "GT: giraffe  | Pred: giraffe  ✅\n",
      "GT: giraffe  | Pred: giraffe  ✅\n",
      "GT: giraffe  | Pred: giraffe  ✅\n",
      "GT: giraffe  | Pred: giraffe  ✅\n",
      "GT: giraffe  | Pred: giraffe  ✅\n",
      "GT: giraffe  | Pred: giraffe  ✅\n",
      "GT: giraffe  | Pred: giraffe  ✅\n",
      "GT: giraffe  | Pred: person   ❌\n",
      "GT: giraffe  | Pred: giraffe  ✅\n",
      "GT: giraffe  | Pred: giraffe  ✅\n",
      "GT: giraffe  | Pred: person   ❌\n",
      "GT: giraffe  | Pred: giraffe  ✅\n",
      "GT: giraffe  | Pred: house    ❌\n",
      "GT: giraffe  | Pred: person   ❌\n",
      "GT: giraffe  | Pred: giraffe  ✅\n",
      "GT: giraffe  | Pred: house    ❌\n",
      "GT: giraffe  | Pred: giraffe  ✅\n",
      "GT: giraffe  | Pred: house    ❌\n",
      "GT: giraffe  | Pred: giraffe  ✅\n",
      "GT: giraffe  | Pred: giraffe  ✅\n",
      "GT: giraffe  | Pred: house    ❌\n",
      "GT: giraffe  | Pred: giraffe  ✅\n",
      "GT: giraffe  | Pred: giraffe  ✅\n",
      "GT: giraffe  | Pred: giraffe  ✅\n",
      "GT: guitar   | Pred: person   ❌\n",
      "GT: guitar   | Pred: guitar   ✅\n",
      "GT: guitar   | Pred: guitar   ✅\n",
      "GT: guitar   | Pred: person   ❌\n",
      "GT: guitar   | Pred: guitar   ✅\n",
      "GT: guitar   | Pred: person   ❌\n",
      "GT: guitar   | Pred: guitar   ✅\n",
      "GT: guitar   | Pred: guitar   ✅\n",
      "GT: guitar   | Pred: guitar   ✅\n",
      "GT: guitar   | Pred: guitar   ✅\n",
      "GT: guitar   | Pred: guitar   ✅\n",
      "GT: guitar   | Pred: guitar   ✅\n",
      "GT: guitar   | Pred: person   ❌\n",
      "GT: guitar   | Pred: guitar   ✅\n",
      "GT: guitar   | Pred: guitar   ✅\n",
      "GT: guitar   | Pred: guitar   ✅\n",
      "GT: guitar   | Pred: guitar   ✅\n",
      "GT: guitar   | Pred: guitar   ✅\n",
      "GT: guitar   | Pred: guitar   ✅\n",
      "GT: guitar   | Pred: guitar   ✅\n",
      "GT: guitar   | Pred: guitar   ✅\n",
      "GT: guitar   | Pred: guitar   ✅\n",
      "GT: guitar   | Pred: guitar   ✅\n",
      "GT: guitar   | Pred: guitar   ✅\n",
      "GT: guitar   | Pred: guitar   ✅\n",
      "GT: guitar   | Pred: guitar   ✅\n",
      "GT: guitar   | Pred: guitar   ✅\n",
      "GT: guitar   | Pred: guitar   ✅\n",
      "GT: guitar   | Pred: guitar   ✅\n",
      "GT: guitar   | Pred: guitar   ✅\n",
      "GT: guitar   | Pred: guitar   ✅\n",
      "GT: guitar   | Pred: guitar   ✅\n",
      "GT: guitar   | Pred: guitar   ✅\n",
      "GT: guitar   | Pred: guitar   ✅\n",
      "GT: guitar   | Pred: guitar   ✅\n",
      "GT: guitar   | Pred: guitar   ✅\n",
      "GT: guitar   | Pred: guitar   ✅\n",
      "GT: guitar   | Pred: guitar   ✅\n",
      "GT: guitar   | Pred: guitar   ✅\n",
      "GT: guitar   | Pred: guitar   ✅\n",
      "GT: guitar   | Pred: giraffe  ❌\n",
      "GT: guitar   | Pred: person   ❌\n",
      "GT: guitar   | Pred: guitar   ✅\n",
      "GT: guitar   | Pred: guitar   ✅\n",
      "GT: guitar   | Pred: guitar   ✅\n",
      "GT: guitar   | Pred: person   ❌\n",
      "GT: guitar   | Pred: guitar   ✅\n",
      "GT: guitar   | Pred: guitar   ✅\n",
      "GT: guitar   | Pred: guitar   ✅\n",
      "GT: guitar   | Pred: guitar   ✅\n",
      "GT: horse    | Pred: horse    ✅\n",
      "GT: horse    | Pred: dog      ❌\n",
      "GT: horse    | Pred: horse    ✅\n",
      "GT: horse    | Pred: house    ❌\n",
      "GT: horse    | Pred: person   ❌\n",
      "GT: horse    | Pred: horse    ✅\n",
      "GT: horse    | Pred: dog      ❌\n",
      "GT: horse    | Pred: dog      ❌\n",
      "GT: horse    | Pred: horse    ✅\n",
      "GT: horse    | Pred: person   ❌\n",
      "GT: horse    | Pred: horse    ✅\n",
      "GT: horse    | Pred: horse    ✅\n",
      "GT: horse    | Pred: horse    ✅\n",
      "GT: horse    | Pred: horse    ✅\n",
      "GT: horse    | Pred: horse    ✅\n",
      "GT: horse    | Pred: horse    ✅\n",
      "GT: horse    | Pred: horse    ✅\n",
      "GT: horse    | Pred: person   ❌\n",
      "GT: horse    | Pred: horse    ✅\n",
      "GT: horse    | Pred: person   ❌\n",
      "GT: horse    | Pred: horse    ✅\n",
      "GT: horse    | Pred: dog      ❌\n",
      "GT: horse    | Pred: horse    ✅\n",
      "GT: horse    | Pred: horse    ✅\n",
      "GT: horse    | Pred: dog      ❌\n",
      "GT: horse    | Pred: horse    ✅\n",
      "GT: horse    | Pred: horse    ✅\n",
      "GT: horse    | Pred: person   ❌\n",
      "GT: horse    | Pred: horse    ✅\n",
      "GT: horse    | Pred: horse    ✅\n",
      "GT: horse    | Pred: horse    ✅\n",
      "GT: horse    | Pred: horse    ✅\n",
      "GT: horse    | Pred: horse    ✅\n",
      "GT: horse    | Pred: horse    ✅\n",
      "GT: horse    | Pred: house    ❌\n",
      "GT: horse    | Pred: giraffe  ❌\n",
      "GT: horse    | Pred: horse    ✅\n",
      "GT: horse    | Pred: horse    ✅\n",
      "GT: horse    | Pred: person   ❌\n",
      "GT: horse    | Pred: horse    ✅\n",
      "GT: horse    | Pred: horse    ✅\n",
      "GT: horse    | Pred: horse    ✅\n",
      "GT: horse    | Pred: horse    ✅\n",
      "GT: horse    | Pred: horse    ✅\n",
      "GT: horse    | Pred: horse    ✅\n",
      "GT: horse    | Pred: horse    ✅\n",
      "GT: horse    | Pred: dog      ❌\n",
      "GT: horse    | Pred: horse    ✅\n",
      "GT: horse    | Pred: dog      ❌\n",
      "GT: horse    | Pred: person   ❌\n",
      "GT: house    | Pred: dog      ❌\n",
      "GT: house    | Pred: house    ✅\n",
      "GT: house    | Pred: house    ✅\n",
      "GT: house    | Pred: house    ✅\n",
      "GT: house    | Pred: house    ✅\n",
      "GT: house    | Pred: house    ✅\n",
      "GT: house    | Pred: house    ✅\n",
      "GT: house    | Pred: house    ✅\n",
      "GT: house    | Pred: house    ✅\n",
      "GT: house    | Pred: house    ✅\n",
      "GT: house    | Pred: house    ✅\n",
      "GT: house    | Pred: house    ✅\n",
      "GT: house    | Pred: house    ✅\n",
      "GT: house    | Pred: house    ✅\n",
      "GT: house    | Pred: house    ✅\n",
      "GT: house    | Pred: house    ✅\n",
      "GT: house    | Pred: person   ❌\n",
      "GT: house    | Pred: house    ✅\n",
      "GT: house    | Pred: house    ✅\n",
      "GT: house    | Pred: house    ✅\n",
      "GT: house    | Pred: house    ✅\n",
      "GT: house    | Pred: house    ✅\n",
      "GT: house    | Pred: house    ✅\n",
      "GT: house    | Pred: house    ✅\n",
      "GT: house    | Pred: house    ✅\n",
      "GT: house    | Pred: house    ✅\n",
      "GT: house    | Pred: house    ✅\n",
      "GT: house    | Pred: house    ✅\n",
      "GT: house    | Pred: house    ✅\n",
      "GT: house    | Pred: house    ✅\n",
      "GT: house    | Pred: house    ✅\n",
      "GT: house    | Pred: house    ✅\n",
      "GT: house    | Pred: house    ✅\n",
      "GT: house    | Pred: house    ✅\n",
      "GT: house    | Pred: house    ✅\n",
      "GT: house    | Pred: house    ✅\n",
      "GT: house    | Pred: house    ✅\n",
      "GT: house    | Pred: house    ✅\n",
      "GT: house    | Pred: house    ✅\n",
      "GT: house    | Pred: house    ✅\n",
      "GT: house    | Pred: house    ✅\n",
      "GT: house    | Pred: house    ✅\n",
      "GT: house    | Pred: house    ✅\n",
      "GT: house    | Pred: house    ✅\n",
      "GT: house    | Pred: house    ✅\n",
      "GT: house    | Pred: house    ✅\n",
      "GT: house    | Pred: house    ✅\n",
      "GT: house    | Pred: house    ✅\n",
      "GT: house    | Pred: house    ✅\n",
      "GT: house    | Pred: house    ✅\n",
      "GT: person   | Pred: person   ✅\n",
      "GT: person   | Pred: person   ✅\n",
      "GT: person   | Pred: person   ✅\n",
      "GT: person   | Pred: person   ✅\n",
      "GT: person   | Pred: person   ✅\n",
      "GT: person   | Pred: person   ✅\n",
      "GT: person   | Pred: house    ❌\n",
      "GT: person   | Pred: person   ✅\n",
      "GT: person   | Pred: person   ✅\n",
      "GT: person   | Pred: dog      ❌\n",
      "GT: person   | Pred: person   ✅\n",
      "GT: person   | Pred: person   ✅\n",
      "GT: person   | Pred: giraffe  ❌\n",
      "GT: person   | Pred: person   ✅\n",
      "GT: person   | Pred: guitar   ❌\n",
      "GT: person   | Pred: person   ✅\n",
      "GT: person   | Pred: person   ✅\n",
      "GT: person   | Pred: person   ✅\n",
      "GT: person   | Pred: person   ✅\n",
      "GT: person   | Pred: person   ✅\n",
      "GT: person   | Pred: person   ✅\n",
      "GT: person   | Pred: person   ✅\n",
      "GT: person   | Pred: person   ✅\n",
      "GT: person   | Pred: person   ✅\n",
      "GT: person   | Pred: person   ✅\n",
      "GT: person   | Pred: person   ✅\n",
      "GT: person   | Pred: giraffe  ❌\n",
      "GT: person   | Pred: person   ✅\n",
      "GT: person   | Pred: person   ✅\n",
      "GT: person   | Pred: person   ✅\n",
      "GT: person   | Pred: person   ✅\n",
      "GT: person   | Pred: person   ✅\n",
      "GT: person   | Pred: person   ✅\n",
      "GT: person   | Pred: person   ✅\n",
      "GT: person   | Pred: person   ✅\n",
      "GT: person   | Pred: person   ✅\n",
      "GT: person   | Pred: person   ✅\n",
      "GT: person   | Pred: person   ✅\n",
      "GT: person   | Pred: person   ✅\n",
      "GT: person   | Pred: house    ❌\n",
      "GT: person   | Pred: person   ✅\n",
      "GT: person   | Pred: person   ✅\n",
      "GT: person   | Pred: person   ✅\n",
      "GT: person   | Pred: horse    ❌\n",
      "GT: person   | Pred: person   ✅\n",
      "GT: person   | Pred: person   ✅\n",
      "GT: person   | Pred: person   ✅\n",
      "GT: person   | Pred: person   ✅\n",
      "GT: person   | Pred: person   ✅\n",
      "GT: person   | Pred: person   ✅\n",
      "\n",
      "Test Accuracy: 73.14%\n",
      "GT: dog      | Pred: horse    ❌\n",
      "GT: dog      | Pred: dog      ✅\n",
      "GT: dog      | Pred: dog      ✅\n",
      "GT: dog      | Pred: dog      ✅\n",
      "GT: dog      | Pred: dog      ✅\n",
      "GT: dog      | Pred: dog      ✅\n",
      "GT: dog      | Pred: dog      ✅\n",
      "GT: dog      | Pred: dog      ✅\n",
      "GT: dog      | Pred: dog      ✅\n",
      "GT: dog      | Pred: dog      ✅\n",
      "GT: dog      | Pred: dog      ✅\n",
      "GT: dog      | Pred: dog      ✅\n",
      "GT: dog      | Pred: horse    ❌\n",
      "GT: dog      | Pred: dog      ✅\n",
      "GT: dog      | Pred: horse    ❌\n",
      "GT: dog      | Pred: dog      ✅\n",
      "GT: dog      | Pred: dog      ✅\n",
      "GT: dog      | Pred: giraffe  ❌\n",
      "GT: dog      | Pred: person   ❌\n",
      "GT: dog      | Pred: dog      ✅\n",
      "GT: dog      | Pred: horse    ❌\n",
      "GT: dog      | Pred: dog      ✅\n",
      "GT: dog      | Pred: dog      ✅\n",
      "GT: dog      | Pred: dog      ✅\n",
      "GT: dog      | Pred: dog      ✅\n",
      "GT: dog      | Pred: dog      ✅\n",
      "GT: dog      | Pred: dog      ✅\n",
      "GT: dog      | Pred: dog      ✅\n",
      "GT: dog      | Pred: dog      ✅\n",
      "GT: dog      | Pred: dog      ✅\n",
      "GT: dog      | Pred: dog      ✅\n",
      "GT: dog      | Pred: dog      ✅\n",
      "GT: dog      | Pred: dog      ✅\n",
      "GT: dog      | Pred: dog      ✅\n",
      "GT: dog      | Pred: dog      ✅\n",
      "GT: dog      | Pred: person   ❌\n",
      "GT: dog      | Pred: dog      ✅\n",
      "GT: dog      | Pred: dog      ✅\n",
      "GT: dog      | Pred: dog      ✅\n",
      "GT: dog      | Pred: dog      ✅\n",
      "GT: dog      | Pred: dog      ✅\n",
      "GT: dog      | Pred: dog      ✅\n",
      "GT: dog      | Pred: dog      ✅\n",
      "GT: dog      | Pred: dog      ✅\n",
      "GT: dog      | Pred: dog      ✅\n",
      "GT: dog      | Pred: dog      ✅\n",
      "GT: dog      | Pred: giraffe  ❌\n",
      "GT: dog      | Pred: dog      ✅\n",
      "GT: dog      | Pred: dog      ✅\n",
      "GT: dog      | Pred: giraffe  ❌\n",
      "GT: elephant | Pred: elephant ✅\n",
      "GT: elephant | Pred: person   ❌\n",
      "GT: elephant | Pred: giraffe  ❌\n",
      "GT: elephant | Pred: elephant ✅\n",
      "GT: elephant | Pred: horse    ❌\n",
      "GT: elephant | Pred: elephant ✅\n",
      "GT: elephant | Pred: elephant ✅\n",
      "GT: elephant | Pred: horse    ❌\n",
      "GT: elephant | Pred: horse    ❌\n",
      "GT: elephant | Pred: elephant ✅\n",
      "GT: elephant | Pred: elephant ✅\n",
      "GT: elephant | Pred: elephant ✅\n",
      "GT: elephant | Pred: elephant ✅\n",
      "GT: elephant | Pred: elephant ✅\n",
      "GT: elephant | Pred: elephant ✅\n",
      "GT: elephant | Pred: horse    ❌\n",
      "GT: elephant | Pred: horse    ❌\n",
      "GT: elephant | Pred: elephant ✅\n",
      "GT: elephant | Pred: horse    ❌\n",
      "GT: elephant | Pred: elephant ✅\n",
      "GT: elephant | Pred: horse    ❌\n",
      "GT: elephant | Pred: elephant ✅\n",
      "GT: elephant | Pred: elephant ✅\n",
      "GT: elephant | Pred: elephant ✅\n",
      "GT: elephant | Pred: elephant ✅\n",
      "GT: elephant | Pred: elephant ✅\n",
      "GT: elephant | Pred: elephant ✅\n",
      "GT: elephant | Pred: elephant ✅\n",
      "GT: elephant | Pred: horse    ❌\n",
      "GT: elephant | Pred: elephant ✅\n",
      "GT: elephant | Pred: elephant ✅\n",
      "GT: elephant | Pred: dog      ❌\n",
      "GT: elephant | Pred: elephant ✅\n",
      "GT: elephant | Pred: elephant ✅\n",
      "GT: elephant | Pred: dog      ❌\n",
      "GT: elephant | Pred: elephant ✅\n",
      "GT: elephant | Pred: dog      ❌\n",
      "GT: elephant | Pred: elephant ✅\n",
      "GT: elephant | Pred: elephant ✅\n",
      "GT: elephant | Pred: elephant ✅\n",
      "GT: elephant | Pred: elephant ✅\n",
      "GT: elephant | Pred: person   ❌\n",
      "GT: elephant | Pred: horse    ❌\n",
      "GT: elephant | Pred: elephant ✅\n",
      "GT: elephant | Pred: horse    ❌\n",
      "GT: elephant | Pred: elephant ✅\n",
      "GT: elephant | Pred: elephant ✅\n",
      "GT: elephant | Pred: elephant ✅\n",
      "GT: elephant | Pred: elephant ✅\n",
      "GT: elephant | Pred: elephant ✅\n",
      "GT: giraffe  | Pred: giraffe  ✅\n",
      "GT: giraffe  | Pred: giraffe  ✅\n",
      "GT: giraffe  | Pred: giraffe  ✅\n",
      "GT: giraffe  | Pred: giraffe  ✅\n",
      "GT: giraffe  | Pred: giraffe  ✅\n",
      "GT: giraffe  | Pred: giraffe  ✅\n",
      "GT: giraffe  | Pred: house    ❌\n",
      "GT: giraffe  | Pred: giraffe  ✅\n",
      "GT: giraffe  | Pred: house    ❌\n",
      "GT: giraffe  | Pred: house    ❌\n",
      "GT: giraffe  | Pred: giraffe  ✅\n",
      "GT: giraffe  | Pred: giraffe  ✅\n",
      "GT: giraffe  | Pred: giraffe  ✅\n",
      "GT: giraffe  | Pred: giraffe  ✅\n",
      "GT: giraffe  | Pred: house    ❌\n",
      "GT: giraffe  | Pred: giraffe  ✅\n",
      "GT: giraffe  | Pred: giraffe  ✅\n",
      "GT: giraffe  | Pred: giraffe  ✅\n",
      "GT: giraffe  | Pred: giraffe  ✅\n",
      "GT: giraffe  | Pred: house    ❌\n",
      "GT: giraffe  | Pred: giraffe  ✅\n",
      "GT: giraffe  | Pred: giraffe  ✅\n",
      "GT: giraffe  | Pred: giraffe  ✅\n",
      "GT: giraffe  | Pred: giraffe  ✅\n",
      "GT: giraffe  | Pred: giraffe  ✅\n",
      "GT: giraffe  | Pred: house    ❌\n",
      "GT: giraffe  | Pred: giraffe  ✅\n",
      "GT: giraffe  | Pred: giraffe  ✅\n",
      "GT: giraffe  | Pred: giraffe  ✅\n",
      "GT: giraffe  | Pred: giraffe  ✅\n",
      "GT: giraffe  | Pred: giraffe  ✅\n",
      "GT: giraffe  | Pred: giraffe  ✅\n",
      "GT: giraffe  | Pred: giraffe  ✅\n",
      "GT: giraffe  | Pred: giraffe  ✅\n",
      "GT: giraffe  | Pred: giraffe  ✅\n",
      "GT: giraffe  | Pred: giraffe  ✅\n",
      "GT: giraffe  | Pred: giraffe  ✅\n",
      "GT: giraffe  | Pred: giraffe  ✅\n",
      "GT: giraffe  | Pred: house    ❌\n",
      "GT: giraffe  | Pred: giraffe  ✅\n",
      "GT: giraffe  | Pred: giraffe  ✅\n",
      "GT: giraffe  | Pred: house    ❌\n",
      "GT: giraffe  | Pred: giraffe  ✅\n",
      "GT: giraffe  | Pred: giraffe  ✅\n",
      "GT: giraffe  | Pred: giraffe  ✅\n",
      "GT: giraffe  | Pred: giraffe  ✅\n",
      "GT: giraffe  | Pred: giraffe  ✅\n",
      "GT: giraffe  | Pred: giraffe  ✅\n",
      "GT: giraffe  | Pred: giraffe  ✅\n",
      "GT: giraffe  | Pred: giraffe  ✅\n",
      "GT: guitar   | Pred: dog      ❌\n",
      "GT: guitar   | Pred: guitar   ✅\n",
      "GT: guitar   | Pred: guitar   ✅\n",
      "GT: guitar   | Pred: person   ❌\n",
      "GT: guitar   | Pred: giraffe  ❌\n",
      "GT: guitar   | Pred: guitar   ✅\n",
      "GT: guitar   | Pred: guitar   ✅\n",
      "GT: guitar   | Pred: guitar   ✅\n",
      "GT: guitar   | Pred: guitar   ✅\n",
      "GT: guitar   | Pred: guitar   ✅\n",
      "GT: guitar   | Pred: guitar   ✅\n",
      "GT: guitar   | Pred: guitar   ✅\n",
      "GT: guitar   | Pred: guitar   ✅\n",
      "GT: guitar   | Pred: guitar   ✅\n",
      "GT: guitar   | Pred: guitar   ✅\n",
      "GT: guitar   | Pred: guitar   ✅\n",
      "GT: guitar   | Pred: guitar   ✅\n",
      "GT: guitar   | Pred: guitar   ✅\n",
      "GT: guitar   | Pred: guitar   ✅\n",
      "GT: guitar   | Pred: guitar   ✅\n",
      "GT: guitar   | Pred: guitar   ✅\n",
      "GT: guitar   | Pred: guitar   ✅\n",
      "GT: guitar   | Pred: guitar   ✅\n",
      "GT: guitar   | Pred: guitar   ✅\n",
      "GT: guitar   | Pred: guitar   ✅\n",
      "GT: guitar   | Pred: guitar   ✅\n",
      "GT: guitar   | Pred: guitar   ✅\n",
      "GT: guitar   | Pred: guitar   ✅\n",
      "GT: guitar   | Pred: guitar   ✅\n",
      "GT: guitar   | Pred: guitar   ✅\n",
      "GT: guitar   | Pred: guitar   ✅\n",
      "GT: guitar   | Pred: guitar   ✅\n",
      "GT: guitar   | Pred: guitar   ✅\n",
      "GT: guitar   | Pred: guitar   ✅\n",
      "GT: guitar   | Pred: guitar   ✅\n",
      "GT: guitar   | Pred: guitar   ✅\n",
      "GT: guitar   | Pred: guitar   ✅\n",
      "GT: guitar   | Pred: guitar   ✅\n",
      "GT: guitar   | Pred: guitar   ✅\n",
      "GT: guitar   | Pred: guitar   ✅\n",
      "GT: guitar   | Pred: guitar   ✅\n",
      "GT: guitar   | Pred: guitar   ✅\n",
      "GT: guitar   | Pred: guitar   ✅\n",
      "GT: guitar   | Pred: guitar   ✅\n",
      "GT: guitar   | Pred: guitar   ✅\n",
      "GT: guitar   | Pred: person   ❌\n",
      "GT: guitar   | Pred: guitar   ✅\n",
      "GT: guitar   | Pred: guitar   ✅\n",
      "GT: guitar   | Pred: guitar   ✅\n",
      "GT: guitar   | Pred: guitar   ✅\n",
      "GT: horse    | Pred: horse    ✅\n",
      "GT: horse    | Pred: dog      ❌\n",
      "GT: horse    | Pred: giraffe  ❌\n",
      "GT: horse    | Pred: elephant ❌\n",
      "GT: horse    | Pred: horse    ✅\n",
      "GT: horse    | Pred: horse    ✅\n",
      "GT: horse    | Pred: horse    ✅\n",
      "GT: horse    | Pred: horse    ✅\n",
      "GT: horse    | Pred: horse    ✅\n",
      "GT: horse    | Pred: horse    ✅\n",
      "GT: horse    | Pred: horse    ✅\n",
      "GT: horse    | Pred: horse    ✅\n",
      "GT: horse    | Pred: horse    ✅\n",
      "GT: horse    | Pred: horse    ✅\n",
      "GT: horse    | Pred: horse    ✅\n",
      "GT: horse    | Pred: horse    ✅\n",
      "GT: horse    | Pred: horse    ✅\n",
      "GT: horse    | Pred: horse    ✅\n",
      "GT: horse    | Pred: horse    ✅\n",
      "GT: horse    | Pred: person   ❌\n",
      "GT: horse    | Pred: horse    ✅\n",
      "GT: horse    | Pred: horse    ✅\n",
      "GT: horse    | Pred: horse    ✅\n",
      "GT: horse    | Pred: horse    ✅\n",
      "GT: horse    | Pred: dog      ❌\n",
      "GT: horse    | Pred: horse    ✅\n",
      "GT: horse    | Pred: horse    ✅\n",
      "GT: horse    | Pred: horse    ✅\n",
      "GT: horse    | Pred: horse    ✅\n",
      "GT: horse    | Pred: horse    ✅\n",
      "GT: horse    | Pred: horse    ✅\n",
      "GT: horse    | Pred: dog      ❌\n",
      "GT: horse    | Pred: horse    ✅\n",
      "GT: horse    | Pred: horse    ✅\n",
      "GT: horse    | Pred: horse    ✅\n",
      "GT: horse    | Pred: giraffe  ❌\n",
      "GT: horse    | Pred: horse    ✅\n",
      "GT: horse    | Pred: horse    ✅\n",
      "GT: horse    | Pred: elephant ❌\n",
      "GT: horse    | Pred: horse    ✅\n",
      "GT: horse    | Pred: horse    ✅\n",
      "GT: horse    | Pred: horse    ✅\n",
      "GT: horse    | Pred: horse    ✅\n",
      "GT: horse    | Pred: horse    ✅\n",
      "GT: horse    | Pred: horse    ✅\n",
      "GT: horse    | Pred: horse    ✅\n",
      "GT: horse    | Pred: horse    ✅\n",
      "GT: horse    | Pred: dog      ❌\n",
      "GT: horse    | Pred: giraffe  ❌\n",
      "GT: horse    | Pred: person   ❌\n",
      "GT: house    | Pred: house    ✅\n",
      "GT: house    | Pred: house    ✅\n",
      "GT: house    | Pred: house    ✅\n",
      "GT: house    | Pred: house    ✅\n",
      "GT: house    | Pred: house    ✅\n",
      "GT: house    | Pred: house    ✅\n",
      "GT: house    | Pred: house    ✅\n",
      "GT: house    | Pred: house    ✅\n",
      "GT: house    | Pred: house    ✅\n",
      "GT: house    | Pred: house    ✅\n",
      "GT: house    | Pred: house    ✅\n",
      "GT: house    | Pred: house    ✅\n",
      "GT: house    | Pred: house    ✅\n",
      "GT: house    | Pred: house    ✅\n",
      "GT: house    | Pred: house    ✅\n",
      "GT: house    | Pred: house    ✅\n",
      "GT: house    | Pred: person   ❌\n",
      "GT: house    | Pred: house    ✅\n",
      "GT: house    | Pred: house    ✅\n",
      "GT: house    | Pred: house    ✅\n",
      "GT: house    | Pred: house    ✅\n",
      "GT: house    | Pred: house    ✅\n",
      "GT: house    | Pred: house    ✅\n",
      "GT: house    | Pred: house    ✅\n",
      "GT: house    | Pred: house    ✅\n",
      "GT: house    | Pred: house    ✅\n",
      "GT: house    | Pred: house    ✅\n",
      "GT: house    | Pred: house    ✅\n",
      "GT: house    | Pred: house    ✅\n",
      "GT: house    | Pred: house    ✅\n",
      "GT: house    | Pred: house    ✅\n",
      "GT: house    | Pred: house    ✅\n",
      "GT: house    | Pred: house    ✅\n",
      "GT: house    | Pred: house    ✅\n",
      "GT: house    | Pred: house    ✅\n",
      "GT: house    | Pred: house    ✅\n",
      "GT: house    | Pred: house    ✅\n",
      "GT: house    | Pred: house    ✅\n",
      "GT: house    | Pred: house    ✅\n",
      "GT: house    | Pred: house    ✅\n",
      "GT: house    | Pred: house    ✅\n",
      "GT: house    | Pred: house    ✅\n",
      "GT: house    | Pred: house    ✅\n",
      "GT: house    | Pred: house    ✅\n",
      "GT: house    | Pred: house    ✅\n",
      "GT: house    | Pred: house    ✅\n",
      "GT: house    | Pred: house    ✅\n",
      "GT: house    | Pred: house    ✅\n",
      "GT: house    | Pred: house    ✅\n",
      "GT: house    | Pred: house    ✅\n",
      "GT: person   | Pred: person   ✅\n",
      "GT: person   | Pred: person   ✅\n",
      "GT: person   | Pred: person   ✅\n",
      "GT: person   | Pred: person   ✅\n",
      "GT: person   | Pred: person   ✅\n",
      "GT: person   | Pred: person   ✅\n",
      "GT: person   | Pred: house    ❌\n",
      "GT: person   | Pred: person   ✅\n",
      "GT: person   | Pred: person   ✅\n",
      "GT: person   | Pred: person   ✅\n",
      "GT: person   | Pred: person   ✅\n",
      "GT: person   | Pred: person   ✅\n",
      "GT: person   | Pred: person   ✅\n",
      "GT: person   | Pred: person   ✅\n",
      "GT: person   | Pred: person   ✅\n",
      "GT: person   | Pred: person   ✅\n",
      "GT: person   | Pred: person   ✅\n",
      "GT: person   | Pred: person   ✅\n",
      "GT: person   | Pred: person   ✅\n",
      "GT: person   | Pred: person   ✅\n",
      "GT: person   | Pred: person   ✅\n",
      "GT: person   | Pred: person   ✅\n",
      "GT: person   | Pred: person   ✅\n",
      "GT: person   | Pred: person   ✅\n",
      "GT: person   | Pred: person   ✅\n",
      "GT: person   | Pred: person   ✅\n",
      "GT: person   | Pred: person   ✅\n",
      "GT: person   | Pred: person   ✅\n",
      "GT: person   | Pred: person   ✅\n",
      "GT: person   | Pred: person   ✅\n",
      "GT: person   | Pred: person   ✅\n",
      "GT: person   | Pred: person   ✅\n",
      "GT: person   | Pred: person   ✅\n",
      "GT: person   | Pred: person   ✅\n",
      "GT: person   | Pred: person   ✅\n",
      "GT: person   | Pred: person   ✅\n",
      "GT: person   | Pred: person   ✅\n",
      "GT: person   | Pred: person   ✅\n",
      "GT: person   | Pred: person   ✅\n",
      "GT: person   | Pred: person   ✅\n",
      "GT: person   | Pred: person   ✅\n",
      "GT: person   | Pred: person   ✅\n",
      "GT: person   | Pred: person   ✅\n",
      "GT: person   | Pred: dog      ❌\n",
      "GT: person   | Pred: person   ✅\n",
      "GT: person   | Pred: person   ✅\n",
      "GT: person   | Pred: person   ✅\n",
      "GT: person   | Pred: person   ✅\n",
      "GT: person   | Pred: person   ✅\n",
      "GT: person   | Pred: person   ✅\n",
      "\n",
      "Test Accuracy: 85.43%\n",
      "GT: dog      | Pred: person   ❌\n",
      "GT: dog      | Pred: dog      ✅\n",
      "GT: dog      | Pred: person   ❌\n",
      "GT: dog      | Pred: dog      ✅\n",
      "GT: dog      | Pred: dog      ✅\n",
      "GT: dog      | Pred: dog      ✅\n",
      "GT: dog      | Pred: dog      ✅\n",
      "GT: dog      | Pred: dog      ✅\n",
      "GT: dog      | Pred: person   ❌\n",
      "GT: dog      | Pred: dog      ✅\n",
      "GT: dog      | Pred: person   ❌\n",
      "GT: dog      | Pred: dog      ✅\n",
      "GT: dog      | Pred: dog      ✅\n",
      "GT: dog      | Pred: dog      ✅\n",
      "GT: dog      | Pred: dog      ✅\n",
      "GT: dog      | Pred: dog      ✅\n",
      "GT: dog      | Pred: person   ❌\n",
      "GT: dog      | Pred: person   ❌\n",
      "GT: dog      | Pred: dog      ✅\n",
      "GT: dog      | Pred: person   ❌\n",
      "GT: dog      | Pred: dog      ✅\n",
      "GT: dog      | Pred: dog      ✅\n",
      "GT: dog      | Pred: dog      ✅\n",
      "GT: dog      | Pred: guitar   ❌\n",
      "GT: dog      | Pred: dog      ✅\n",
      "GT: dog      | Pred: dog      ✅\n",
      "GT: dog      | Pred: dog      ✅\n",
      "GT: dog      | Pred: person   ❌\n",
      "GT: dog      | Pred: dog      ✅\n",
      "GT: dog      | Pred: person   ❌\n",
      "GT: dog      | Pred: dog      ✅\n",
      "GT: dog      | Pred: dog      ✅\n",
      "GT: dog      | Pred: dog      ✅\n",
      "GT: dog      | Pred: person   ❌\n",
      "GT: dog      | Pred: dog      ✅\n",
      "GT: dog      | Pred: horse    ❌\n",
      "GT: dog      | Pred: person   ❌\n",
      "GT: dog      | Pred: dog      ✅\n",
      "GT: dog      | Pred: person   ❌\n",
      "GT: dog      | Pred: dog      ✅\n",
      "GT: dog      | Pred: dog      ✅\n",
      "GT: dog      | Pred: dog      ✅\n",
      "GT: dog      | Pred: dog      ✅\n",
      "GT: dog      | Pred: dog      ✅\n",
      "GT: dog      | Pred: dog      ✅\n",
      "GT: dog      | Pred: dog      ✅\n",
      "GT: dog      | Pred: giraffe  ❌\n",
      "GT: dog      | Pred: dog      ✅\n",
      "GT: dog      | Pred: dog      ✅\n",
      "GT: dog      | Pred: dog      ✅\n",
      "GT: elephant | Pred: dog      ❌\n",
      "GT: elephant | Pred: dog      ❌\n",
      "GT: elephant | Pred: giraffe  ❌\n",
      "GT: elephant | Pred: elephant ✅\n",
      "GT: elephant | Pred: dog      ❌\n",
      "GT: elephant | Pred: elephant ✅\n",
      "GT: elephant | Pred: dog      ❌\n",
      "GT: elephant | Pred: horse    ❌\n",
      "GT: elephant | Pred: person   ❌\n",
      "GT: elephant | Pred: elephant ✅\n",
      "GT: elephant | Pred: elephant ✅\n",
      "GT: elephant | Pred: elephant ✅\n",
      "GT: elephant | Pred: horse    ❌\n",
      "GT: elephant | Pred: elephant ✅\n",
      "GT: elephant | Pred: dog      ❌\n",
      "GT: elephant | Pred: dog      ❌\n",
      "GT: elephant | Pred: horse    ❌\n",
      "GT: elephant | Pred: horse    ❌\n",
      "GT: elephant | Pred: elephant ✅\n",
      "GT: elephant | Pred: elephant ✅\n",
      "GT: elephant | Pred: horse    ❌\n",
      "GT: elephant | Pred: elephant ✅\n",
      "GT: elephant | Pred: dog      ❌\n",
      "GT: elephant | Pred: elephant ✅\n",
      "GT: elephant | Pred: dog      ❌\n",
      "GT: elephant | Pred: elephant ✅\n",
      "GT: elephant | Pred: elephant ✅\n",
      "GT: elephant | Pred: elephant ✅\n",
      "GT: elephant | Pred: elephant ✅\n",
      "GT: elephant | Pred: dog      ❌\n",
      "GT: elephant | Pred: elephant ✅\n",
      "GT: elephant | Pred: dog      ❌\n",
      "GT: elephant | Pred: elephant ✅\n",
      "GT: elephant | Pred: dog      ❌\n",
      "GT: elephant | Pred: horse    ❌\n",
      "GT: elephant | Pred: elephant ✅\n",
      "GT: elephant | Pred: dog      ❌\n",
      "GT: elephant | Pred: elephant ✅\n",
      "GT: elephant | Pred: dog      ❌\n",
      "GT: elephant | Pred: elephant ✅\n",
      "GT: elephant | Pred: dog      ❌\n",
      "GT: elephant | Pred: person   ❌\n",
      "GT: elephant | Pred: horse    ❌\n",
      "GT: elephant | Pred: elephant ✅\n",
      "GT: elephant | Pred: horse    ❌\n",
      "GT: elephant | Pred: elephant ✅\n",
      "GT: elephant | Pred: elephant ✅\n",
      "GT: elephant | Pred: horse    ❌\n",
      "GT: elephant | Pred: person   ❌\n",
      "GT: elephant | Pred: person   ❌\n",
      "GT: giraffe  | Pred: giraffe  ✅\n",
      "GT: giraffe  | Pred: person   ❌\n",
      "GT: giraffe  | Pred: giraffe  ✅\n",
      "GT: giraffe  | Pred: giraffe  ✅\n",
      "GT: giraffe  | Pred: giraffe  ✅\n",
      "GT: giraffe  | Pred: giraffe  ✅\n",
      "GT: giraffe  | Pred: house    ❌\n",
      "GT: giraffe  | Pred: giraffe  ✅\n",
      "GT: giraffe  | Pred: giraffe  ✅\n",
      "GT: giraffe  | Pred: house    ❌\n",
      "GT: giraffe  | Pred: giraffe  ✅\n",
      "GT: giraffe  | Pred: giraffe  ✅\n",
      "GT: giraffe  | Pred: dog      ❌\n",
      "GT: giraffe  | Pred: giraffe  ✅\n",
      "GT: giraffe  | Pred: person   ❌\n",
      "GT: giraffe  | Pred: giraffe  ✅\n",
      "GT: giraffe  | Pred: giraffe  ✅\n",
      "GT: giraffe  | Pred: giraffe  ✅\n",
      "GT: giraffe  | Pred: giraffe  ✅\n",
      "GT: giraffe  | Pred: horse    ❌\n",
      "GT: giraffe  | Pred: house    ❌\n",
      "GT: giraffe  | Pred: giraffe  ✅\n",
      "GT: giraffe  | Pred: giraffe  ✅\n",
      "GT: giraffe  | Pred: giraffe  ✅\n",
      "GT: giraffe  | Pred: giraffe  ✅\n",
      "GT: giraffe  | Pred: dog      ❌\n",
      "GT: giraffe  | Pred: giraffe  ✅\n",
      "GT: giraffe  | Pred: giraffe  ✅\n",
      "GT: giraffe  | Pred: giraffe  ✅\n",
      "GT: giraffe  | Pred: giraffe  ✅\n",
      "GT: giraffe  | Pred: giraffe  ✅\n",
      "GT: giraffe  | Pred: giraffe  ✅\n",
      "GT: giraffe  | Pred: giraffe  ✅\n",
      "GT: giraffe  | Pred: giraffe  ✅\n",
      "GT: giraffe  | Pred: giraffe  ✅\n",
      "GT: giraffe  | Pred: dog      ❌\n",
      "GT: giraffe  | Pred: giraffe  ✅\n",
      "GT: giraffe  | Pred: giraffe  ✅\n",
      "GT: giraffe  | Pred: house    ❌\n",
      "GT: giraffe  | Pred: person   ❌\n",
      "GT: giraffe  | Pred: giraffe  ✅\n",
      "GT: giraffe  | Pred: person   ❌\n",
      "GT: giraffe  | Pred: giraffe  ✅\n",
      "GT: giraffe  | Pred: person   ❌\n",
      "GT: giraffe  | Pred: giraffe  ✅\n",
      "GT: giraffe  | Pred: giraffe  ✅\n",
      "GT: giraffe  | Pred: giraffe  ✅\n",
      "GT: giraffe  | Pred: person   ❌\n",
      "GT: giraffe  | Pred: giraffe  ✅\n",
      "GT: giraffe  | Pred: giraffe  ✅\n",
      "GT: guitar   | Pred: person   ❌\n",
      "GT: guitar   | Pred: guitar   ✅\n",
      "GT: guitar   | Pred: dog      ❌\n",
      "GT: guitar   | Pred: dog      ❌\n",
      "GT: guitar   | Pred: person   ❌\n",
      "GT: guitar   | Pred: dog      ❌\n",
      "GT: guitar   | Pred: guitar   ✅\n",
      "GT: guitar   | Pred: guitar   ✅\n",
      "GT: guitar   | Pred: guitar   ✅\n",
      "GT: guitar   | Pred: guitar   ✅\n",
      "GT: guitar   | Pred: guitar   ✅\n",
      "GT: guitar   | Pred: person   ❌\n",
      "GT: guitar   | Pred: person   ❌\n",
      "GT: guitar   | Pred: guitar   ✅\n",
      "GT: guitar   | Pred: guitar   ✅\n",
      "GT: guitar   | Pred: guitar   ✅\n",
      "GT: guitar   | Pred: guitar   ✅\n",
      "GT: guitar   | Pred: guitar   ✅\n",
      "GT: guitar   | Pred: guitar   ✅\n",
      "GT: guitar   | Pred: guitar   ✅\n",
      "GT: guitar   | Pred: guitar   ✅\n",
      "GT: guitar   | Pred: guitar   ✅\n",
      "GT: guitar   | Pred: guitar   ✅\n",
      "GT: guitar   | Pred: guitar   ✅\n",
      "GT: guitar   | Pred: guitar   ✅\n",
      "GT: guitar   | Pred: guitar   ✅\n",
      "GT: guitar   | Pred: guitar   ✅\n",
      "GT: guitar   | Pred: guitar   ✅\n",
      "GT: guitar   | Pred: guitar   ✅\n",
      "GT: guitar   | Pred: guitar   ✅\n",
      "GT: guitar   | Pred: guitar   ✅\n",
      "GT: guitar   | Pred: guitar   ✅\n",
      "GT: guitar   | Pred: guitar   ✅\n",
      "GT: guitar   | Pred: guitar   ✅\n",
      "GT: guitar   | Pred: guitar   ✅\n",
      "GT: guitar   | Pred: guitar   ✅\n",
      "GT: guitar   | Pred: guitar   ✅\n",
      "GT: guitar   | Pred: guitar   ✅\n",
      "GT: guitar   | Pred: guitar   ✅\n",
      "GT: guitar   | Pred: guitar   ✅\n",
      "GT: guitar   | Pred: dog      ❌\n",
      "GT: guitar   | Pred: dog      ❌\n",
      "GT: guitar   | Pred: guitar   ✅\n",
      "GT: guitar   | Pred: guitar   ✅\n",
      "GT: guitar   | Pred: guitar   ✅\n",
      "GT: guitar   | Pred: person   ❌\n",
      "GT: guitar   | Pred: guitar   ✅\n",
      "GT: guitar   | Pred: guitar   ✅\n",
      "GT: guitar   | Pred: guitar   ✅\n",
      "GT: guitar   | Pred: guitar   ✅\n",
      "GT: horse    | Pred: guitar   ❌\n",
      "GT: horse    | Pred: dog      ❌\n",
      "GT: horse    | Pred: horse    ✅\n",
      "GT: horse    | Pred: elephant ❌\n",
      "GT: horse    | Pred: guitar   ❌\n",
      "GT: horse    | Pred: person   ❌\n",
      "GT: horse    | Pred: dog      ❌\n",
      "GT: horse    | Pred: dog      ❌\n",
      "GT: horse    | Pred: horse    ✅\n",
      "GT: horse    | Pred: dog      ❌\n",
      "GT: horse    | Pred: horse    ✅\n",
      "GT: horse    | Pred: house    ❌\n",
      "GT: horse    | Pred: horse    ✅\n",
      "GT: horse    | Pred: horse    ✅\n",
      "GT: horse    | Pred: horse    ✅\n",
      "GT: horse    | Pred: dog      ❌\n",
      "GT: horse    | Pred: horse    ✅\n",
      "GT: horse    | Pred: guitar   ❌\n",
      "GT: horse    | Pred: horse    ✅\n",
      "GT: horse    | Pred: person   ❌\n",
      "GT: horse    | Pred: guitar   ❌\n",
      "GT: horse    | Pred: person   ❌\n",
      "GT: horse    | Pred: horse    ✅\n",
      "GT: horse    | Pred: horse    ✅\n",
      "GT: horse    | Pred: dog      ❌\n",
      "GT: horse    | Pred: horse    ✅\n",
      "GT: horse    | Pred: person   ❌\n",
      "GT: horse    | Pred: horse    ✅\n",
      "GT: horse    | Pred: horse    ✅\n",
      "GT: horse    | Pred: horse    ✅\n",
      "GT: horse    | Pred: dog      ❌\n",
      "GT: horse    | Pred: dog      ❌\n",
      "GT: horse    | Pred: horse    ✅\n",
      "GT: horse    | Pred: horse    ✅\n",
      "GT: horse    | Pred: horse    ✅\n",
      "GT: horse    | Pred: giraffe  ❌\n",
      "GT: horse    | Pred: horse    ✅\n",
      "GT: horse    | Pred: horse    ✅\n",
      "GT: horse    | Pred: dog      ❌\n",
      "GT: horse    | Pred: dog      ❌\n",
      "GT: horse    | Pred: horse    ✅\n",
      "GT: horse    | Pred: horse    ✅\n",
      "GT: horse    | Pred: horse    ✅\n",
      "GT: horse    | Pred: dog      ❌\n",
      "GT: horse    | Pred: horse    ✅\n",
      "GT: horse    | Pred: dog      ❌\n",
      "GT: horse    | Pred: horse    ✅\n",
      "GT: horse    | Pred: dog      ❌\n",
      "GT: horse    | Pred: dog      ❌\n",
      "GT: horse    | Pred: dog      ❌\n",
      "GT: house    | Pred: house    ✅\n",
      "GT: house    | Pred: house    ✅\n",
      "GT: house    | Pred: person   ❌\n",
      "GT: house    | Pred: dog      ❌\n",
      "GT: house    | Pred: house    ✅\n",
      "GT: house    | Pred: house    ✅\n",
      "GT: house    | Pred: house    ✅\n",
      "GT: house    | Pred: house    ✅\n",
      "GT: house    | Pred: dog      ❌\n",
      "GT: house    | Pred: person   ❌\n",
      "GT: house    | Pred: person   ❌\n",
      "GT: house    | Pred: dog      ❌\n",
      "GT: house    | Pred: guitar   ❌\n",
      "GT: house    | Pred: house    ✅\n",
      "GT: house    | Pred: house    ✅\n",
      "GT: house    | Pred: house    ✅\n",
      "GT: house    | Pred: dog      ❌\n",
      "GT: house    | Pred: house    ✅\n",
      "GT: house    | Pred: house    ✅\n",
      "GT: house    | Pred: house    ✅\n",
      "GT: house    | Pred: house    ✅\n",
      "GT: house    | Pred: house    ✅\n",
      "GT: house    | Pred: dog      ❌\n",
      "GT: house    | Pred: house    ✅\n",
      "GT: house    | Pred: house    ✅\n",
      "GT: house    | Pred: house    ✅\n",
      "GT: house    | Pred: person   ❌\n",
      "GT: house    | Pred: house    ✅\n",
      "GT: house    | Pred: house    ✅\n",
      "GT: house    | Pred: house    ✅\n",
      "GT: house    | Pred: house    ✅\n",
      "GT: house    | Pred: house    ✅\n",
      "GT: house    | Pred: house    ✅\n",
      "GT: house    | Pred: house    ✅\n",
      "GT: house    | Pred: dog      ❌\n",
      "GT: house    | Pred: house    ✅\n",
      "GT: house    | Pred: house    ✅\n",
      "GT: house    | Pred: house    ✅\n",
      "GT: house    | Pred: guitar   ❌\n",
      "GT: house    | Pred: house    ✅\n",
      "GT: house    | Pred: house    ✅\n",
      "GT: house    | Pred: guitar   ❌\n",
      "GT: house    | Pred: house    ✅\n",
      "GT: house    | Pred: house    ✅\n",
      "GT: house    | Pred: dog      ❌\n",
      "GT: house    | Pred: house    ✅\n",
      "GT: house    | Pred: house    ✅\n",
      "GT: house    | Pred: house    ✅\n",
      "GT: house    | Pred: house    ✅\n",
      "GT: house    | Pred: house    ✅\n",
      "GT: person   | Pred: horse    ❌\n",
      "GT: person   | Pred: person   ✅\n",
      "GT: person   | Pred: person   ✅\n",
      "GT: person   | Pred: person   ✅\n",
      "GT: person   | Pred: person   ✅\n",
      "GT: person   | Pred: guitar   ❌\n",
      "GT: person   | Pred: person   ✅\n",
      "GT: person   | Pred: dog      ❌\n",
      "GT: person   | Pred: person   ✅\n",
      "GT: person   | Pred: person   ✅\n",
      "GT: person   | Pred: dog      ❌\n",
      "GT: person   | Pred: person   ✅\n",
      "GT: person   | Pred: person   ✅\n",
      "GT: person   | Pred: person   ✅\n",
      "GT: person   | Pred: person   ✅\n",
      "GT: person   | Pred: person   ✅\n",
      "GT: person   | Pred: dog      ❌\n",
      "GT: person   | Pred: person   ✅\n",
      "GT: person   | Pred: person   ✅\n",
      "GT: person   | Pred: person   ✅\n",
      "GT: person   | Pred: person   ✅\n",
      "GT: person   | Pred: person   ✅\n",
      "GT: person   | Pred: person   ✅\n",
      "GT: person   | Pred: person   ✅\n",
      "GT: person   | Pred: person   ✅\n",
      "GT: person   | Pred: dog      ❌\n",
      "GT: person   | Pred: dog      ❌\n",
      "GT: person   | Pred: dog      ❌\n",
      "GT: person   | Pred: person   ✅\n",
      "GT: person   | Pred: person   ✅\n",
      "GT: person   | Pred: person   ✅\n",
      "GT: person   | Pred: person   ✅\n",
      "GT: person   | Pred: person   ✅\n",
      "GT: person   | Pred: dog      ❌\n",
      "GT: person   | Pred: person   ✅\n",
      "GT: person   | Pred: person   ✅\n",
      "GT: person   | Pred: person   ✅\n",
      "GT: person   | Pred: dog      ❌\n",
      "GT: person   | Pred: person   ✅\n",
      "GT: person   | Pred: dog      ❌\n",
      "GT: person   | Pred: person   ✅\n",
      "GT: person   | Pred: person   ✅\n",
      "GT: person   | Pred: guitar   ❌\n",
      "GT: person   | Pred: person   ✅\n",
      "GT: person   | Pred: dog      ❌\n",
      "GT: person   | Pred: person   ✅\n",
      "GT: person   | Pred: person   ✅\n",
      "GT: person   | Pred: person   ✅\n",
      "GT: person   | Pred: person   ✅\n",
      "GT: person   | Pred: dog      ❌\n",
      "\n",
      "Test Accuracy: 65.43%\n",
      "GT: dog      | Pred: horse    ❌\n",
      "GT: dog      | Pred: dog      ✅\n",
      "GT: dog      | Pred: dog      ✅\n",
      "GT: dog      | Pred: dog      ✅\n",
      "GT: dog      | Pred: dog      ✅\n",
      "GT: dog      | Pred: dog      ✅\n",
      "GT: dog      | Pred: dog      ✅\n",
      "GT: dog      | Pred: dog      ✅\n",
      "GT: dog      | Pred: dog      ✅\n",
      "GT: dog      | Pred: dog      ✅\n",
      "GT: dog      | Pred: dog      ✅\n",
      "GT: dog      | Pred: elephant ❌\n",
      "GT: dog      | Pred: dog      ✅\n",
      "GT: dog      | Pred: dog      ✅\n",
      "GT: dog      | Pred: horse    ❌\n",
      "GT: dog      | Pred: dog      ✅\n",
      "GT: dog      | Pred: dog      ✅\n",
      "GT: dog      | Pred: giraffe  ❌\n",
      "GT: dog      | Pred: giraffe  ❌\n",
      "GT: dog      | Pred: dog      ✅\n",
      "GT: dog      | Pred: dog      ✅\n",
      "GT: dog      | Pred: person   ❌\n",
      "GT: dog      | Pred: dog      ✅\n",
      "GT: dog      | Pred: dog      ✅\n",
      "GT: dog      | Pred: dog      ✅\n",
      "GT: dog      | Pred: dog      ✅\n",
      "GT: dog      | Pred: dog      ✅\n",
      "GT: dog      | Pred: person   ❌\n",
      "GT: dog      | Pred: dog      ✅\n",
      "GT: dog      | Pred: dog      ✅\n",
      "GT: dog      | Pred: dog      ✅\n",
      "GT: dog      | Pred: elephant ❌\n",
      "GT: dog      | Pred: person   ❌\n",
      "GT: dog      | Pred: dog      ✅\n",
      "GT: dog      | Pred: dog      ✅\n",
      "GT: dog      | Pred: dog      ✅\n",
      "GT: dog      | Pred: dog      ✅\n",
      "GT: dog      | Pred: dog      ✅\n",
      "GT: dog      | Pred: dog      ✅\n",
      "GT: dog      | Pred: dog      ✅\n",
      "GT: dog      | Pred: dog      ✅\n",
      "GT: dog      | Pred: dog      ✅\n",
      "GT: dog      | Pred: dog      ✅\n",
      "GT: dog      | Pred: dog      ✅\n",
      "GT: dog      | Pred: person   ❌\n",
      "GT: dog      | Pred: dog      ✅\n",
      "GT: dog      | Pred: giraffe  ❌\n",
      "GT: dog      | Pred: dog      ✅\n",
      "GT: dog      | Pred: dog      ✅\n",
      "GT: dog      | Pred: horse    ❌\n",
      "GT: elephant | Pred: elephant ✅\n",
      "GT: elephant | Pred: person   ❌\n",
      "GT: elephant | Pred: person   ❌\n",
      "GT: elephant | Pred: horse    ❌\n",
      "GT: elephant | Pred: horse    ❌\n",
      "GT: elephant | Pred: elephant ✅\n",
      "GT: elephant | Pred: elephant ✅\n",
      "GT: elephant | Pred: horse    ❌\n",
      "GT: elephant | Pred: person   ❌\n",
      "GT: elephant | Pred: elephant ✅\n",
      "GT: elephant | Pred: elephant ✅\n",
      "GT: elephant | Pred: elephant ✅\n",
      "GT: elephant | Pred: elephant ✅\n",
      "GT: elephant | Pred: elephant ✅\n",
      "GT: elephant | Pred: person   ❌\n",
      "GT: elephant | Pred: horse    ❌\n",
      "GT: elephant | Pred: horse    ❌\n",
      "GT: elephant | Pred: horse    ❌\n",
      "GT: elephant | Pred: elephant ✅\n",
      "GT: elephant | Pred: elephant ✅\n",
      "GT: elephant | Pred: horse    ❌\n",
      "GT: elephant | Pred: elephant ✅\n",
      "GT: elephant | Pred: elephant ✅\n",
      "GT: elephant | Pred: elephant ✅\n",
      "GT: elephant | Pred: dog      ❌\n",
      "GT: elephant | Pred: horse    ❌\n",
      "GT: elephant | Pred: house    ❌\n",
      "GT: elephant | Pred: elephant ✅\n",
      "GT: elephant | Pred: horse    ❌\n",
      "GT: elephant | Pred: elephant ✅\n",
      "GT: elephant | Pred: elephant ✅\n",
      "GT: elephant | Pred: elephant ✅\n",
      "GT: elephant | Pred: person   ❌\n",
      "GT: elephant | Pred: elephant ✅\n",
      "GT: elephant | Pred: dog      ❌\n",
      "GT: elephant | Pred: elephant ✅\n",
      "GT: elephant | Pred: dog      ❌\n",
      "GT: elephant | Pred: dog      ❌\n",
      "GT: elephant | Pred: dog      ❌\n",
      "GT: elephant | Pred: elephant ✅\n",
      "GT: elephant | Pred: elephant ✅\n",
      "GT: elephant | Pred: house    ❌\n",
      "GT: elephant | Pred: dog      ❌\n",
      "GT: elephant | Pred: elephant ✅\n",
      "GT: elephant | Pred: horse    ❌\n",
      "GT: elephant | Pred: horse    ❌\n",
      "GT: elephant | Pred: horse    ❌\n",
      "GT: elephant | Pred: elephant ✅\n",
      "GT: elephant | Pred: elephant ✅\n",
      "GT: elephant | Pred: elephant ✅\n",
      "GT: giraffe  | Pred: giraffe  ✅\n",
      "GT: giraffe  | Pred: giraffe  ✅\n",
      "GT: giraffe  | Pred: giraffe  ✅\n",
      "GT: giraffe  | Pred: giraffe  ✅\n",
      "GT: giraffe  | Pred: giraffe  ✅\n",
      "GT: giraffe  | Pred: giraffe  ✅\n",
      "GT: giraffe  | Pred: house    ❌\n",
      "GT: giraffe  | Pred: giraffe  ✅\n",
      "GT: giraffe  | Pred: house    ❌\n",
      "GT: giraffe  | Pred: house    ❌\n",
      "GT: giraffe  | Pred: giraffe  ✅\n",
      "GT: giraffe  | Pred: giraffe  ✅\n",
      "GT: giraffe  | Pred: giraffe  ✅\n",
      "GT: giraffe  | Pred: giraffe  ✅\n",
      "GT: giraffe  | Pred: house    ❌\n",
      "GT: giraffe  | Pred: guitar   ❌\n",
      "GT: giraffe  | Pred: giraffe  ✅\n",
      "GT: giraffe  | Pred: giraffe  ✅\n",
      "GT: giraffe  | Pred: giraffe  ✅\n",
      "GT: giraffe  | Pred: house    ❌\n",
      "GT: giraffe  | Pred: giraffe  ✅\n",
      "GT: giraffe  | Pred: giraffe  ✅\n",
      "GT: giraffe  | Pred: giraffe  ✅\n",
      "GT: giraffe  | Pred: giraffe  ✅\n",
      "GT: giraffe  | Pred: giraffe  ✅\n",
      "GT: giraffe  | Pred: person   ❌\n",
      "GT: giraffe  | Pred: giraffe  ✅\n",
      "GT: giraffe  | Pred: giraffe  ✅\n",
      "GT: giraffe  | Pred: giraffe  ✅\n",
      "GT: giraffe  | Pred: giraffe  ✅\n",
      "GT: giraffe  | Pred: giraffe  ✅\n",
      "GT: giraffe  | Pred: giraffe  ✅\n",
      "GT: giraffe  | Pred: giraffe  ✅\n",
      "GT: giraffe  | Pred: giraffe  ✅\n",
      "GT: giraffe  | Pred: giraffe  ✅\n",
      "GT: giraffe  | Pred: giraffe  ✅\n",
      "GT: giraffe  | Pred: giraffe  ✅\n",
      "GT: giraffe  | Pred: giraffe  ✅\n",
      "GT: giraffe  | Pred: house    ❌\n",
      "GT: giraffe  | Pred: giraffe  ✅\n",
      "GT: giraffe  | Pred: giraffe  ✅\n",
      "GT: giraffe  | Pred: house    ❌\n",
      "GT: giraffe  | Pred: giraffe  ✅\n",
      "GT: giraffe  | Pred: giraffe  ✅\n",
      "GT: giraffe  | Pred: giraffe  ✅\n",
      "GT: giraffe  | Pred: giraffe  ✅\n",
      "GT: giraffe  | Pred: giraffe  ✅\n",
      "GT: giraffe  | Pred: giraffe  ✅\n",
      "GT: giraffe  | Pred: giraffe  ✅\n",
      "GT: giraffe  | Pred: giraffe  ✅\n",
      "GT: guitar   | Pred: person   ❌\n",
      "GT: guitar   | Pred: guitar   ✅\n",
      "GT: guitar   | Pred: guitar   ✅\n",
      "GT: guitar   | Pred: guitar   ✅\n",
      "GT: guitar   | Pred: guitar   ✅\n",
      "GT: guitar   | Pred: guitar   ✅\n",
      "GT: guitar   | Pred: guitar   ✅\n",
      "GT: guitar   | Pred: person   ❌\n",
      "GT: guitar   | Pred: guitar   ✅\n",
      "GT: guitar   | Pred: guitar   ✅\n",
      "GT: guitar   | Pred: guitar   ✅\n",
      "GT: guitar   | Pred: guitar   ✅\n",
      "GT: guitar   | Pred: guitar   ✅\n",
      "GT: guitar   | Pred: guitar   ✅\n",
      "GT: guitar   | Pred: guitar   ✅\n",
      "GT: guitar   | Pred: guitar   ✅\n",
      "GT: guitar   | Pred: guitar   ✅\n",
      "GT: guitar   | Pred: guitar   ✅\n",
      "GT: guitar   | Pred: guitar   ✅\n",
      "GT: guitar   | Pred: guitar   ✅\n",
      "GT: guitar   | Pred: guitar   ✅\n",
      "GT: guitar   | Pred: guitar   ✅\n",
      "GT: guitar   | Pred: guitar   ✅\n",
      "GT: guitar   | Pred: guitar   ✅\n",
      "GT: guitar   | Pred: guitar   ✅\n",
      "GT: guitar   | Pred: guitar   ✅\n",
      "GT: guitar   | Pred: guitar   ✅\n",
      "GT: guitar   | Pred: guitar   ✅\n",
      "GT: guitar   | Pred: guitar   ✅\n",
      "GT: guitar   | Pred: guitar   ✅\n",
      "GT: guitar   | Pred: guitar   ✅\n",
      "GT: guitar   | Pred: guitar   ✅\n",
      "GT: guitar   | Pred: guitar   ✅\n",
      "GT: guitar   | Pred: guitar   ✅\n",
      "GT: guitar   | Pred: guitar   ✅\n",
      "GT: guitar   | Pred: guitar   ✅\n",
      "GT: guitar   | Pred: guitar   ✅\n",
      "GT: guitar   | Pred: guitar   ✅\n",
      "GT: guitar   | Pred: guitar   ✅\n",
      "GT: guitar   | Pred: guitar   ✅\n",
      "GT: guitar   | Pred: guitar   ✅\n",
      "GT: guitar   | Pred: guitar   ✅\n",
      "GT: guitar   | Pred: guitar   ✅\n",
      "GT: guitar   | Pred: guitar   ✅\n",
      "GT: guitar   | Pred: guitar   ✅\n",
      "GT: guitar   | Pred: guitar   ✅\n",
      "GT: guitar   | Pred: guitar   ✅\n",
      "GT: guitar   | Pred: guitar   ✅\n",
      "GT: guitar   | Pred: guitar   ✅\n",
      "GT: guitar   | Pred: guitar   ✅\n",
      "GT: horse    | Pred: horse    ✅\n",
      "GT: horse    | Pred: person   ❌\n",
      "GT: horse    | Pred: horse    ✅\n",
      "GT: horse    | Pred: horse    ✅\n",
      "GT: horse    | Pred: horse    ✅\n",
      "GT: horse    | Pred: dog      ❌\n",
      "GT: horse    | Pred: horse    ✅\n",
      "GT: horse    | Pred: horse    ✅\n",
      "GT: horse    | Pred: horse    ✅\n",
      "GT: horse    | Pred: dog      ❌\n",
      "GT: horse    | Pred: horse    ✅\n",
      "GT: horse    | Pred: giraffe  ❌\n",
      "GT: horse    | Pred: horse    ✅\n",
      "GT: horse    | Pred: horse    ✅\n",
      "GT: horse    | Pred: horse    ✅\n",
      "GT: horse    | Pred: horse    ✅\n",
      "GT: horse    | Pred: horse    ✅\n",
      "GT: horse    | Pred: person   ❌\n",
      "GT: horse    | Pred: horse    ✅\n",
      "GT: horse    | Pred: person   ❌\n",
      "GT: horse    | Pred: horse    ✅\n",
      "GT: horse    | Pred: dog      ❌\n",
      "GT: horse    | Pred: horse    ✅\n",
      "GT: horse    | Pred: horse    ✅\n",
      "GT: horse    | Pred: dog      ❌\n",
      "GT: horse    | Pred: horse    ✅\n",
      "GT: horse    | Pred: horse    ✅\n",
      "GT: horse    | Pred: person   ❌\n",
      "GT: horse    | Pred: horse    ✅\n",
      "GT: horse    | Pred: horse    ✅\n",
      "GT: horse    | Pred: horse    ✅\n",
      "GT: horse    | Pred: horse    ✅\n",
      "GT: horse    | Pred: horse    ✅\n",
      "GT: horse    | Pred: horse    ✅\n",
      "GT: horse    | Pred: house    ❌\n",
      "GT: horse    | Pred: giraffe  ❌\n",
      "GT: horse    | Pred: horse    ✅\n",
      "GT: horse    | Pred: horse    ✅\n",
      "GT: horse    | Pred: person   ❌\n",
      "GT: horse    | Pred: person   ❌\n",
      "GT: horse    | Pred: horse    ✅\n",
      "GT: horse    | Pred: horse    ✅\n",
      "GT: horse    | Pred: horse    ✅\n",
      "GT: horse    | Pred: horse    ✅\n",
      "GT: horse    | Pred: horse    ✅\n",
      "GT: horse    | Pred: horse    ✅\n",
      "GT: horse    | Pred: horse    ✅\n",
      "GT: horse    | Pred: horse    ✅\n",
      "GT: horse    | Pred: giraffe  ❌\n",
      "GT: horse    | Pred: person   ❌\n",
      "GT: house    | Pred: house    ✅\n",
      "GT: house    | Pred: house    ✅\n",
      "GT: house    | Pred: house    ✅\n",
      "GT: house    | Pred: house    ✅\n",
      "GT: house    | Pred: house    ✅\n",
      "GT: house    | Pred: house    ✅\n",
      "GT: house    | Pred: house    ✅\n",
      "GT: house    | Pred: house    ✅\n",
      "GT: house    | Pred: house    ✅\n",
      "GT: house    | Pred: house    ✅\n",
      "GT: house    | Pred: house    ✅\n",
      "GT: house    | Pred: house    ✅\n",
      "GT: house    | Pred: house    ✅\n",
      "GT: house    | Pred: house    ✅\n",
      "GT: house    | Pred: house    ✅\n",
      "GT: house    | Pred: house    ✅\n",
      "GT: house    | Pred: house    ✅\n",
      "GT: house    | Pred: house    ✅\n",
      "GT: house    | Pred: house    ✅\n",
      "GT: house    | Pred: house    ✅\n",
      "GT: house    | Pred: house    ✅\n",
      "GT: house    | Pred: house    ✅\n",
      "GT: house    | Pred: house    ✅\n",
      "GT: house    | Pred: house    ✅\n",
      "GT: house    | Pred: house    ✅\n",
      "GT: house    | Pred: house    ✅\n",
      "GT: house    | Pred: house    ✅\n",
      "GT: house    | Pred: house    ✅\n",
      "GT: house    | Pred: house    ✅\n",
      "GT: house    | Pred: house    ✅\n",
      "GT: house    | Pred: house    ✅\n",
      "GT: house    | Pred: house    ✅\n",
      "GT: house    | Pred: house    ✅\n",
      "GT: house    | Pred: house    ✅\n",
      "GT: house    | Pred: house    ✅\n",
      "GT: house    | Pred: house    ✅\n",
      "GT: house    | Pred: house    ✅\n",
      "GT: house    | Pred: house    ✅\n",
      "GT: house    | Pred: house    ✅\n",
      "GT: house    | Pred: house    ✅\n",
      "GT: house    | Pred: house    ✅\n",
      "GT: house    | Pred: house    ✅\n",
      "GT: house    | Pred: house    ✅\n",
      "GT: house    | Pred: house    ✅\n",
      "GT: house    | Pred: house    ✅\n",
      "GT: house    | Pred: house    ✅\n",
      "GT: house    | Pred: house    ✅\n",
      "GT: house    | Pred: house    ✅\n",
      "GT: house    | Pred: house    ✅\n",
      "GT: house    | Pred: house    ✅\n",
      "GT: person   | Pred: person   ✅\n",
      "GT: person   | Pred: person   ✅\n",
      "GT: person   | Pred: person   ✅\n",
      "GT: person   | Pred: person   ✅\n",
      "GT: person   | Pred: person   ✅\n",
      "GT: person   | Pred: person   ✅\n",
      "GT: person   | Pred: house    ❌\n",
      "GT: person   | Pred: person   ✅\n",
      "GT: person   | Pred: person   ✅\n",
      "GT: person   | Pred: person   ✅\n",
      "GT: person   | Pred: person   ✅\n",
      "GT: person   | Pred: person   ✅\n",
      "GT: person   | Pred: person   ✅\n",
      "GT: person   | Pred: person   ✅\n",
      "GT: person   | Pred: person   ✅\n",
      "GT: person   | Pred: person   ✅\n",
      "GT: person   | Pred: person   ✅\n",
      "GT: person   | Pred: person   ✅\n",
      "GT: person   | Pred: person   ✅\n",
      "GT: person   | Pred: person   ✅\n",
      "GT: person   | Pred: person   ✅\n",
      "GT: person   | Pred: person   ✅\n",
      "GT: person   | Pred: person   ✅\n",
      "GT: person   | Pred: person   ✅\n",
      "GT: person   | Pred: person   ✅\n",
      "GT: person   | Pred: person   ✅\n",
      "GT: person   | Pred: person   ✅\n",
      "GT: person   | Pred: person   ✅\n",
      "GT: person   | Pred: person   ✅\n",
      "GT: person   | Pred: person   ✅\n",
      "GT: person   | Pred: person   ✅\n",
      "GT: person   | Pred: person   ✅\n",
      "GT: person   | Pred: person   ✅\n",
      "GT: person   | Pred: person   ✅\n",
      "GT: person   | Pred: person   ✅\n",
      "GT: person   | Pred: person   ✅\n",
      "GT: person   | Pred: person   ✅\n",
      "GT: person   | Pred: person   ✅\n",
      "GT: person   | Pred: person   ✅\n",
      "GT: person   | Pred: person   ✅\n",
      "GT: person   | Pred: person   ✅\n",
      "GT: person   | Pred: person   ✅\n",
      "GT: person   | Pred: person   ✅\n",
      "GT: person   | Pred: person   ✅\n",
      "GT: person   | Pred: person   ✅\n",
      "GT: person   | Pred: person   ✅\n",
      "GT: person   | Pred: person   ✅\n",
      "GT: person   | Pred: person   ✅\n",
      "GT: person   | Pred: person   ✅\n",
      "GT: person   | Pred: person   ✅\n",
      "\n",
      "Test Accuracy: 81.71%\n",
      "\n",
      "=== Test Accuracy Results ===\n",
      "./010_model.pth_base: 0.79%\n",
      "./010_model.pth_mmd: 0.73%\n",
      "./010_model.pth_fact: 0.85%\n",
      "./010_model.pth_fpjgc: 0.65%\n",
      "./010_model.pth_lapar: 0.82%\n"
     ]
    }
   ],
   "source": [
    "# Load model\n",
    "model_list = ['base', 'mmd', 'fact', 'fpjgc', 'lapar']\n",
    "model_paths = [f'./{model_name}_{variant}' for variant in model_list]\n",
    "device = torch.device('cuda' if torch.cuda.is_available() else 'cpu')\n",
    "\n",
    "test_accuracies = []\n",
    "\n",
    "for model_path in model_paths:\n",
    "    if 'mmd' in model_path:\n",
    "        model = ResNetWithFeatures(num_classes=7)\n",
    "    else:\n",
    "        model = models.resnet50(weights='ResNet50_Weights.DEFAULT')  # ✅ pretrained=True와 동일\n",
    "        num_features = model.fc.in_features\n",
    "        model.fc = torch.nn.Linear(num_features, 7)  # ✅ PACS용 7개 클래스 출력\n",
    "\n",
    "    state_dict = torch.load(model_path)   # ✅ weights_only 제거\n",
    "    model.load_state_dict(state_dict)\n",
    "    model.eval()\n",
    "    model.to(device)\n",
    "\n",
    "    acc = evaluate_curated_pacs(model)\n",
    "    test_accuracies.append((model_path, acc))\n",
    "\n",
    "print(\"\\n=== Test Accuracy Results ===\")\n",
    "for path, acc in test_accuracies:\n",
    "    print(f\"{path}: {acc:.2f}%\")"
   ]
  },
  {
   "cell_type": "markdown",
   "metadata": {},
   "source": [
    "# TA Test"
   ]
  },
  {
   "cell_type": "code",
   "execution_count": null,
   "metadata": {},
   "outputs": [],
   "source": [
    "# Test code - DO NOT RUN, and DO NOT MODIFY.\n",
    "# TAs will evaluate your model using their curated dataset.\n",
    "if TEST_MODE:\n",
    "\tdel model\n",
    "\tmodel = models.resnet50()\n",
    "\tmodel.load_state_dict(torch.load(f'./{model_name}'))\n",
    "\t\n",
    "\troot_dir_test = '/work/datasets/CuratedPACS'\n",
    "\n",
    "\tclass CustomDataset(Dataset):\n",
    "\t\tdef __init__(self, root_dir, transform=None):\n",
    "\t\t\tself.root_dir = root_dir\n",
    "\t\t\tself.transform = transform\n",
    "\t\t\tself.images = []\n",
    "\t\t\tself.labels = []\n",
    "\t\t\tself.class_to_idx = {'dog': 0, 'elephant': 1, 'giraffe': 2, 'guitar': 3, 'horse': 4, 'house': 5, 'person': 6}\n",
    "\t\t\tself.idx_to_class = {v: k for k, v in self.class_to_idx.items()}\n",
    "\t\t\tfor cls_name in self.class_to_idx.keys:\n",
    "\t\t\t\tcls_dir = os.path.join(self.root_dir, cls_name)\n",
    "\t\t\t\tfor img_name in os.listdir(cls_dir):\n",
    "\t\t\t\t\tself.images.append(os.path.join(cls_dir, img_name))\n",
    "\t\t\t\t\tself.labels.append(self.class_to_idx[cls_name])\n",
    "\t\t\t\n",
    "\t\tdef __len__(self):\n",
    "\t\t\treturn len(self.images)\n",
    "\n",
    "\tdataset_test = CustomDataset(root_dir, transform=transform_test)\n",
    "\n",
    "\t# Peform test with the test dataset\n",
    "\tcorrect = 0\n",
    "\ttotal = 0\n",
    "\twith torch.no_grad():\n",
    "\t\tfor inputs, labels in loader_test:\n",
    "\t\t\tinputs, labels = inputs.to(device), labels.to(device)\n",
    "\t\t\toutputs = model(inputs)\n",
    "\t\t\t_, predicted = outputs.max(1)\n",
    "\t\t\ttotal += labels.size(0)\n",
    "\t\t\tcorrect += predicted.eq(labels).sum().item()\n",
    "\n",
    "\tprint(f'Test Accuracy: {100 * correct / total:.2f}%')"
   ]
  }
 ],
 "metadata": {
  "kernelspec": {
   "display_name": "Python 3",
   "language": "python",
   "name": "python3"
  },
  "language_info": {
   "codemirror_mode": {
    "name": "ipython",
    "version": 3
   },
   "file_extension": ".py",
   "mimetype": "text/x-python",
   "name": "python",
   "nbconvert_exporter": "python",
   "pygments_lexer": "ipython3",
   "version": "3.10.12"
  }
 },
 "nbformat": 4,
 "nbformat_minor": 2
}
